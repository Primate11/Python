{
 "cells": [
  {
   "cell_type": "markdown",
   "id": "ac1573b1",
   "metadata": {},
   "source": [
    "# Bicycle sales data analysis using python Pandas.\n",
    "### Sales analysis for bicycle accessories at a global level. \n",
    "\n",
    "> **Project: Go through 6 years sales data step by step to Understand the data and get insights on bicycle sales using python.\n",
    "With this project, I am not aiming to provide complete analysis of the data but to test the different data analysis features in  pandas."
   ]
  },
  {
   "cell_type": "code",
   "execution_count": 2,
   "id": "7e53f5cc",
   "metadata": {},
   "outputs": [],
   "source": [
    "#Upload of the packages/libraries I need for the analysis\n",
    "import numpy as np\n",
    "import pandas as pd\n",
    "import matplotlib.pyplot as plt\n",
    "import seaborn as sns\n",
    "import matplotlib as mpl\n",
    "%matplotlib inline\n",
    "\n"
   ]
  },
  {
   "cell_type": "code",
   "execution_count": 4,
   "id": "63386703",
   "metadata": {},
   "outputs": [],
   "source": [
    "#Upload the excel file from my PC\n",
    "bike_sales = pd.read_excel(r'C:\\Users\\igieo\\Desktop\\DA Trains\\SALES DATA\\Bycicle_sales\\sales_data.xlsx',parse_dates=['Date'])\n"
   ]
  },
  {
   "cell_type": "markdown",
   "id": "aed40e23",
   "metadata": {},
   "source": [
    "> **The first step is to take a quick look at the data, shape, stats, and categories. "
   ]
  },
  {
   "cell_type": "code",
   "execution_count": 5,
   "id": "24e706f4",
   "metadata": {},
   "outputs": [
    {
     "data": {
      "text/html": [
       "<div>\n",
       "<style scoped>\n",
       "    .dataframe tbody tr th:only-of-type {\n",
       "        vertical-align: middle;\n",
       "    }\n",
       "\n",
       "    .dataframe tbody tr th {\n",
       "        vertical-align: top;\n",
       "    }\n",
       "\n",
       "    .dataframe thead th {\n",
       "        text-align: right;\n",
       "    }\n",
       "</style>\n",
       "<table border=\"1\" class=\"dataframe\">\n",
       "  <thead>\n",
       "    <tr style=\"text-align: right;\">\n",
       "      <th></th>\n",
       "      <th>Date</th>\n",
       "      <th>Day</th>\n",
       "      <th>Month</th>\n",
       "      <th>Year</th>\n",
       "      <th>Customer_Age</th>\n",
       "      <th>Age_Group</th>\n",
       "      <th>Customer_Gender</th>\n",
       "      <th>Country</th>\n",
       "      <th>State</th>\n",
       "      <th>Product_Category</th>\n",
       "      <th>Sub_Category</th>\n",
       "      <th>Product</th>\n",
       "      <th>Order_Quantity</th>\n",
       "      <th>Unit_Cost</th>\n",
       "      <th>Unit_Price</th>\n",
       "      <th>Profit</th>\n",
       "      <th>Cost</th>\n",
       "      <th>Revenue</th>\n",
       "    </tr>\n",
       "  </thead>\n",
       "  <tbody>\n",
       "    <tr>\n",
       "      <th>0</th>\n",
       "      <td>2013-11-26</td>\n",
       "      <td>26.0</td>\n",
       "      <td>November</td>\n",
       "      <td>2013.0</td>\n",
       "      <td>19.0</td>\n",
       "      <td>Youth (&lt;25)</td>\n",
       "      <td>M</td>\n",
       "      <td>Canada</td>\n",
       "      <td>British Columbia</td>\n",
       "      <td>Accessories</td>\n",
       "      <td>Bike Racks</td>\n",
       "      <td>Hitch Rack - 4-Bike</td>\n",
       "      <td>8.0</td>\n",
       "      <td>45.0</td>\n",
       "      <td>120.0</td>\n",
       "      <td>590.0</td>\n",
       "      <td>360.0</td>\n",
       "      <td>950.0</td>\n",
       "    </tr>\n",
       "    <tr>\n",
       "      <th>1</th>\n",
       "      <td>2015-11-26</td>\n",
       "      <td>26.0</td>\n",
       "      <td>November</td>\n",
       "      <td>2015.0</td>\n",
       "      <td>19.0</td>\n",
       "      <td>Youth (&lt;25)</td>\n",
       "      <td>M</td>\n",
       "      <td>Canada</td>\n",
       "      <td>British Columbia</td>\n",
       "      <td>Accessories</td>\n",
       "      <td>Bike Racks</td>\n",
       "      <td>Hitch Rack - 4-Bike</td>\n",
       "      <td>8.0</td>\n",
       "      <td>45.0</td>\n",
       "      <td>120.0</td>\n",
       "      <td>590.0</td>\n",
       "      <td>360.0</td>\n",
       "      <td>950.0</td>\n",
       "    </tr>\n",
       "    <tr>\n",
       "      <th>2</th>\n",
       "      <td>2014-03-23</td>\n",
       "      <td>23.0</td>\n",
       "      <td>March</td>\n",
       "      <td>2014.0</td>\n",
       "      <td>49.0</td>\n",
       "      <td>Adults (35-64)</td>\n",
       "      <td>M</td>\n",
       "      <td>Australia</td>\n",
       "      <td>New South Wales</td>\n",
       "      <td>Accessories</td>\n",
       "      <td>Bike Racks</td>\n",
       "      <td>Hitch Rack - 4-Bike</td>\n",
       "      <td>23.0</td>\n",
       "      <td>45.0</td>\n",
       "      <td>120.0</td>\n",
       "      <td>1366.0</td>\n",
       "      <td>1035.0</td>\n",
       "      <td>2401.0</td>\n",
       "    </tr>\n",
       "    <tr>\n",
       "      <th>3</th>\n",
       "      <td>2016-03-23</td>\n",
       "      <td>23.0</td>\n",
       "      <td>March</td>\n",
       "      <td>2016.0</td>\n",
       "      <td>49.0</td>\n",
       "      <td>Adults (35-64)</td>\n",
       "      <td>M</td>\n",
       "      <td>Australia</td>\n",
       "      <td>New South Wales</td>\n",
       "      <td>Accessories</td>\n",
       "      <td>Bike Racks</td>\n",
       "      <td>Hitch Rack - 4-Bike</td>\n",
       "      <td>20.0</td>\n",
       "      <td>45.0</td>\n",
       "      <td>120.0</td>\n",
       "      <td>1188.0</td>\n",
       "      <td>900.0</td>\n",
       "      <td>2088.0</td>\n",
       "    </tr>\n",
       "    <tr>\n",
       "      <th>4</th>\n",
       "      <td>2014-05-15</td>\n",
       "      <td>15.0</td>\n",
       "      <td>May</td>\n",
       "      <td>2014.0</td>\n",
       "      <td>47.0</td>\n",
       "      <td>Adults (35-64)</td>\n",
       "      <td>F</td>\n",
       "      <td>Australia</td>\n",
       "      <td>New South Wales</td>\n",
       "      <td>Accessories</td>\n",
       "      <td>Bike Racks</td>\n",
       "      <td>Hitch Rack - 4-Bike</td>\n",
       "      <td>4.0</td>\n",
       "      <td>45.0</td>\n",
       "      <td>120.0</td>\n",
       "      <td>238.0</td>\n",
       "      <td>180.0</td>\n",
       "      <td>418.0</td>\n",
       "    </tr>\n",
       "  </tbody>\n",
       "</table>\n",
       "</div>"
      ],
      "text/plain": [
       "        Date   Day     Month    Year  Customer_Age       Age_Group  \\\n",
       "0 2013-11-26  26.0  November  2013.0          19.0     Youth (<25)   \n",
       "1 2015-11-26  26.0  November  2015.0          19.0     Youth (<25)   \n",
       "2 2014-03-23  23.0     March  2014.0          49.0  Adults (35-64)   \n",
       "3 2016-03-23  23.0     March  2016.0          49.0  Adults (35-64)   \n",
       "4 2014-05-15  15.0       May  2014.0          47.0  Adults (35-64)   \n",
       "\n",
       "  Customer_Gender    Country             State Product_Category Sub_Category  \\\n",
       "0               M     Canada  British Columbia      Accessories   Bike Racks   \n",
       "1               M     Canada  British Columbia      Accessories   Bike Racks   \n",
       "2               M  Australia   New South Wales      Accessories   Bike Racks   \n",
       "3               M  Australia   New South Wales      Accessories   Bike Racks   \n",
       "4               F  Australia   New South Wales      Accessories   Bike Racks   \n",
       "\n",
       "               Product  Order_Quantity  Unit_Cost  Unit_Price  Profit    Cost  \\\n",
       "0  Hitch Rack - 4-Bike             8.0       45.0       120.0   590.0   360.0   \n",
       "1  Hitch Rack - 4-Bike             8.0       45.0       120.0   590.0   360.0   \n",
       "2  Hitch Rack - 4-Bike            23.0       45.0       120.0  1366.0  1035.0   \n",
       "3  Hitch Rack - 4-Bike            20.0       45.0       120.0  1188.0   900.0   \n",
       "4  Hitch Rack - 4-Bike             4.0       45.0       120.0   238.0   180.0   \n",
       "\n",
       "   Revenue  \n",
       "0    950.0  \n",
       "1    950.0  \n",
       "2   2401.0  \n",
       "3   2088.0  \n",
       "4    418.0  "
      ]
     },
     "execution_count": 5,
     "metadata": {},
     "output_type": "execute_result"
    }
   ],
   "source": [
    "#A glance at the data\n",
    "bike_sales.head()"
   ]
  },
  {
   "cell_type": "code",
   "execution_count": 6,
   "id": "7aa8440a",
   "metadata": {},
   "outputs": [
    {
     "name": "stdout",
     "output_type": "stream",
     "text": [
      "<class 'pandas.core.frame.DataFrame'>\n",
      "RangeIndex: 113036 entries, 0 to 113035\n",
      "Data columns (total 18 columns):\n",
      " #   Column            Non-Null Count   Dtype         \n",
      "---  ------            --------------   -----         \n",
      " 0   Date              113036 non-null  datetime64[ns]\n",
      " 1   Day               113036 non-null  float64       \n",
      " 2   Month             113036 non-null  object        \n",
      " 3   Year              113036 non-null  float64       \n",
      " 4   Customer_Age      113036 non-null  float64       \n",
      " 5   Age_Group         113036 non-null  object        \n",
      " 6   Customer_Gender   113036 non-null  object        \n",
      " 7   Country           113036 non-null  object        \n",
      " 8   State             113036 non-null  object        \n",
      " 9   Product_Category  113036 non-null  object        \n",
      " 10  Sub_Category      113036 non-null  object        \n",
      " 11  Product           113036 non-null  object        \n",
      " 12  Order_Quantity    113036 non-null  float64       \n",
      " 13  Unit_Cost         113036 non-null  float64       \n",
      " 14  Unit_Price        113036 non-null  float64       \n",
      " 15  Profit            113036 non-null  float64       \n",
      " 16  Cost              113036 non-null  float64       \n",
      " 17  Revenue           113036 non-null  float64       \n",
      "dtypes: datetime64[ns](1), float64(9), object(8)\n",
      "memory usage: 15.5+ MB\n"
     ]
    }
   ],
   "source": [
    "#Columns and data types in the data\n",
    "bike_sales.info()\n"
   ]
  },
  {
   "cell_type": "code",
   "execution_count": 7,
   "id": "0546796a",
   "metadata": {},
   "outputs": [
    {
     "data": {
      "text/html": [
       "<div>\n",
       "<style scoped>\n",
       "    .dataframe tbody tr th:only-of-type {\n",
       "        vertical-align: middle;\n",
       "    }\n",
       "\n",
       "    .dataframe tbody tr th {\n",
       "        vertical-align: top;\n",
       "    }\n",
       "\n",
       "    .dataframe thead th {\n",
       "        text-align: right;\n",
       "    }\n",
       "</style>\n",
       "<table border=\"1\" class=\"dataframe\">\n",
       "  <thead>\n",
       "    <tr style=\"text-align: right;\">\n",
       "      <th></th>\n",
       "      <th>Day</th>\n",
       "      <th>Year</th>\n",
       "      <th>Customer_Age</th>\n",
       "      <th>Order_Quantity</th>\n",
       "      <th>Unit_Cost</th>\n",
       "      <th>Unit_Price</th>\n",
       "      <th>Profit</th>\n",
       "      <th>Cost</th>\n",
       "      <th>Revenue</th>\n",
       "    </tr>\n",
       "  </thead>\n",
       "  <tbody>\n",
       "    <tr>\n",
       "      <th>count</th>\n",
       "      <td>113036.000000</td>\n",
       "      <td>113036.000000</td>\n",
       "      <td>113036.000000</td>\n",
       "      <td>113036.000000</td>\n",
       "      <td>113036.000000</td>\n",
       "      <td>113036.000000</td>\n",
       "      <td>113036.000000</td>\n",
       "      <td>113036.000000</td>\n",
       "      <td>113036.000000</td>\n",
       "    </tr>\n",
       "    <tr>\n",
       "      <th>mean</th>\n",
       "      <td>15.665753</td>\n",
       "      <td>2014.401739</td>\n",
       "      <td>35.919212</td>\n",
       "      <td>11.901660</td>\n",
       "      <td>267.296366</td>\n",
       "      <td>452.938427</td>\n",
       "      <td>285.051665</td>\n",
       "      <td>469.318695</td>\n",
       "      <td>754.370360</td>\n",
       "    </tr>\n",
       "    <tr>\n",
       "      <th>std</th>\n",
       "      <td>8.781567</td>\n",
       "      <td>1.272510</td>\n",
       "      <td>11.021936</td>\n",
       "      <td>9.561857</td>\n",
       "      <td>549.835483</td>\n",
       "      <td>922.071219</td>\n",
       "      <td>453.887443</td>\n",
       "      <td>884.866118</td>\n",
       "      <td>1309.094674</td>\n",
       "    </tr>\n",
       "    <tr>\n",
       "      <th>min</th>\n",
       "      <td>1.000000</td>\n",
       "      <td>2011.000000</td>\n",
       "      <td>17.000000</td>\n",
       "      <td>1.000000</td>\n",
       "      <td>1.000000</td>\n",
       "      <td>2.000000</td>\n",
       "      <td>-30.000000</td>\n",
       "      <td>1.000000</td>\n",
       "      <td>2.000000</td>\n",
       "    </tr>\n",
       "    <tr>\n",
       "      <th>25%</th>\n",
       "      <td>8.000000</td>\n",
       "      <td>2013.000000</td>\n",
       "      <td>28.000000</td>\n",
       "      <td>2.000000</td>\n",
       "      <td>2.000000</td>\n",
       "      <td>5.000000</td>\n",
       "      <td>29.000000</td>\n",
       "      <td>28.000000</td>\n",
       "      <td>63.000000</td>\n",
       "    </tr>\n",
       "    <tr>\n",
       "      <th>50%</th>\n",
       "      <td>16.000000</td>\n",
       "      <td>2014.000000</td>\n",
       "      <td>35.000000</td>\n",
       "      <td>10.000000</td>\n",
       "      <td>9.000000</td>\n",
       "      <td>24.000000</td>\n",
       "      <td>101.000000</td>\n",
       "      <td>108.000000</td>\n",
       "      <td>223.000000</td>\n",
       "    </tr>\n",
       "    <tr>\n",
       "      <th>75%</th>\n",
       "      <td>23.000000</td>\n",
       "      <td>2016.000000</td>\n",
       "      <td>43.000000</td>\n",
       "      <td>20.000000</td>\n",
       "      <td>42.000000</td>\n",
       "      <td>70.000000</td>\n",
       "      <td>358.000000</td>\n",
       "      <td>432.000000</td>\n",
       "      <td>800.000000</td>\n",
       "    </tr>\n",
       "    <tr>\n",
       "      <th>max</th>\n",
       "      <td>31.000000</td>\n",
       "      <td>2016.000000</td>\n",
       "      <td>87.000000</td>\n",
       "      <td>32.000000</td>\n",
       "      <td>2171.000000</td>\n",
       "      <td>3578.000000</td>\n",
       "      <td>15096.000000</td>\n",
       "      <td>42978.000000</td>\n",
       "      <td>58074.000000</td>\n",
       "    </tr>\n",
       "  </tbody>\n",
       "</table>\n",
       "</div>"
      ],
      "text/plain": [
       "                 Day           Year   Customer_Age  Order_Quantity  \\\n",
       "count  113036.000000  113036.000000  113036.000000   113036.000000   \n",
       "mean       15.665753    2014.401739      35.919212       11.901660   \n",
       "std         8.781567       1.272510      11.021936        9.561857   \n",
       "min         1.000000    2011.000000      17.000000        1.000000   \n",
       "25%         8.000000    2013.000000      28.000000        2.000000   \n",
       "50%        16.000000    2014.000000      35.000000       10.000000   \n",
       "75%        23.000000    2016.000000      43.000000       20.000000   \n",
       "max        31.000000    2016.000000      87.000000       32.000000   \n",
       "\n",
       "           Unit_Cost     Unit_Price         Profit           Cost  \\\n",
       "count  113036.000000  113036.000000  113036.000000  113036.000000   \n",
       "mean      267.296366     452.938427     285.051665     469.318695   \n",
       "std       549.835483     922.071219     453.887443     884.866118   \n",
       "min         1.000000       2.000000     -30.000000       1.000000   \n",
       "25%         2.000000       5.000000      29.000000      28.000000   \n",
       "50%         9.000000      24.000000     101.000000     108.000000   \n",
       "75%        42.000000      70.000000     358.000000     432.000000   \n",
       "max      2171.000000    3578.000000   15096.000000   42978.000000   \n",
       "\n",
       "             Revenue  \n",
       "count  113036.000000  \n",
       "mean      754.370360  \n",
       "std      1309.094674  \n",
       "min         2.000000  \n",
       "25%        63.000000  \n",
       "50%       223.000000  \n",
       "75%       800.000000  \n",
       "max     58074.000000  "
      ]
     },
     "execution_count": 7,
     "metadata": {},
     "output_type": "execute_result"
    }
   ],
   "source": [
    "#The data summary/statistics\n",
    "bike_sales.describe()"
   ]
  },
  {
   "cell_type": "code",
   "execution_count": 8,
   "id": "37153754",
   "metadata": {},
   "outputs": [
    {
     "data": {
      "text/plain": [
       "(113036, 18)"
      ]
     },
     "execution_count": 8,
     "metadata": {},
     "output_type": "execute_result"
    }
   ],
   "source": [
    "#Get the numbers of rows and columns\n",
    "bike_sales.shape"
   ]
  },
  {
   "cell_type": "markdown",
   "id": "e87851b3",
   "metadata": {},
   "source": [
    "#### Applying pivot tables to get the summaries of the sales data"
   ]
  },
  {
   "cell_type": "code",
   "execution_count": 11,
   "id": "7b13acdc",
   "metadata": {},
   "outputs": [],
   "source": [
    "#Formatting for pivot tables\n",
    "\n",
    "cell_hover = {  # for row hover use <tr> instead of <td>\n",
    "    'selector': 'td:hover',\n",
    "    'props': [('background-color', '#ffffb3')]\n",
    "}\n",
    "index_names = {\n",
    "    'selector': '.index_name',\n",
    "    'props': 'font-style: italic; color: darkgrey; font-weight:normal;'\n",
    "}\n",
    "headers = {\n",
    "    'selector': 'th:not(.index_name)',\n",
    "    'props': 'background-color: #000066; color: white;'\n",
    "}\n"
   ]
  },
  {
   "cell_type": "code",
   "execution_count": 12,
   "id": "b45e7c29",
   "metadata": {},
   "outputs": [
    {
     "data": {
      "text/html": [
       "<style type=\"text/css\">\n",
       "#T_bcb3f td:hover {\n",
       "  background-color: #ffffb3;\n",
       "}\n",
       "#T_bcb3f .index_name {\n",
       "  font-style: italic;\n",
       "  color: darkgrey;\n",
       "  font-weight: normal;\n",
       "}\n",
       "#T_bcb3f th:not(.index_name) {\n",
       "  background-color: #000066;\n",
       "  color: white;\n",
       "}\n",
       "#T_bcb3f th.col_heading {\n",
       "  text-align: center;\n",
       "}\n",
       "#T_bcb3f th.col_heading.level0 {\n",
       "  font-size: 1.5em;\n",
       "}\n",
       "#T_bcb3f td {\n",
       "  text-align: center;\n",
       "  font-weight: bold;\n",
       "}\n",
       "#T_bcb3f th.col-1 {\n",
       "  border-left: 1px solid white;\n",
       "}\n",
       "#T_bcb3f td.col-1 {\n",
       "  border-left: 1px solid #000066;\n",
       "}\n",
       "</style>\n",
       "<table id=\"T_bcb3f\">\n",
       "  <thead>\n",
       "    <tr>\n",
       "      <th class=\"index_name level0\" >Product_Category</th>\n",
       "      <th id=\"T_bcb3f_level0_col0\" class=\"col_heading level0 col0\" >Accessories</th>\n",
       "      <th id=\"T_bcb3f_level0_col1\" class=\"col_heading level0 col1\" >Bikes</th>\n",
       "      <th id=\"T_bcb3f_level0_col2\" class=\"col_heading level0 col2\" >Clothing</th>\n",
       "    </tr>\n",
       "    <tr>\n",
       "      <th class=\"index_name level0\" >Age_Group</th>\n",
       "      <th class=\"blank col0\" >&nbsp;</th>\n",
       "      <th class=\"blank col1\" >&nbsp;</th>\n",
       "      <th class=\"blank col2\" >&nbsp;</th>\n",
       "    </tr>\n",
       "  </thead>\n",
       "  <tbody>\n",
       "    <tr>\n",
       "      <th id=\"T_bcb3f_level0_row0\" class=\"row_heading level0 row0\" >Adults (35-64)</th>\n",
       "      <td id=\"T_bcb3f_row0_col0\" class=\"data row0 col0\" >7 846 731</td>\n",
       "      <td id=\"T_bcb3f_row0_col1\" class=\"data row0 col1\" >30 336 167</td>\n",
       "      <td id=\"T_bcb3f_row0_col2\" class=\"data row0 col2\" >4 401 255</td>\n",
       "    </tr>\n",
       "    <tr>\n",
       "      <th id=\"T_bcb3f_level0_row1\" class=\"row_heading level0 row1\" >Seniors (64+)</th>\n",
       "      <td id=\"T_bcb3f_row1_col0\" class=\"data row1 col0\" >124 754</td>\n",
       "      <td id=\"T_bcb3f_row1_col1\" class=\"data row1 col1\" >135 059</td>\n",
       "      <td id=\"T_bcb3f_row1_col2\" class=\"data row1 col2\" >48 229</td>\n",
       "    </tr>\n",
       "    <tr>\n",
       "      <th id=\"T_bcb3f_level0_row2\" class=\"row_heading level0 row2\" >Young Adults (25-34)</th>\n",
       "      <td id=\"T_bcb3f_row2_col0\" class=\"data row2 col0\" >4 998 941</td>\n",
       "      <td id=\"T_bcb3f_row2_col1\" class=\"data row2 col1\" >22 915 556</td>\n",
       "      <td id=\"T_bcb3f_row2_col2\" class=\"data row2 col2\" >2 741 117</td>\n",
       "    </tr>\n",
       "    <tr>\n",
       "      <th id=\"T_bcb3f_level0_row3\" class=\"row_heading level0 row3\" >Youth (<25)</th>\n",
       "      <td id=\"T_bcb3f_row3_col0\" class=\"data row3 col0\" >2 147 566</td>\n",
       "      <td id=\"T_bcb3f_row3_col1\" class=\"data row3 col1\" >8 395 352</td>\n",
       "      <td id=\"T_bcb3f_row3_col2\" class=\"data row3 col2\" >1 180 281</td>\n",
       "    </tr>\n",
       "  </tbody>\n",
       "</table>\n"
      ],
      "text/plain": [
       "<pandas.io.formats.style.Styler at 0x28f4d1cffa0>"
      ]
     },
     "execution_count": 12,
     "metadata": {},
     "output_type": "execute_result"
    }
   ],
   "source": [
    "#first pivot table \n",
    "pivot_tab = bike_sales.pivot_table(index = 'Age_Group',columns = 'Product_Category',values = 'Revenue',aggfunc = 'sum')\n",
    "\n",
    "\n",
    "#Formats for the pivot table\n",
    "pvt = pivot_tab.style.format(precision=0, na_rep='NA', thousands=\" \",\n",
    "                formatter={('Accessories', 'Bikes', 'Clothing'): lambda x: \"€ {:,.2f}\".format(x*-1e6)\n",
    "                          })\n",
    "pvt.set_table_styles([cell_hover, index_names, headers])\n",
    "\n",
    "pvt.set_table_styles([\n",
    "    {'selector': 'th.col_heading', 'props': 'text-align: center;'},\n",
    "    {'selector': 'th.col_heading.level0', 'props': 'font-size: 1.5em;'},\n",
    "    {'selector': 'td', 'props': 'text-align: center; font-weight: bold;'},\n",
    "], overwrite=False)\n",
    "\n",
    "pvt.set_table_styles({\n",
    "    ('Accessories', 'Bikes', 'Clothing'): [{'selector': 'th', 'props': 'border-left: 1px solid white'},\n",
    "                               {'selector': 'td', 'props': 'border-left: 1px solid #000066'}]\n",
    "}, overwrite=False, axis=0)\n"
   ]
  },
  {
   "cell_type": "markdown",
   "id": "117337b4",
   "metadata": {},
   "source": [
    "> **From first pivot; it is clear that the most important product (Bîles) is the same for all age groups."
   ]
  },
  {
   "cell_type": "code",
   "execution_count": 13,
   "id": "1607b9c1",
   "metadata": {},
   "outputs": [
    {
     "data": {
      "text/html": [
       "<style type=\"text/css\">\n",
       "#T_8cc34 td:hover {\n",
       "  background-color: #ffffb3;\n",
       "}\n",
       "#T_8cc34 .index_name {\n",
       "  font-style: italic;\n",
       "  color: darkgrey;\n",
       "  font-weight: normal;\n",
       "}\n",
       "#T_8cc34 th:not(.index_name) {\n",
       "  background-color: #000066;\n",
       "  color: white;\n",
       "}\n",
       "</style>\n",
       "<table id=\"T_8cc34\">\n",
       "  <thead>\n",
       "    <tr>\n",
       "      <th class=\"index_name level0\" >Sub_Category</th>\n",
       "      <th id=\"T_8cc34_level0_col0\" class=\"col_heading level0 col0\" >Bike Racks</th>\n",
       "      <th id=\"T_8cc34_level0_col1\" class=\"col_heading level0 col1\" >Bike Stands</th>\n",
       "      <th id=\"T_8cc34_level0_col2\" class=\"col_heading level0 col2\" >Bottles and Cages</th>\n",
       "      <th id=\"T_8cc34_level0_col3\" class=\"col_heading level0 col3\" >Caps</th>\n",
       "      <th id=\"T_8cc34_level0_col4\" class=\"col_heading level0 col4\" >Cleaners</th>\n",
       "      <th id=\"T_8cc34_level0_col5\" class=\"col_heading level0 col5\" >Fenders</th>\n",
       "      <th id=\"T_8cc34_level0_col6\" class=\"col_heading level0 col6\" >Gloves</th>\n",
       "      <th id=\"T_8cc34_level0_col7\" class=\"col_heading level0 col7\" >Helmets</th>\n",
       "      <th id=\"T_8cc34_level0_col8\" class=\"col_heading level0 col8\" >Hydration Packs</th>\n",
       "      <th id=\"T_8cc34_level0_col9\" class=\"col_heading level0 col9\" >Jerseys</th>\n",
       "      <th id=\"T_8cc34_level0_col10\" class=\"col_heading level0 col10\" >Mountain Bikes</th>\n",
       "      <th id=\"T_8cc34_level0_col11\" class=\"col_heading level0 col11\" >Road Bikes</th>\n",
       "      <th id=\"T_8cc34_level0_col12\" class=\"col_heading level0 col12\" >Shorts</th>\n",
       "      <th id=\"T_8cc34_level0_col13\" class=\"col_heading level0 col13\" >Socks</th>\n",
       "      <th id=\"T_8cc34_level0_col14\" class=\"col_heading level0 col14\" >Tires and Tubes</th>\n",
       "      <th id=\"T_8cc34_level0_col15\" class=\"col_heading level0 col15\" >Touring Bikes</th>\n",
       "      <th id=\"T_8cc34_level0_col16\" class=\"col_heading level0 col16\" >Vests</th>\n",
       "    </tr>\n",
       "    <tr>\n",
       "      <th class=\"index_name level0\" >Age_Group</th>\n",
       "      <th class=\"blank col0\" >&nbsp;</th>\n",
       "      <th class=\"blank col1\" >&nbsp;</th>\n",
       "      <th class=\"blank col2\" >&nbsp;</th>\n",
       "      <th class=\"blank col3\" >&nbsp;</th>\n",
       "      <th class=\"blank col4\" >&nbsp;</th>\n",
       "      <th class=\"blank col5\" >&nbsp;</th>\n",
       "      <th class=\"blank col6\" >&nbsp;</th>\n",
       "      <th class=\"blank col7\" >&nbsp;</th>\n",
       "      <th class=\"blank col8\" >&nbsp;</th>\n",
       "      <th class=\"blank col9\" >&nbsp;</th>\n",
       "      <th class=\"blank col10\" >&nbsp;</th>\n",
       "      <th class=\"blank col11\" >&nbsp;</th>\n",
       "      <th class=\"blank col12\" >&nbsp;</th>\n",
       "      <th class=\"blank col13\" >&nbsp;</th>\n",
       "      <th class=\"blank col14\" >&nbsp;</th>\n",
       "      <th class=\"blank col15\" >&nbsp;</th>\n",
       "      <th class=\"blank col16\" >&nbsp;</th>\n",
       "    </tr>\n",
       "  </thead>\n",
       "  <tbody>\n",
       "    <tr>\n",
       "      <th id=\"T_8cc34_level0_row0\" class=\"row_heading level0 row0\" >Adults (35-64)</th>\n",
       "      <td id=\"T_8cc34_row0_col0\" class=\"data row0 col0\" >312 718</td>\n",
       "      <td id=\"T_8cc34_row0_col1\" class=\"data row0 col1\" >174 582</td>\n",
       "      <td id=\"T_8cc34_row0_col2\" class=\"data row0 col2\" >722 305</td>\n",
       "      <td id=\"T_8cc34_row0_col3\" class=\"data row0 col3\" >271 752</td>\n",
       "      <td id=\"T_8cc34_row0_col4\" class=\"data row0 col4\" >103 918</td>\n",
       "      <td id=\"T_8cc34_row0_col5\" class=\"data row0 col5\" >661 197</td>\n",
       "      <td id=\"T_8cc34_row0_col6\" class=\"data row0 col6\" >451 895</td>\n",
       "      <td id=\"T_8cc34_row0_col7\" class=\"data row0 col7\" >2 981 743</td>\n",
       "      <td id=\"T_8cc34_row0_col8\" class=\"data row0 col8\" >555 830</td>\n",
       "      <td id=\"T_8cc34_row0_col9\" class=\"data row0 col9\" >2 081 734</td>\n",
       "      <td id=\"T_8cc34_row0_col10\" class=\"data row0 col10\" >10 534 548</td>\n",
       "      <td id=\"T_8cc34_row0_col11\" class=\"data row0 col11\" >15 723 543</td>\n",
       "      <td id=\"T_8cc34_row0_col12\" class=\"data row0 col12\" >984 266</td>\n",
       "      <td id=\"T_8cc34_row0_col13\" class=\"data row0 col13\" >66 453</td>\n",
       "      <td id=\"T_8cc34_row0_col14\" class=\"data row0 col14\" >2 334 438</td>\n",
       "      <td id=\"T_8cc34_row0_col15\" class=\"data row0 col15\" >4 078 076</td>\n",
       "      <td id=\"T_8cc34_row0_col16\" class=\"data row0 col16\" >545 155</td>\n",
       "    </tr>\n",
       "    <tr>\n",
       "      <th id=\"T_8cc34_level0_row1\" class=\"row_heading level0 row1\" >Seniors (64+)</th>\n",
       "      <td id=\"T_8cc34_row1_col0\" class=\"data row1 col0\" >845</td>\n",
       "      <td id=\"T_8cc34_row1_col1\" class=\"data row1 col1\" >2 633</td>\n",
       "      <td id=\"T_8cc34_row1_col2\" class=\"data row1 col2\" >8 894</td>\n",
       "      <td id=\"T_8cc34_row1_col3\" class=\"data row1 col3\" >2 163</td>\n",
       "      <td id=\"T_8cc34_row1_col4\" class=\"data row1 col4\" >1 410</td>\n",
       "      <td id=\"T_8cc34_row1_col5\" class=\"data row1 col5\" >9 367</td>\n",
       "      <td id=\"T_8cc34_row1_col6\" class=\"data row1 col6\" >4 623</td>\n",
       "      <td id=\"T_8cc34_row1_col7\" class=\"data row1 col7\" >40 755</td>\n",
       "      <td id=\"T_8cc34_row1_col8\" class=\"data row1 col8\" >9 585</td>\n",
       "      <td id=\"T_8cc34_row1_col9\" class=\"data row1 col9\" >21 441</td>\n",
       "      <td id=\"T_8cc34_row1_col10\" class=\"data row1 col10\" >66 250</td>\n",
       "      <td id=\"T_8cc34_row1_col11\" class=\"data row1 col11\" >59 483</td>\n",
       "      <td id=\"T_8cc34_row1_col12\" class=\"data row1 col12\" >4 164</td>\n",
       "      <td id=\"T_8cc34_row1_col13\" class=\"data row1 col13\" >1 635</td>\n",
       "      <td id=\"T_8cc34_row1_col14\" class=\"data row1 col14\" >51 265</td>\n",
       "      <td id=\"T_8cc34_row1_col15\" class=\"data row1 col15\" >9 326</td>\n",
       "      <td id=\"T_8cc34_row1_col16\" class=\"data row1 col16\" >14 203</td>\n",
       "    </tr>\n",
       "    <tr>\n",
       "      <th id=\"T_8cc34_level0_row2\" class=\"row_heading level0 row2\" >Young Adults (25-34)</th>\n",
       "      <td id=\"T_8cc34_row2_col0\" class=\"data row2 col0\" >165 922</td>\n",
       "      <td id=\"T_8cc34_row2_col1\" class=\"data row2 col1\" >101 881</td>\n",
       "      <td id=\"T_8cc34_row2_col2\" class=\"data row2 col2\" >456 094</td>\n",
       "      <td id=\"T_8cc34_row2_col3\" class=\"data row2 col3\" >191 938</td>\n",
       "      <td id=\"T_8cc34_row2_col4\" class=\"data row2 col4\" >61 415</td>\n",
       "      <td id=\"T_8cc34_row2_col5\" class=\"data row2 col5\" >399 058</td>\n",
       "      <td id=\"T_8cc34_row2_col6\" class=\"data row2 col6\" >276 453</td>\n",
       "      <td id=\"T_8cc34_row2_col7\" class=\"data row2 col7\" >1 921 160</td>\n",
       "      <td id=\"T_8cc34_row2_col8\" class=\"data row2 col8\" >290 740</td>\n",
       "      <td id=\"T_8cc34_row2_col9\" class=\"data row2 col9\" >1 450 066</td>\n",
       "      <td id=\"T_8cc34_row2_col10\" class=\"data row2 col10\" >7 861 417</td>\n",
       "      <td id=\"T_8cc34_row2_col11\" class=\"data row2 col11\" >12 439 924</td>\n",
       "      <td id=\"T_8cc34_row2_col12\" class=\"data row2 col12\" >485 478</td>\n",
       "      <td id=\"T_8cc34_row2_col13\" class=\"data row2 col13\" >54 447</td>\n",
       "      <td id=\"T_8cc34_row2_col14\" class=\"data row2 col14\" >1 602 671</td>\n",
       "      <td id=\"T_8cc34_row2_col15\" class=\"data row2 col15\" >2 614 215</td>\n",
       "      <td id=\"T_8cc34_row2_col16\" class=\"data row2 col16\" >282 735</td>\n",
       "    </tr>\n",
       "    <tr>\n",
       "      <th id=\"T_8cc34_level0_row3\" class=\"row_heading level0 row3\" >Youth (<25)</th>\n",
       "      <td id=\"T_8cc34_row3_col0\" class=\"data row3 col0\" >38 315</td>\n",
       "      <td id=\"T_8cc34_row3_col1\" class=\"data row3 col1\" >64 979</td>\n",
       "      <td id=\"T_8cc34_row3_col2\" class=\"data row3 col2\" >221 881</td>\n",
       "      <td id=\"T_8cc34_row3_col3\" class=\"data row3 col3\" >82 924</td>\n",
       "      <td id=\"T_8cc34_row3_col4\" class=\"data row3 col4\" >32 078</td>\n",
       "      <td id=\"T_8cc34_row3_col5\" class=\"data row3 col5\" >176 111</td>\n",
       "      <td id=\"T_8cc34_row3_col6\" class=\"data row3 col6\" >138 448</td>\n",
       "      <td id=\"T_8cc34_row3_col7\" class=\"data row3 col7\" >797 423</td>\n",
       "      <td id=\"T_8cc34_row3_col8\" class=\"data row3 col8\" >134 251</td>\n",
       "      <td id=\"T_8cc34_row3_col9\" class=\"data row3 col9\" >560 501</td>\n",
       "      <td id=\"T_8cc34_row3_col10\" class=\"data row3 col10\" >2 661 311</td>\n",
       "      <td id=\"T_8cc34_row3_col11\" class=\"data row3 col11\" >5 140 111</td>\n",
       "      <td id=\"T_8cc34_row3_col12\" class=\"data row3 col12\" >266 802</td>\n",
       "      <td id=\"T_8cc34_row3_col13\" class=\"data row3 col13\" >24 636</td>\n",
       "      <td id=\"T_8cc34_row3_col14\" class=\"data row3 col14\" >682 528</td>\n",
       "      <td id=\"T_8cc34_row3_col15\" class=\"data row3 col15\" >593 930</td>\n",
       "      <td id=\"T_8cc34_row3_col16\" class=\"data row3 col16\" >106 970</td>\n",
       "    </tr>\n",
       "  </tbody>\n",
       "</table>\n"
      ],
      "text/plain": [
       "<pandas.io.formats.style.Styler at 0x28f4d177910>"
      ]
     },
     "execution_count": 13,
     "metadata": {},
     "output_type": "execute_result"
    }
   ],
   "source": [
    "#Going deeper into the product categories for the different age groups. \n",
    "\n",
    "pivot_tab1 = bike_sales.pivot_table(index = 'Age_Group',columns = 'Sub_Category',values = 'Revenue',aggfunc = 'sum')\n",
    "\n",
    "pvt1 = pivot_tab1.style.format(precision=0, na_rep='NA', thousands=\" \",\n",
    "                formatter={('Accessories', 'Bikes', 'Clothing'): lambda x: \"€ {:,.2f}\".format(x*-1e6)\n",
    "                          })\n",
    "pvt1.set_table_styles([cell_hover, index_names, headers])\n",
    "\n",
    "\n",
    "\n",
    "pvt1"
   ]
  },
  {
   "cell_type": "code",
   "execution_count": 14,
   "id": "cbf875be",
   "metadata": {},
   "outputs": [
    {
     "data": {
      "text/html": [
       "<style type=\"text/css\">\n",
       "#T_1c428 td:hover {\n",
       "  background-color: #ffffb3;\n",
       "}\n",
       "#T_1c428 .index_name {\n",
       "  font-style: italic;\n",
       "  color: darkgrey;\n",
       "  font-weight: normal;\n",
       "}\n",
       "#T_1c428 th:not(.index_name) {\n",
       "  background-color: #000066;\n",
       "  color: white;\n",
       "}\n",
       "#T_1c428_row4_col0, #T_1c428_row4_col1, #T_1c428_row4_col2, #T_1c428_row4_col5, #T_1c428_row5_col3, #T_1c428_row5_col4 {\n",
       "  color: white;\n",
       "  background-color: darkblue;\n",
       "}\n",
       "</style>\n",
       "<table id=\"T_1c428\">\n",
       "  <thead>\n",
       "    <tr>\n",
       "      <th class=\"index_name level0\" >Country</th>\n",
       "      <th id=\"T_1c428_level0_col0\" class=\"col_heading level0 col0\" >Australia</th>\n",
       "      <th id=\"T_1c428_level0_col1\" class=\"col_heading level0 col1\" >Canada</th>\n",
       "      <th id=\"T_1c428_level0_col2\" class=\"col_heading level0 col2\" >France</th>\n",
       "      <th id=\"T_1c428_level0_col3\" class=\"col_heading level0 col3\" >Germany</th>\n",
       "      <th id=\"T_1c428_level0_col4\" class=\"col_heading level0 col4\" >United Kingdom</th>\n",
       "      <th id=\"T_1c428_level0_col5\" class=\"col_heading level0 col5\" >United States</th>\n",
       "    </tr>\n",
       "    <tr>\n",
       "      <th class=\"index_name level0\" >Year</th>\n",
       "      <th class=\"blank col0\" >&nbsp;</th>\n",
       "      <th class=\"blank col1\" >&nbsp;</th>\n",
       "      <th class=\"blank col2\" >&nbsp;</th>\n",
       "      <th class=\"blank col3\" >&nbsp;</th>\n",
       "      <th class=\"blank col4\" >&nbsp;</th>\n",
       "      <th class=\"blank col5\" >&nbsp;</th>\n",
       "    </tr>\n",
       "  </thead>\n",
       "  <tbody>\n",
       "    <tr>\n",
       "      <th id=\"T_1c428_level0_row0\" class=\"row_heading level0 row0\" >2011.000000</th>\n",
       "      <td id=\"T_1c428_row0_col0\" class=\"data row0 col0\" >2 529 914</td>\n",
       "      <td id=\"T_1c428_row0_col1\" class=\"data row0 col1\" >789 798</td>\n",
       "      <td id=\"T_1c428_row0_col2\" class=\"data row0 col2\" >946 624</td>\n",
       "      <td id=\"T_1c428_row0_col3\" class=\"data row0 col3\" >833 603</td>\n",
       "      <td id=\"T_1c428_row0_col4\" class=\"data row0 col4\" >823 481</td>\n",
       "      <td id=\"T_1c428_row0_col5\" class=\"data row0 col5\" >3 041 468</td>\n",
       "    </tr>\n",
       "    <tr>\n",
       "      <th id=\"T_1c428_level0_row1\" class=\"row_heading level0 row1\" >2012.000000</th>\n",
       "      <td id=\"T_1c428_row1_col0\" class=\"data row1 col0\" >2 557 511</td>\n",
       "      <td id=\"T_1c428_row1_col1\" class=\"data row1 col1\" >835 527</td>\n",
       "      <td id=\"T_1c428_row1_col2\" class=\"data row1 col2\" >962 153</td>\n",
       "      <td id=\"T_1c428_row1_col3\" class=\"data row1 col3\" >835 188</td>\n",
       "      <td id=\"T_1c428_row1_col4\" class=\"data row1 col4\" >834 885</td>\n",
       "      <td id=\"T_1c428_row1_col5\" class=\"data row1 col5\" >3 150 719</td>\n",
       "    </tr>\n",
       "    <tr>\n",
       "      <th id=\"T_1c428_level0_row2\" class=\"row_heading level0 row2\" >2013.000000</th>\n",
       "      <td id=\"T_1c428_row2_col0\" class=\"data row2 col0\" >4 107 470</td>\n",
       "      <td id=\"T_1c428_row2_col1\" class=\"data row2 col1\" >1 443 537</td>\n",
       "      <td id=\"T_1c428_row2_col2\" class=\"data row2 col2\" >1 431 870</td>\n",
       "      <td id=\"T_1c428_row2_col3\" class=\"data row2 col3\" >1 452 704</td>\n",
       "      <td id=\"T_1c428_row2_col4\" class=\"data row2 col4\" >1 868 796</td>\n",
       "      <td id=\"T_1c428_row2_col5\" class=\"data row2 col5\" >4 935 660</td>\n",
       "    </tr>\n",
       "    <tr>\n",
       "      <th id=\"T_1c428_level0_row3\" class=\"row_heading level0 row3\" >2014.000000</th>\n",
       "      <td id=\"T_1c428_row3_col0\" class=\"data row3 col0\" >2 802 842</td>\n",
       "      <td id=\"T_1c428_row3_col1\" class=\"data row3 col1\" >1 471 522</td>\n",
       "      <td id=\"T_1c428_row3_col2\" class=\"data row3 col2\" >1 411 100</td>\n",
       "      <td id=\"T_1c428_row3_col3\" class=\"data row3 col3\" >1 702 508</td>\n",
       "      <td id=\"T_1c428_row3_col4\" class=\"data row3 col4\" >2 014 044</td>\n",
       "      <td id=\"T_1c428_row3_col5\" class=\"data row3 col5\" >4 750 708</td>\n",
       "    </tr>\n",
       "    <tr>\n",
       "      <th id=\"T_1c428_level0_row4\" class=\"row_heading level0 row4\" >2015.000000</th>\n",
       "      <td id=\"T_1c428_row4_col0\" class=\"data row4 col0\" >5 712 339</td>\n",
       "      <td id=\"T_1c428_row4_col1\" class=\"data row4 col1\" >1 731 954</td>\n",
       "      <td id=\"T_1c428_row4_col2\" class=\"data row4 col2\" >1 877 928</td>\n",
       "      <td id=\"T_1c428_row4_col3\" class=\"data row4 col3\" >1 931 091</td>\n",
       "      <td id=\"T_1c428_row4_col4\" class=\"data row4 col4\" >2 484 181</td>\n",
       "      <td id=\"T_1c428_row4_col5\" class=\"data row4 col5\" >6 286 498</td>\n",
       "    </tr>\n",
       "    <tr>\n",
       "      <th id=\"T_1c428_level0_row5\" class=\"row_heading level0 row5\" >2016.000000</th>\n",
       "      <td id=\"T_1c428_row5_col0\" class=\"data row5 col0\" >3 591 983</td>\n",
       "      <td id=\"T_1c428_row5_col1\" class=\"data row5 col1\" >1 663 400</td>\n",
       "      <td id=\"T_1c428_row5_col2\" class=\"data row5 col2\" >1 803 197</td>\n",
       "      <td id=\"T_1c428_row5_col3\" class=\"data row5 col3\" >2 223 502</td>\n",
       "      <td id=\"T_1c428_row5_col4\" class=\"data row5 col4\" >2 620 809</td>\n",
       "      <td id=\"T_1c428_row5_col5\" class=\"data row5 col5\" >5 810 494</td>\n",
       "    </tr>\n",
       "  </tbody>\n",
       "</table>\n"
      ],
      "text/plain": [
       "<pandas.io.formats.style.Styler at 0x28f48113040>"
      ]
     },
     "execution_count": 14,
     "metadata": {},
     "output_type": "execute_result"
    }
   ],
   "source": [
    "#Pivot table, summary by country. Highlighting the best year per country\n",
    "pivot_tab2 = bike_sales.pivot_table( index=['Year'], \n",
    "                                    columns=['Country'], \n",
    "                                    values='Revenue',\n",
    "                                    aggfunc='sum')\n",
    "\n",
    "pvt2 = pivot_tab2.style.format(precision=0, na_rep='NA', \n",
    "                               thousands=\" \")\n",
    "\n",
    "pvt2.set_table_styles([cell_hover, index_names, headers])\n",
    "\n",
    "def highlight_max(s, props=''):\n",
    "    return np.where(s == np.nanmax(s.values), props, '')\n",
    "pvt2.apply(highlight_max, props='color:white;background-color:darkblue', axis=0)\n",
    "\n"
   ]
  },
  {
   "cell_type": "code",
   "execution_count": 15,
   "id": "3bb2b1b0",
   "metadata": {},
   "outputs": [
    {
     "data": {
      "text/html": [
       "<style type=\"text/css\">\n",
       "#T_ td:hover {\n",
       "  background-color: yellow;\n",
       "}\n",
       "</style>\n",
       "<table id=\"T_\" env>\n",
       "  <caption>PivotTable</caption>\n",
       "  <thead>\n",
       "    <tr>\n",
       "      <th class=\"blank\" >&nbsp;</th>\n",
       "      <th class=\"blank level0\" >&nbsp;</th>\n",
       "      <th class=\"col_heading level0 col0\" >sum</th>\n",
       "      <th class=\"col_heading level0 col1\" >mean</th>\n",
       "      <th class=\"col_heading level0 col2\" >count</th>\n",
       "    </tr>\n",
       "    <tr>\n",
       "      <th class=\"blank\" >&nbsp;</th>\n",
       "      <th class=\"blank level1\" >&nbsp;</th>\n",
       "      <th class=\"col_heading level1 col0\" >Revenue</th>\n",
       "      <th class=\"col_heading level1 col1\" >Revenue</th>\n",
       "      <th class=\"col_heading level1 col2\" >Revenue</th>\n",
       "    </tr>\n",
       "    <tr>\n",
       "      <th class=\"index_name level0\" >Year</th>\n",
       "      <th class=\"index_name level1\" >Product_Category</th>\n",
       "      <th class=\"blank col0\" >&nbsp;</th>\n",
       "      <th class=\"blank col1\" >&nbsp;</th>\n",
       "      <th class=\"blank col2\" >&nbsp;</th>\n",
       "    </tr>\n",
       "  </thead>\n",
       "  <tbody>\n",
       "    <tr>\n",
       "      <th class=\"row_heading level0 row0\" >2011.00</th>\n",
       "      <th class=\"row_heading level1 row0\" >Bikes</th>\n",
       "      <td class=\"data row0 col0\" >8 964 888.00</td>\n",
       "      <td class=\"data row0 col1\" >3 348.86</td>\n",
       "      <td class=\"data row0 col2\" >2 677</td>\n",
       "    </tr>\n",
       "    <tr>\n",
       "      <th class=\"row_heading level0 row1\" >2012.00</th>\n",
       "      <th class=\"row_heading level1 row1\" >Bikes</th>\n",
       "      <td class=\"data row1 col0\" >9 175 983.00</td>\n",
       "      <td class=\"data row1 col1\" >3 427.71</td>\n",
       "      <td class=\"data row1 col2\" >2 677</td>\n",
       "    </tr>\n",
       "    <tr>\n",
       "      <th class=\"row_heading level0 row2\" rowspan=\"3\">2013.00</th>\n",
       "      <th class=\"row_heading level1 row2\" >Accessories</th>\n",
       "      <td class=\"data row2 col0\" >3 384 215.00</td>\n",
       "      <td class=\"data row2 col1\" >225.24</td>\n",
       "      <td class=\"data row2 col2\" >15 025</td>\n",
       "    </tr>\n",
       "    <tr>\n",
       "      <th class=\"row_heading level1 row3\" >Bikes</th>\n",
       "      <td class=\"data row3 col0\" >9 858 787.00</td>\n",
       "      <td class=\"data row3 col1\" >1 726.58</td>\n",
       "      <td class=\"data row3 col2\" >5 710</td>\n",
       "    </tr>\n",
       "    <tr>\n",
       "      <th class=\"row_heading level1 row4\" >Clothing</th>\n",
       "      <td class=\"data row4 col0\" >1 997 035.00</td>\n",
       "      <td class=\"data row4 col1\" >538.57</td>\n",
       "      <td class=\"data row4 col2\" >3 708</td>\n",
       "    </tr>\n",
       "    <tr>\n",
       "      <th class=\"row_heading level0 row5\" rowspan=\"3\">2014.00</th>\n",
       "      <th class=\"row_heading level1 row5\" >Accessories</th>\n",
       "      <td class=\"data row5 col0\" >4 293 592.00</td>\n",
       "      <td class=\"data row5 col1\" >214.30</td>\n",
       "      <td class=\"data row5 col2\" >20 035</td>\n",
       "    </tr>\n",
       "    <tr>\n",
       "      <th class=\"row_heading level1 row6\" >Bikes</th>\n",
       "      <td class=\"data row6 col0\" >7 611 243.00</td>\n",
       "      <td class=\"data row6 col1\" >1 653.18</td>\n",
       "      <td class=\"data row6 col2\" >4 604</td>\n",
       "    </tr>\n",
       "    <tr>\n",
       "      <th class=\"row_heading level1 row7\" >Clothing</th>\n",
       "      <td class=\"data row7 col0\" >2 247 889.00</td>\n",
       "      <td class=\"data row7 col1\" >472.34</td>\n",
       "      <td class=\"data row7 col2\" >4 759</td>\n",
       "    </tr>\n",
       "    <tr>\n",
       "      <th class=\"row_heading level0 row8\" rowspan=\"3\">2015.00</th>\n",
       "      <th class=\"row_heading level1 row8\" >Accessories</th>\n",
       "      <td class=\"data row8 col0\" >3 285 954.00</td>\n",
       "      <td class=\"data row8 col1\" >218.70</td>\n",
       "      <td class=\"data row8 col2\" >15 025</td>\n",
       "    </tr>\n",
       "    <tr>\n",
       "      <th class=\"row_heading level1 row9\" >Bikes</th>\n",
       "      <td class=\"data row9 col0\" >14 799 083.00</td>\n",
       "      <td class=\"data row9 col1\" >2 591.78</td>\n",
       "      <td class=\"data row9 col2\" >5 710</td>\n",
       "    </tr>\n",
       "    <tr>\n",
       "      <th class=\"row_heading level1 row10\" >Clothing</th>\n",
       "      <td class=\"data row10 col0\" >1 938 954.00</td>\n",
       "      <td class=\"data row10 col1\" >522.91</td>\n",
       "      <td class=\"data row10 col2\" >3 708</td>\n",
       "    </tr>\n",
       "    <tr>\n",
       "      <th class=\"row_heading level0 row11\" rowspan=\"3\">2016.00</th>\n",
       "      <th class=\"row_heading level1 row11\" >Accessories</th>\n",
       "      <td class=\"data row11 col0\" >4 154 231.00</td>\n",
       "      <td class=\"data row11 col1\" >207.35</td>\n",
       "      <td class=\"data row11 col2\" >20 035</td>\n",
       "    </tr>\n",
       "    <tr>\n",
       "      <th class=\"row_heading level1 row12\" >Bikes</th>\n",
       "      <td class=\"data row12 col0\" >11 372 150.00</td>\n",
       "      <td class=\"data row12 col1\" >2 470.06</td>\n",
       "      <td class=\"data row12 col2\" >4 604</td>\n",
       "    </tr>\n",
       "    <tr>\n",
       "      <th class=\"row_heading level1 row13\" >Clothing</th>\n",
       "      <td class=\"data row13 col0\" >2 187 004.00</td>\n",
       "      <td class=\"data row13 col1\" >459.55</td>\n",
       "      <td class=\"data row13 col2\" >4 759</td>\n",
       "    </tr>\n",
       "    <tr>\n",
       "      <th class=\"row_heading level0 row14\" >Grand Total</th>\n",
       "      <th class=\"row_heading level1 row14\" ></th>\n",
       "      <td class=\"data row14 col0\" >85 271 008.00</td>\n",
       "      <td class=\"data row14 col1\" >754.37</td>\n",
       "      <td class=\"data row14 col2\" >113 036</td>\n",
       "    </tr>\n",
       "  </tbody>\n",
       "</table>\n"
      ],
      "text/plain": [
       "<pandas.io.formats.style.Styler at 0x28f4d190490>"
      ]
     },
     "execution_count": 15,
     "metadata": {},
     "output_type": "execute_result"
    }
   ],
   "source": [
    "#Pivot table, summary by year and product\n",
    "pivot_tab3 = bike_sales.pivot_table(index=['Year', 'Product_Category'],\n",
    "                        values='Revenue',\n",
    "                        aggfunc=['sum', 'mean','count',],\n",
    "                        margins=True,margins_name='Grand Total')\n",
    "\n",
    "\n",
    "pvt3 = pd.io.formats.style.Styler(pivot_tab3, precision=2,\n",
    "                           table_styles=([{'selector': 'td:hover',\n",
    "                                        'props': [('background-color','yellow')]}]),\n",
    "                           caption='PivotTable', table_attributes='env',\n",
    "                           na_rep=\"NA\",uuid_len=0, cell_ids=False,\n",
    "                           decimal=\".\", thousands=\" \")\n",
    "\n",
    "pvt3"
   ]
  },
  {
   "cell_type": "code",
   "execution_count": 16,
   "id": "4b79dbcd",
   "metadata": {},
   "outputs": [
    {
     "name": "stderr",
     "output_type": "stream",
     "text": [
      "C:\\Users\\igieo\\AppData\\Local\\Temp\\ipykernel_3744\\4211352365.py:8: FutureWarning: this method is deprecated in favour of `Styler.format(precision=..)`\n",
      "  pivot_tab4.style.highlight_max(axis=0, props='color:white; font-weight:bold; background-color:darkblue;').set_precision(0)\n"
     ]
    },
    {
     "data": {
      "text/html": [
       "<style type=\"text/css\">\n",
       "#T_af4c0_row13_col1, #T_af4c0_row33_col2, #T_af4c0_row34_col0, #T_af4c0_row35_col2 {\n",
       "  color: white;\n",
       "  font-weight: bold;\n",
       "  background-color: darkblue;\n",
       "}\n",
       "</style>\n",
       "<table id=\"T_af4c0\">\n",
       "  <thead>\n",
       "    <tr>\n",
       "      <th class=\"blank\" >&nbsp;</th>\n",
       "      <th class=\"blank level0\" >&nbsp;</th>\n",
       "      <th id=\"T_af4c0_level0_col0\" class=\"col_heading level0 col0\" >sum</th>\n",
       "      <th id=\"T_af4c0_level0_col1\" class=\"col_heading level0 col1\" >mean</th>\n",
       "      <th id=\"T_af4c0_level0_col2\" class=\"col_heading level0 col2\" >count</th>\n",
       "    </tr>\n",
       "    <tr>\n",
       "      <th class=\"blank\" >&nbsp;</th>\n",
       "      <th class=\"blank level1\" >&nbsp;</th>\n",
       "      <th id=\"T_af4c0_level1_col0\" class=\"col_heading level1 col0\" >Revenue</th>\n",
       "      <th id=\"T_af4c0_level1_col1\" class=\"col_heading level1 col1\" >Revenue</th>\n",
       "      <th id=\"T_af4c0_level1_col2\" class=\"col_heading level1 col2\" >Revenue</th>\n",
       "    </tr>\n",
       "    <tr>\n",
       "      <th class=\"index_name level0\" >Country</th>\n",
       "      <th class=\"index_name level1\" >Year</th>\n",
       "      <th class=\"blank col0\" >&nbsp;</th>\n",
       "      <th class=\"blank col1\" >&nbsp;</th>\n",
       "      <th class=\"blank col2\" >&nbsp;</th>\n",
       "    </tr>\n",
       "  </thead>\n",
       "  <tbody>\n",
       "    <tr>\n",
       "      <th id=\"T_af4c0_level0_row0\" class=\"row_heading level0 row0\" rowspan=\"6\">Australia</th>\n",
       "      <th id=\"T_af4c0_level1_row0\" class=\"row_heading level1 row0\" >2011.000000</th>\n",
       "      <td id=\"T_af4c0_row0_col0\" class=\"data row0 col0\" >2529914</td>\n",
       "      <td id=\"T_af4c0_row0_col1\" class=\"data row0 col1\" >2945</td>\n",
       "      <td id=\"T_af4c0_row0_col2\" class=\"data row0 col2\" >859</td>\n",
       "    </tr>\n",
       "    <tr>\n",
       "      <th id=\"T_af4c0_level1_row1\" class=\"row_heading level1 row1\" >2012.000000</th>\n",
       "      <td id=\"T_af4c0_row1_col0\" class=\"data row1 col0\" >2557511</td>\n",
       "      <td id=\"T_af4c0_row1_col1\" class=\"data row1 col1\" >2977</td>\n",
       "      <td id=\"T_af4c0_row1_col2\" class=\"data row1 col2\" >859</td>\n",
       "    </tr>\n",
       "    <tr>\n",
       "      <th id=\"T_af4c0_level1_row2\" class=\"row_heading level1 row2\" >2013.000000</th>\n",
       "      <td id=\"T_af4c0_row2_col0\" class=\"data row2 col0\" >4107470</td>\n",
       "      <td id=\"T_af4c0_row2_col1\" class=\"data row2 col1\" >770</td>\n",
       "      <td id=\"T_af4c0_row2_col2\" class=\"data row2 col2\" >5335</td>\n",
       "    </tr>\n",
       "    <tr>\n",
       "      <th id=\"T_af4c0_level1_row3\" class=\"row_heading level1 row3\" >2014.000000</th>\n",
       "      <td id=\"T_af4c0_row3_col0\" class=\"data row3 col0\" >2802842</td>\n",
       "      <td id=\"T_af4c0_row3_col1\" class=\"data row3 col1\" >485</td>\n",
       "      <td id=\"T_af4c0_row3_col2\" class=\"data row3 col2\" >5774</td>\n",
       "    </tr>\n",
       "    <tr>\n",
       "      <th id=\"T_af4c0_level1_row4\" class=\"row_heading level1 row4\" >2015.000000</th>\n",
       "      <td id=\"T_af4c0_row4_col0\" class=\"data row4 col0\" >5712339</td>\n",
       "      <td id=\"T_af4c0_row4_col1\" class=\"data row4 col1\" >1071</td>\n",
       "      <td id=\"T_af4c0_row4_col2\" class=\"data row4 col2\" >5335</td>\n",
       "    </tr>\n",
       "    <tr>\n",
       "      <th id=\"T_af4c0_level1_row5\" class=\"row_heading level1 row5\" >2016.000000</th>\n",
       "      <td id=\"T_af4c0_row5_col0\" class=\"data row5 col0\" >3591983</td>\n",
       "      <td id=\"T_af4c0_row5_col1\" class=\"data row5 col1\" >622</td>\n",
       "      <td id=\"T_af4c0_row5_col2\" class=\"data row5 col2\" >5774</td>\n",
       "    </tr>\n",
       "    <tr>\n",
       "      <th id=\"T_af4c0_level0_row6\" class=\"row_heading level0 row6\" rowspan=\"6\">Canada</th>\n",
       "      <th id=\"T_af4c0_level1_row6\" class=\"row_heading level1 row6\" >2011.000000</th>\n",
       "      <td id=\"T_af4c0_row6_col0\" class=\"data row6 col0\" >789798</td>\n",
       "      <td id=\"T_af4c0_row6_col1\" class=\"data row6 col1\" >3495</td>\n",
       "      <td id=\"T_af4c0_row6_col2\" class=\"data row6 col2\" >226</td>\n",
       "    </tr>\n",
       "    <tr>\n",
       "      <th id=\"T_af4c0_level1_row7\" class=\"row_heading level1 row7\" >2012.000000</th>\n",
       "      <td id=\"T_af4c0_row7_col0\" class=\"data row7 col0\" >835527</td>\n",
       "      <td id=\"T_af4c0_row7_col1\" class=\"data row7 col1\" >3697</td>\n",
       "      <td id=\"T_af4c0_row7_col2\" class=\"data row7 col2\" >226</td>\n",
       "    </tr>\n",
       "    <tr>\n",
       "      <th id=\"T_af4c0_level1_row8\" class=\"row_heading level1 row8\" >2013.000000</th>\n",
       "      <td id=\"T_af4c0_row8_col0\" class=\"data row8 col0\" >1443537</td>\n",
       "      <td id=\"T_af4c0_row8_col1\" class=\"data row8 col1\" >468</td>\n",
       "      <td id=\"T_af4c0_row8_col2\" class=\"data row8 col2\" >3086</td>\n",
       "    </tr>\n",
       "    <tr>\n",
       "      <th id=\"T_af4c0_level1_row9\" class=\"row_heading level1 row9\" >2014.000000</th>\n",
       "      <td id=\"T_af4c0_row9_col0\" class=\"data row9 col0\" >1471522</td>\n",
       "      <td id=\"T_af4c0_row9_col1\" class=\"data row9 col1\" >390</td>\n",
       "      <td id=\"T_af4c0_row9_col2\" class=\"data row9 col2\" >3777</td>\n",
       "    </tr>\n",
       "    <tr>\n",
       "      <th id=\"T_af4c0_level1_row10\" class=\"row_heading level1 row10\" >2015.000000</th>\n",
       "      <td id=\"T_af4c0_row10_col0\" class=\"data row10 col0\" >1731954</td>\n",
       "      <td id=\"T_af4c0_row10_col1\" class=\"data row10 col1\" >561</td>\n",
       "      <td id=\"T_af4c0_row10_col2\" class=\"data row10 col2\" >3086</td>\n",
       "    </tr>\n",
       "    <tr>\n",
       "      <th id=\"T_af4c0_level1_row11\" class=\"row_heading level1 row11\" >2016.000000</th>\n",
       "      <td id=\"T_af4c0_row11_col0\" class=\"data row11 col0\" >1663400</td>\n",
       "      <td id=\"T_af4c0_row11_col1\" class=\"data row11 col1\" >440</td>\n",
       "      <td id=\"T_af4c0_row11_col2\" class=\"data row11 col2\" >3777</td>\n",
       "    </tr>\n",
       "    <tr>\n",
       "      <th id=\"T_af4c0_level0_row12\" class=\"row_heading level0 row12\" rowspan=\"6\">France</th>\n",
       "      <th id=\"T_af4c0_level1_row12\" class=\"row_heading level1 row12\" >2011.000000</th>\n",
       "      <td id=\"T_af4c0_row12_col0\" class=\"data row12 col0\" >946624</td>\n",
       "      <td id=\"T_af4c0_row12_col1\" class=\"data row12 col1\" >4063</td>\n",
       "      <td id=\"T_af4c0_row12_col2\" class=\"data row12 col2\" >233</td>\n",
       "    </tr>\n",
       "    <tr>\n",
       "      <th id=\"T_af4c0_level1_row13\" class=\"row_heading level1 row13\" >2012.000000</th>\n",
       "      <td id=\"T_af4c0_row13_col0\" class=\"data row13 col0\" >962153</td>\n",
       "      <td id=\"T_af4c0_row13_col1\" class=\"data row13 col1\" >4129</td>\n",
       "      <td id=\"T_af4c0_row13_col2\" class=\"data row13 col2\" >233</td>\n",
       "    </tr>\n",
       "    <tr>\n",
       "      <th id=\"T_af4c0_level1_row14\" class=\"row_heading level1 row14\" >2013.000000</th>\n",
       "      <td id=\"T_af4c0_row14_col0\" class=\"data row14 col0\" >1431870</td>\n",
       "      <td id=\"T_af4c0_row14_col1\" class=\"data row14 col1\" >625</td>\n",
       "      <td id=\"T_af4c0_row14_col2\" class=\"data row14 col2\" >2291</td>\n",
       "    </tr>\n",
       "    <tr>\n",
       "      <th id=\"T_af4c0_level1_row15\" class=\"row_heading level1 row15\" >2014.000000</th>\n",
       "      <td id=\"T_af4c0_row15_col0\" class=\"data row15 col0\" >1411100</td>\n",
       "      <td id=\"T_af4c0_row15_col1\" class=\"data row15 col1\" >474</td>\n",
       "      <td id=\"T_af4c0_row15_col2\" class=\"data row15 col2\" >2975</td>\n",
       "    </tr>\n",
       "    <tr>\n",
       "      <th id=\"T_af4c0_level1_row16\" class=\"row_heading level1 row16\" >2015.000000</th>\n",
       "      <td id=\"T_af4c0_row16_col0\" class=\"data row16 col0\" >1877928</td>\n",
       "      <td id=\"T_af4c0_row16_col1\" class=\"data row16 col1\" >820</td>\n",
       "      <td id=\"T_af4c0_row16_col2\" class=\"data row16 col2\" >2291</td>\n",
       "    </tr>\n",
       "    <tr>\n",
       "      <th id=\"T_af4c0_level1_row17\" class=\"row_heading level1 row17\" >2016.000000</th>\n",
       "      <td id=\"T_af4c0_row17_col0\" class=\"data row17 col0\" >1803197</td>\n",
       "      <td id=\"T_af4c0_row17_col1\" class=\"data row17 col1\" >606</td>\n",
       "      <td id=\"T_af4c0_row17_col2\" class=\"data row17 col2\" >2975</td>\n",
       "    </tr>\n",
       "    <tr>\n",
       "      <th id=\"T_af4c0_level0_row18\" class=\"row_heading level0 row18\" rowspan=\"6\">Germany</th>\n",
       "      <th id=\"T_af4c0_level1_row18\" class=\"row_heading level1 row18\" >2011.000000</th>\n",
       "      <td id=\"T_af4c0_row18_col0\" class=\"data row18 col0\" >833603</td>\n",
       "      <td id=\"T_af4c0_row18_col1\" class=\"data row18 col1\" >3578</td>\n",
       "      <td id=\"T_af4c0_row18_col2\" class=\"data row18 col2\" >233</td>\n",
       "    </tr>\n",
       "    <tr>\n",
       "      <th id=\"T_af4c0_level1_row19\" class=\"row_heading level1 row19\" >2012.000000</th>\n",
       "      <td id=\"T_af4c0_row19_col0\" class=\"data row19 col0\" >835188</td>\n",
       "      <td id=\"T_af4c0_row19_col1\" class=\"data row19 col1\" >3584</td>\n",
       "      <td id=\"T_af4c0_row19_col2\" class=\"data row19 col2\" >233</td>\n",
       "    </tr>\n",
       "    <tr>\n",
       "      <th id=\"T_af4c0_level1_row20\" class=\"row_heading level1 row20\" >2013.000000</th>\n",
       "      <td id=\"T_af4c0_row20_col0\" class=\"data row20 col0\" >1452704</td>\n",
       "      <td id=\"T_af4c0_row20_col1\" class=\"data row20 col1\" >645</td>\n",
       "      <td id=\"T_af4c0_row20_col2\" class=\"data row20 col2\" >2254</td>\n",
       "    </tr>\n",
       "    <tr>\n",
       "      <th id=\"T_af4c0_level1_row21\" class=\"row_heading level1 row21\" >2014.000000</th>\n",
       "      <td id=\"T_af4c0_row21_col0\" class=\"data row21 col0\" >1702508</td>\n",
       "      <td id=\"T_af4c0_row21_col1\" class=\"data row21 col1\" >556</td>\n",
       "      <td id=\"T_af4c0_row21_col2\" class=\"data row21 col2\" >3062</td>\n",
       "    </tr>\n",
       "    <tr>\n",
       "      <th id=\"T_af4c0_level1_row22\" class=\"row_heading level1 row22\" >2015.000000</th>\n",
       "      <td id=\"T_af4c0_row22_col0\" class=\"data row22 col0\" >1931091</td>\n",
       "      <td id=\"T_af4c0_row22_col1\" class=\"data row22 col1\" >857</td>\n",
       "      <td id=\"T_af4c0_row22_col2\" class=\"data row22 col2\" >2254</td>\n",
       "    </tr>\n",
       "    <tr>\n",
       "      <th id=\"T_af4c0_level1_row23\" class=\"row_heading level1 row23\" >2016.000000</th>\n",
       "      <td id=\"T_af4c0_row23_col0\" class=\"data row23 col0\" >2223502</td>\n",
       "      <td id=\"T_af4c0_row23_col1\" class=\"data row23 col1\" >726</td>\n",
       "      <td id=\"T_af4c0_row23_col2\" class=\"data row23 col2\" >3062</td>\n",
       "    </tr>\n",
       "    <tr>\n",
       "      <th id=\"T_af4c0_level0_row24\" class=\"row_heading level0 row24\" rowspan=\"6\">United Kingdom</th>\n",
       "      <th id=\"T_af4c0_level1_row24\" class=\"row_heading level1 row24\" >2011.000000</th>\n",
       "      <td id=\"T_af4c0_row24_col0\" class=\"data row24 col0\" >823481</td>\n",
       "      <td id=\"T_af4c0_row24_col1\" class=\"data row24 col1\" >3107</td>\n",
       "      <td id=\"T_af4c0_row24_col2\" class=\"data row24 col2\" >265</td>\n",
       "    </tr>\n",
       "    <tr>\n",
       "      <th id=\"T_af4c0_level1_row25\" class=\"row_heading level1 row25\" >2012.000000</th>\n",
       "      <td id=\"T_af4c0_row25_col0\" class=\"data row25 col0\" >834885</td>\n",
       "      <td id=\"T_af4c0_row25_col1\" class=\"data row25 col1\" >3151</td>\n",
       "      <td id=\"T_af4c0_row25_col2\" class=\"data row25 col2\" >265</td>\n",
       "    </tr>\n",
       "    <tr>\n",
       "      <th id=\"T_af4c0_level1_row26\" class=\"row_heading level1 row26\" >2013.000000</th>\n",
       "      <td id=\"T_af4c0_row26_col0\" class=\"data row26 col0\" >1868796</td>\n",
       "      <td id=\"T_af4c0_row26_col1\" class=\"data row26 col1\" >630</td>\n",
       "      <td id=\"T_af4c0_row26_col2\" class=\"data row26 col2\" >2966</td>\n",
       "    </tr>\n",
       "    <tr>\n",
       "      <th id=\"T_af4c0_level1_row27\" class=\"row_heading level1 row27\" >2014.000000</th>\n",
       "      <td id=\"T_af4c0_row27_col0\" class=\"data row27 col0\" >2014044</td>\n",
       "      <td id=\"T_af4c0_row27_col1\" class=\"data row27 col1\" >563</td>\n",
       "      <td id=\"T_af4c0_row27_col2\" class=\"data row27 col2\" >3579</td>\n",
       "    </tr>\n",
       "    <tr>\n",
       "      <th id=\"T_af4c0_level1_row28\" class=\"row_heading level1 row28\" >2015.000000</th>\n",
       "      <td id=\"T_af4c0_row28_col0\" class=\"data row28 col0\" >2484181</td>\n",
       "      <td id=\"T_af4c0_row28_col1\" class=\"data row28 col1\" >838</td>\n",
       "      <td id=\"T_af4c0_row28_col2\" class=\"data row28 col2\" >2966</td>\n",
       "    </tr>\n",
       "    <tr>\n",
       "      <th id=\"T_af4c0_level1_row29\" class=\"row_heading level1 row29\" >2016.000000</th>\n",
       "      <td id=\"T_af4c0_row29_col0\" class=\"data row29 col0\" >2620809</td>\n",
       "      <td id=\"T_af4c0_row29_col1\" class=\"data row29 col1\" >732</td>\n",
       "      <td id=\"T_af4c0_row29_col2\" class=\"data row29 col2\" >3579</td>\n",
       "    </tr>\n",
       "    <tr>\n",
       "      <th id=\"T_af4c0_level0_row30\" class=\"row_heading level0 row30\" rowspan=\"6\">United States</th>\n",
       "      <th id=\"T_af4c0_level1_row30\" class=\"row_heading level1 row30\" >2011.000000</th>\n",
       "      <td id=\"T_af4c0_row30_col0\" class=\"data row30 col0\" >3041468</td>\n",
       "      <td id=\"T_af4c0_row30_col1\" class=\"data row30 col1\" >3532</td>\n",
       "      <td id=\"T_af4c0_row30_col2\" class=\"data row30 col2\" >861</td>\n",
       "    </tr>\n",
       "    <tr>\n",
       "      <th id=\"T_af4c0_level1_row31\" class=\"row_heading level1 row31\" >2012.000000</th>\n",
       "      <td id=\"T_af4c0_row31_col0\" class=\"data row31 col0\" >3150719</td>\n",
       "      <td id=\"T_af4c0_row31_col1\" class=\"data row31 col1\" >3659</td>\n",
       "      <td id=\"T_af4c0_row31_col2\" class=\"data row31 col2\" >861</td>\n",
       "    </tr>\n",
       "    <tr>\n",
       "      <th id=\"T_af4c0_level1_row32\" class=\"row_heading level1 row32\" >2013.000000</th>\n",
       "      <td id=\"T_af4c0_row32_col0\" class=\"data row32 col0\" >4935660</td>\n",
       "      <td id=\"T_af4c0_row32_col1\" class=\"data row32 col1\" >580</td>\n",
       "      <td id=\"T_af4c0_row32_col2\" class=\"data row32 col2\" >8511</td>\n",
       "    </tr>\n",
       "    <tr>\n",
       "      <th id=\"T_af4c0_level1_row33\" class=\"row_heading level1 row33\" >2014.000000</th>\n",
       "      <td id=\"T_af4c0_row33_col0\" class=\"data row33 col0\" >4750708</td>\n",
       "      <td id=\"T_af4c0_row33_col1\" class=\"data row33 col1\" >464</td>\n",
       "      <td id=\"T_af4c0_row33_col2\" class=\"data row33 col2\" >10231</td>\n",
       "    </tr>\n",
       "    <tr>\n",
       "      <th id=\"T_af4c0_level1_row34\" class=\"row_heading level1 row34\" >2015.000000</th>\n",
       "      <td id=\"T_af4c0_row34_col0\" class=\"data row34 col0\" >6286498</td>\n",
       "      <td id=\"T_af4c0_row34_col1\" class=\"data row34 col1\" >739</td>\n",
       "      <td id=\"T_af4c0_row34_col2\" class=\"data row34 col2\" >8511</td>\n",
       "    </tr>\n",
       "    <tr>\n",
       "      <th id=\"T_af4c0_level1_row35\" class=\"row_heading level1 row35\" >2016.000000</th>\n",
       "      <td id=\"T_af4c0_row35_col0\" class=\"data row35 col0\" >5810494</td>\n",
       "      <td id=\"T_af4c0_row35_col1\" class=\"data row35 col1\" >568</td>\n",
       "      <td id=\"T_af4c0_row35_col2\" class=\"data row35 col2\" >10231</td>\n",
       "    </tr>\n",
       "  </tbody>\n",
       "</table>\n"
      ],
      "text/plain": [
       "<pandas.io.formats.style.Styler at 0x28f482fad90>"
      ]
     },
     "execution_count": 16,
     "metadata": {},
     "output_type": "execute_result"
    }
   ],
   "source": [
    "### Pivot table, summary by year and country\n",
    "pivot_tab4 = bike_sales.pivot_table(index=['Country','Year' ],\n",
    "                         values='Revenue',\n",
    "                        aggfunc=['sum', 'mean','count',])\n",
    "\n",
    "pvt4 = pivot_tab4.style.format(precision=0, na_rep='NA', \n",
    "                               thousands=\" \")\n",
    "pivot_tab4.style.highlight_max(axis=0, props='color:white; font-weight:bold; background-color:darkblue;').set_precision(0)\n",
    "\n"
   ]
  },
  {
   "cell_type": "code",
   "execution_count": 17,
   "id": "c59d072e",
   "metadata": {},
   "outputs": [
    {
     "name": "stderr",
     "output_type": "stream",
     "text": [
      "C:\\Users\\igieo\\AppData\\Local\\Temp\\ipykernel_3744\\514430237.py:8: FutureWarning: this method is deprecated in favour of `Styler.format(precision=..)`\n",
      "  pivot_tab6.style.background_gradient(cmap=cm).set_precision(0)\n"
     ]
    },
    {
     "data": {
      "text/html": [
       "<style type=\"text/css\">\n",
       "#T_5effc_row0_col0 {\n",
       "  background-color: #9393f8;\n",
       "  color: #f1f1f1;\n",
       "}\n",
       "#T_5effc_row0_col1, #T_5effc_row1_col1, #T_5effc_row8_col1, #T_5effc_row16_col2, #T_5effc_row17_col0, #T_5effc_row22_col1, #T_5effc_row26_col2 {\n",
       "  background-color: #c1c1f5;\n",
       "  color: #000000;\n",
       "}\n",
       "#T_5effc_row0_col2 {\n",
       "  background-color: #a4a4f7;\n",
       "  color: #000000;\n",
       "}\n",
       "#T_5effc_row1_col0 {\n",
       "  background-color: #9191f8;\n",
       "  color: #f1f1f1;\n",
       "}\n",
       "#T_5effc_row1_col2, #T_5effc_row3_col1 {\n",
       "  background-color: #a3a3f7;\n",
       "  color: #f1f1f1;\n",
       "}\n",
       "#T_5effc_row2_col0 {\n",
       "  background-color: #5050fb;\n",
       "  color: #f1f1f1;\n",
       "}\n",
       "#T_5effc_row2_col1 {\n",
       "  background-color: #7e7ef9;\n",
       "  color: #f1f1f1;\n",
       "}\n",
       "#T_5effc_row2_col2 {\n",
       "  background-color: #5f5ffa;\n",
       "  color: #f1f1f1;\n",
       "}\n",
       "#T_5effc_row3_col0 {\n",
       "  background-color: #9494f7;\n",
       "  color: #f1f1f1;\n",
       "}\n",
       "#T_5effc_row3_col2 {\n",
       "  background-color: #9999f7;\n",
       "  color: #f1f1f1;\n",
       "}\n",
       "#T_5effc_row4_col0, #T_5effc_row34_col1, #T_5effc_row34_col2 {\n",
       "  background-color: #0000ff;\n",
       "  color: #f1f1f1;\n",
       "}\n",
       "#T_5effc_row4_col1 {\n",
       "  background-color: #4c4cfb;\n",
       "  color: #f1f1f1;\n",
       "}\n",
       "#T_5effc_row4_col2 {\n",
       "  background-color: #1919fe;\n",
       "  color: #f1f1f1;\n",
       "}\n",
       "#T_5effc_row5_col0 {\n",
       "  background-color: #6b6bfa;\n",
       "  color: #f1f1f1;\n",
       "}\n",
       "#T_5effc_row5_col1 {\n",
       "  background-color: #8c8cf8;\n",
       "  color: #f1f1f1;\n",
       "}\n",
       "#T_5effc_row5_col2 {\n",
       "  background-color: #7676f9;\n",
       "  color: #f1f1f1;\n",
       "}\n",
       "#T_5effc_row6_col0, #T_5effc_row6_col2, #T_5effc_row12_col1, #T_5effc_row18_col1, #T_5effc_row19_col1 {\n",
       "  background-color: #f0f0f3;\n",
       "  color: #000000;\n",
       "}\n",
       "#T_5effc_row6_col1, #T_5effc_row24_col1 {\n",
       "  background-color: #eeeef3;\n",
       "  color: #000000;\n",
       "}\n",
       "#T_5effc_row7_col0, #T_5effc_row7_col2, #T_5effc_row13_col1, #T_5effc_row18_col2, #T_5effc_row19_col2, #T_5effc_row24_col0, #T_5effc_row24_col2, #T_5effc_row25_col0, #T_5effc_row25_col2 {\n",
       "  background-color: #efeff3;\n",
       "  color: #000000;\n",
       "}\n",
       "#T_5effc_row7_col1, #T_5effc_row18_col0, #T_5effc_row19_col0 {\n",
       "  background-color: #ececf3;\n",
       "  color: #000000;\n",
       "}\n",
       "#T_5effc_row8_col0, #T_5effc_row9_col0 {\n",
       "  background-color: #dfdff4;\n",
       "  color: #000000;\n",
       "}\n",
       "#T_5effc_row8_col2, #T_5effc_row15_col0, #T_5effc_row20_col0, #T_5effc_row20_col2 {\n",
       "  background-color: #d4d4f4;\n",
       "  color: #000000;\n",
       "}\n",
       "#T_5effc_row9_col1, #T_5effc_row22_col0, #T_5effc_row22_col2 {\n",
       "  background-color: #bebef5;\n",
       "  color: #000000;\n",
       "}\n",
       "#T_5effc_row9_col2, #T_5effc_row10_col0 {\n",
       "  background-color: #d3d3f4;\n",
       "  color: #000000;\n",
       "}\n",
       "#T_5effc_row10_col1 {\n",
       "  background-color: #b5b5f6;\n",
       "  color: #000000;\n",
       "}\n",
       "#T_5effc_row10_col2, #T_5effc_row16_col1 {\n",
       "  background-color: #c8c8f5;\n",
       "  color: #000000;\n",
       "}\n",
       "#T_5effc_row11_col0, #T_5effc_row14_col1 {\n",
       "  background-color: #d7d7f4;\n",
       "  color: #000000;\n",
       "}\n",
       "#T_5effc_row11_col1 {\n",
       "  background-color: #b7b7f6;\n",
       "  color: #000000;\n",
       "}\n",
       "#T_5effc_row11_col2 {\n",
       "  background-color: #cbcbf5;\n",
       "  color: #000000;\n",
       "}\n",
       "#T_5effc_row12_col0 {\n",
       "  background-color: #e4e4f3;\n",
       "  color: #000000;\n",
       "}\n",
       "#T_5effc_row12_col2 {\n",
       "  background-color: #eaeaf3;\n",
       "  color: #000000;\n",
       "}\n",
       "#T_5effc_row13_col0 {\n",
       "  background-color: #e3e3f3;\n",
       "  color: #000000;\n",
       "}\n",
       "#T_5effc_row13_col2 {\n",
       "  background-color: #e9e9f3;\n",
       "  color: #000000;\n",
       "}\n",
       "#T_5effc_row14_col0, #T_5effc_row20_col1 {\n",
       "  background-color: #d2d2f4;\n",
       "  color: #000000;\n",
       "}\n",
       "#T_5effc_row14_col2 {\n",
       "  background-color: #d5d5f4;\n",
       "  color: #000000;\n",
       "}\n",
       "#T_5effc_row15_col1, #T_5effc_row15_col2 {\n",
       "  background-color: #d6d6f4;\n",
       "  color: #000000;\n",
       "}\n",
       "#T_5effc_row16_col0 {\n",
       "  background-color: #bdbdf5;\n",
       "  color: #000000;\n",
       "}\n",
       "#T_5effc_row17_col1 {\n",
       "  background-color: #cacaf5;\n",
       "  color: #000000;\n",
       "}\n",
       "#T_5effc_row17_col2, #T_5effc_row21_col1 {\n",
       "  background-color: #c4c4f5;\n",
       "  color: #000000;\n",
       "}\n",
       "#T_5effc_row21_col0 {\n",
       "  background-color: #ccccf5;\n",
       "  color: #000000;\n",
       "}\n",
       "#T_5effc_row21_col2 {\n",
       "  background-color: #c9c9f5;\n",
       "  color: #000000;\n",
       "}\n",
       "#T_5effc_row23_col0 {\n",
       "  background-color: #b3b3f6;\n",
       "  color: #000000;\n",
       "}\n",
       "#T_5effc_row23_col1 {\n",
       "  background-color: #b1b1f6;\n",
       "  color: #000000;\n",
       "}\n",
       "#T_5effc_row23_col2 {\n",
       "  background-color: #b2b2f6;\n",
       "  color: #000000;\n",
       "}\n",
       "#T_5effc_row25_col1 {\n",
       "  background-color: #ededf3;\n",
       "  color: #000000;\n",
       "}\n",
       "#T_5effc_row26_col0 {\n",
       "  background-color: #c7c7f5;\n",
       "  color: #000000;\n",
       "}\n",
       "#T_5effc_row26_col1 {\n",
       "  background-color: #b9b9f6;\n",
       "  color: #000000;\n",
       "}\n",
       "#T_5effc_row27_col0 {\n",
       "  background-color: #c3c3f5;\n",
       "  color: #000000;\n",
       "}\n",
       "#T_5effc_row27_col1 {\n",
       "  background-color: #afaff6;\n",
       "  color: #000000;\n",
       "}\n",
       "#T_5effc_row27_col2 {\n",
       "  background-color: #bbbbf5;\n",
       "  color: #000000;\n",
       "}\n",
       "#T_5effc_row28_col0 {\n",
       "  background-color: #acacf6;\n",
       "  color: #000000;\n",
       "}\n",
       "#T_5effc_row28_col1, #T_5effc_row29_col2, #T_5effc_row30_col1 {\n",
       "  background-color: #a0a0f7;\n",
       "  color: #f1f1f1;\n",
       "}\n",
       "#T_5effc_row28_col2 {\n",
       "  background-color: #a7a7f7;\n",
       "  color: #000000;\n",
       "}\n",
       "#T_5effc_row29_col0 {\n",
       "  background-color: #a9a9f6;\n",
       "  color: #000000;\n",
       "}\n",
       "#T_5effc_row29_col1 {\n",
       "  background-color: #9696f7;\n",
       "  color: #f1f1f1;\n",
       "}\n",
       "#T_5effc_row30_col0 {\n",
       "  background-color: #8484f8;\n",
       "  color: #f1f1f1;\n",
       "}\n",
       "#T_5effc_row30_col2 {\n",
       "  background-color: #8e8ef8;\n",
       "  color: #f1f1f1;\n",
       "}\n",
       "#T_5effc_row31_col0 {\n",
       "  background-color: #7f7ff9;\n",
       "  color: #f1f1f1;\n",
       "}\n",
       "#T_5effc_row31_col1 {\n",
       "  background-color: #9d9df7;\n",
       "  color: #f1f1f1;\n",
       "}\n",
       "#T_5effc_row31_col2 {\n",
       "  background-color: #8a8af8;\n",
       "  color: #f1f1f1;\n",
       "}\n",
       "#T_5effc_row32_col0 {\n",
       "  background-color: #4848fb;\n",
       "  color: #f1f1f1;\n",
       "}\n",
       "#T_5effc_row32_col1 {\n",
       "  background-color: #3232fc;\n",
       "  color: #f1f1f1;\n",
       "}\n",
       "#T_5effc_row32_col2 {\n",
       "  background-color: #3a3afc;\n",
       "  color: #f1f1f1;\n",
       "}\n",
       "#T_5effc_row33_col0 {\n",
       "  background-color: #5454fb;\n",
       "  color: #f1f1f1;\n",
       "}\n",
       "#T_5effc_row33_col1 {\n",
       "  background-color: #3333fc;\n",
       "  color: #f1f1f1;\n",
       "}\n",
       "#T_5effc_row33_col2 {\n",
       "  background-color: #4343fc;\n",
       "  color: #f1f1f1;\n",
       "}\n",
       "#T_5effc_row34_col0 {\n",
       "  background-color: #0909ff;\n",
       "  color: #f1f1f1;\n",
       "}\n",
       "#T_5effc_row35_col0 {\n",
       "  background-color: #2323fd;\n",
       "  color: #f1f1f1;\n",
       "}\n",
       "#T_5effc_row35_col1 {\n",
       "  background-color: #0b0bfe;\n",
       "  color: #f1f1f1;\n",
       "}\n",
       "#T_5effc_row35_col2 {\n",
       "  background-color: #1515fe;\n",
       "  color: #f1f1f1;\n",
       "}\n",
       "</style>\n",
       "<table id=\"T_5effc\">\n",
       "  <thead>\n",
       "    <tr>\n",
       "      <th class=\"blank\" >&nbsp;</th>\n",
       "      <th class=\"blank level0\" >&nbsp;</th>\n",
       "      <th id=\"T_5effc_level0_col0\" class=\"col_heading level0 col0\" colspan=\"3\">sum</th>\n",
       "    </tr>\n",
       "    <tr>\n",
       "      <th class=\"blank\" >&nbsp;</th>\n",
       "      <th class=\"blank level1\" >&nbsp;</th>\n",
       "      <th id=\"T_5effc_level1_col0\" class=\"col_heading level1 col0\" >Cost</th>\n",
       "      <th id=\"T_5effc_level1_col1\" class=\"col_heading level1 col1\" >Profit</th>\n",
       "      <th id=\"T_5effc_level1_col2\" class=\"col_heading level1 col2\" >Revenue</th>\n",
       "    </tr>\n",
       "    <tr>\n",
       "      <th class=\"index_name level0\" >Country</th>\n",
       "      <th class=\"index_name level1\" >Year</th>\n",
       "      <th class=\"blank col0\" >&nbsp;</th>\n",
       "      <th class=\"blank col1\" >&nbsp;</th>\n",
       "      <th class=\"blank col2\" >&nbsp;</th>\n",
       "    </tr>\n",
       "  </thead>\n",
       "  <tbody>\n",
       "    <tr>\n",
       "      <th id=\"T_5effc_level0_row0\" class=\"row_heading level0 row0\" rowspan=\"6\">Australia</th>\n",
       "      <th id=\"T_5effc_level1_row0\" class=\"row_heading level1 row0\" >2011.000000</th>\n",
       "      <td id=\"T_5effc_row0_col0\" class=\"data row0 col0\" >1819448</td>\n",
       "      <td id=\"T_5effc_row0_col1\" class=\"data row0 col1\" >710466</td>\n",
       "      <td id=\"T_5effc_row0_col2\" class=\"data row0 col2\" >2529914</td>\n",
       "    </tr>\n",
       "    <tr>\n",
       "      <th id=\"T_5effc_level1_row1\" class=\"row_heading level1 row1\" >2012.000000</th>\n",
       "      <td id=\"T_5effc_row1_col0\" class=\"data row1 col0\" >1841420</td>\n",
       "      <td id=\"T_5effc_row1_col1\" class=\"data row1 col1\" >716091</td>\n",
       "      <td id=\"T_5effc_row1_col2\" class=\"data row1 col2\" >2557511</td>\n",
       "    </tr>\n",
       "    <tr>\n",
       "      <th id=\"T_5effc_level1_row2\" class=\"row_heading level1 row2\" >2013.000000</th>\n",
       "      <td id=\"T_5effc_row2_col0\" class=\"data row2 col0\" >2767650</td>\n",
       "      <td id=\"T_5effc_row2_col1\" class=\"data row2 col1\" >1339820</td>\n",
       "      <td id=\"T_5effc_row2_col2\" class=\"data row2 col2\" >4107470</td>\n",
       "    </tr>\n",
       "    <tr>\n",
       "      <th id=\"T_5effc_level1_row3\" class=\"row_heading level1 row3\" >2014.000000</th>\n",
       "      <td id=\"T_5effc_row3_col0\" class=\"data row3 col0\" >1807369</td>\n",
       "      <td id=\"T_5effc_row3_col1\" class=\"data row3 col1\" >995473</td>\n",
       "      <td id=\"T_5effc_row3_col2\" class=\"data row3 col2\" >2802842</td>\n",
       "    </tr>\n",
       "    <tr>\n",
       "      <th id=\"T_5effc_level1_row4\" class=\"row_heading level1 row4\" >2015.000000</th>\n",
       "      <td id=\"T_5effc_row4_col0\" class=\"data row4 col0\" >3909993</td>\n",
       "      <td id=\"T_5effc_row4_col1\" class=\"data row4 col1\" >1802346</td>\n",
       "      <td id=\"T_5effc_row4_col2\" class=\"data row4 col2\" >5712339</td>\n",
       "    </tr>\n",
       "    <tr>\n",
       "      <th id=\"T_5effc_level1_row5\" class=\"row_heading level1 row5\" >2016.000000</th>\n",
       "      <td id=\"T_5effc_row5_col0\" class=\"data row5 col0\" >2380149</td>\n",
       "      <td id=\"T_5effc_row5_col1\" class=\"data row5 col1\" >1211834</td>\n",
       "      <td id=\"T_5effc_row5_col2\" class=\"data row5 col2\" >3591983</td>\n",
       "    </tr>\n",
       "    <tr>\n",
       "      <th id=\"T_5effc_level0_row6\" class=\"row_heading level0 row6\" rowspan=\"6\">Canada</th>\n",
       "      <th id=\"T_5effc_level1_row6\" class=\"row_heading level1 row6\" >2011.000000</th>\n",
       "      <td id=\"T_5effc_row6_col0\" class=\"data row6 col0\" >486304</td>\n",
       "      <td id=\"T_5effc_row6_col1\" class=\"data row6 col1\" >303494</td>\n",
       "      <td id=\"T_5effc_row6_col2\" class=\"data row6 col2\" >789798</td>\n",
       "    </tr>\n",
       "    <tr>\n",
       "      <th id=\"T_5effc_level1_row7\" class=\"row_heading level1 row7\" >2012.000000</th>\n",
       "      <td id=\"T_5effc_row7_col0\" class=\"data row7 col0\" >515562</td>\n",
       "      <td id=\"T_5effc_row7_col1\" class=\"data row7 col1\" >319965</td>\n",
       "      <td id=\"T_5effc_row7_col2\" class=\"data row7 col2\" >835527</td>\n",
       "    </tr>\n",
       "    <tr>\n",
       "      <th id=\"T_5effc_level1_row8\" class=\"row_heading level1 row8\" >2013.000000</th>\n",
       "      <td id=\"T_5effc_row8_col0\" class=\"data row8 col0\" >727385</td>\n",
       "      <td id=\"T_5effc_row8_col1\" class=\"data row8 col1\" >716152</td>\n",
       "      <td id=\"T_5effc_row8_col2\" class=\"data row8 col2\" >1443537</td>\n",
       "    </tr>\n",
       "    <tr>\n",
       "      <th id=\"T_5effc_level1_row9\" class=\"row_heading level1 row9\" >2014.000000</th>\n",
       "      <td id=\"T_5effc_row9_col0\" class=\"data row9 col0\" >733386</td>\n",
       "      <td id=\"T_5effc_row9_col1\" class=\"data row9 col1\" >738136</td>\n",
       "      <td id=\"T_5effc_row9_col2\" class=\"data row9 col2\" >1471522</td>\n",
       "    </tr>\n",
       "    <tr>\n",
       "      <th id=\"T_5effc_level1_row10\" class=\"row_heading level1 row10\" >2015.000000</th>\n",
       "      <td id=\"T_5effc_row10_col0\" class=\"data row10 col0\" >903574</td>\n",
       "      <td id=\"T_5effc_row10_col1\" class=\"data row10 col1\" >828380</td>\n",
       "      <td id=\"T_5effc_row10_col2\" class=\"data row10 col2\" >1731954</td>\n",
       "    </tr>\n",
       "    <tr>\n",
       "      <th id=\"T_5effc_level1_row11\" class=\"row_heading level1 row11\" >2016.000000</th>\n",
       "      <td id=\"T_5effc_row11_col0\" class=\"data row11 col0\" >852231</td>\n",
       "      <td id=\"T_5effc_row11_col1\" class=\"data row11 col1\" >811169</td>\n",
       "      <td id=\"T_5effc_row11_col2\" class=\"data row11 col2\" >1663400</td>\n",
       "    </tr>\n",
       "    <tr>\n",
       "      <th id=\"T_5effc_level0_row12\" class=\"row_heading level0 row12\" rowspan=\"6\">France</th>\n",
       "      <th id=\"T_5effc_level1_row12\" class=\"row_heading level1 row12\" >2011.000000</th>\n",
       "      <td id=\"T_5effc_row12_col0\" class=\"data row12 col0\" >669251</td>\n",
       "      <td id=\"T_5effc_row12_col1\" class=\"data row12 col1\" >277373</td>\n",
       "      <td id=\"T_5effc_row12_col2\" class=\"data row12 col2\" >946624</td>\n",
       "    </tr>\n",
       "    <tr>\n",
       "      <th id=\"T_5effc_level1_row13\" class=\"row_heading level1 row13\" >2012.000000</th>\n",
       "      <td id=\"T_5effc_row13_col0\" class=\"data row13 col0\" >682302</td>\n",
       "      <td id=\"T_5effc_row13_col1\" class=\"data row13 col1\" >279851</td>\n",
       "      <td id=\"T_5effc_row13_col2\" class=\"data row13 col2\" >962153</td>\n",
       "    </tr>\n",
       "    <tr>\n",
       "      <th id=\"T_5effc_level1_row14\" class=\"row_heading level1 row14\" >2013.000000</th>\n",
       "      <td id=\"T_5effc_row14_col0\" class=\"data row14 col0\" >917013</td>\n",
       "      <td id=\"T_5effc_row14_col1\" class=\"data row14 col1\" >514857</td>\n",
       "      <td id=\"T_5effc_row14_col2\" class=\"data row14 col2\" >1431870</td>\n",
       "    </tr>\n",
       "    <tr>\n",
       "      <th id=\"T_5effc_level1_row15\" class=\"row_heading level1 row15\" >2014.000000</th>\n",
       "      <td id=\"T_5effc_row15_col0\" class=\"data row15 col0\" >889401</td>\n",
       "      <td id=\"T_5effc_row15_col1\" class=\"data row15 col1\" >521699</td>\n",
       "      <td id=\"T_5effc_row15_col2\" class=\"data row15 col2\" >1411100</td>\n",
       "    </tr>\n",
       "    <tr>\n",
       "      <th id=\"T_5effc_level1_row16\" class=\"row_heading level1 row16\" >2015.000000</th>\n",
       "      <td id=\"T_5effc_row16_col0\" class=\"data row16 col0\" >1228631</td>\n",
       "      <td id=\"T_5effc_row16_col1\" class=\"data row16 col1\" >649297</td>\n",
       "      <td id=\"T_5effc_row16_col2\" class=\"data row16 col2\" >1877928</td>\n",
       "    </tr>\n",
       "    <tr>\n",
       "      <th id=\"T_5effc_level1_row17\" class=\"row_heading level1 row17\" >2016.000000</th>\n",
       "      <td id=\"T_5effc_row17_col0\" class=\"data row17 col0\" >1165992</td>\n",
       "      <td id=\"T_5effc_row17_col1\" class=\"data row17 col1\" >637205</td>\n",
       "      <td id=\"T_5effc_row17_col2\" class=\"data row17 col2\" >1803197</td>\n",
       "    </tr>\n",
       "    <tr>\n",
       "      <th id=\"T_5effc_level0_row18\" class=\"row_heading level0 row18\" rowspan=\"6\">Germany</th>\n",
       "      <th id=\"T_5effc_level1_row18\" class=\"row_heading level1 row18\" >2011.000000</th>\n",
       "      <td id=\"T_5effc_row18_col0\" class=\"data row18 col0\" >563115</td>\n",
       "      <td id=\"T_5effc_row18_col1\" class=\"data row18 col1\" >270488</td>\n",
       "      <td id=\"T_5effc_row18_col2\" class=\"data row18 col2\" >833603</td>\n",
       "    </tr>\n",
       "    <tr>\n",
       "      <th id=\"T_5effc_level1_row19\" class=\"row_heading level1 row19\" >2012.000000</th>\n",
       "      <td id=\"T_5effc_row19_col0\" class=\"data row19 col0\" >563908</td>\n",
       "      <td id=\"T_5effc_row19_col1\" class=\"data row19 col1\" >271280</td>\n",
       "      <td id=\"T_5effc_row19_col2\" class=\"data row19 col2\" >835188</td>\n",
       "    </tr>\n",
       "    <tr>\n",
       "      <th id=\"T_5effc_level1_row20\" class=\"row_heading level1 row20\" >2013.000000</th>\n",
       "      <td id=\"T_5effc_row20_col0\" class=\"data row20 col0\" >897526</td>\n",
       "      <td id=\"T_5effc_row20_col1\" class=\"data row20 col1\" >555178</td>\n",
       "      <td id=\"T_5effc_row20_col2\" class=\"data row20 col2\" >1452704</td>\n",
       "    </tr>\n",
       "    <tr>\n",
       "      <th id=\"T_5effc_level1_row21\" class=\"row_heading level1 row21\" >2014.000000</th>\n",
       "      <td id=\"T_5effc_row21_col0\" class=\"data row21 col0\" >1017319</td>\n",
       "      <td id=\"T_5effc_row21_col1\" class=\"data row21 col1\" >685189</td>\n",
       "      <td id=\"T_5effc_row21_col2\" class=\"data row21 col2\" >1702508</td>\n",
       "    </tr>\n",
       "    <tr>\n",
       "      <th id=\"T_5effc_level1_row22\" class=\"row_heading level1 row22\" >2015.000000</th>\n",
       "      <td id=\"T_5effc_row22_col0\" class=\"data row22 col0\" >1214589</td>\n",
       "      <td id=\"T_5effc_row22_col1\" class=\"data row22 col1\" >716502</td>\n",
       "      <td id=\"T_5effc_row22_col2\" class=\"data row22 col2\" >1931091</td>\n",
       "    </tr>\n",
       "    <tr>\n",
       "      <th id=\"T_5effc_level1_row23\" class=\"row_heading level1 row23\" >2016.000000</th>\n",
       "      <td id=\"T_5effc_row23_col0\" class=\"data row23 col0\" >1362144</td>\n",
       "      <td id=\"T_5effc_row23_col1\" class=\"data row23 col1\" >861358</td>\n",
       "      <td id=\"T_5effc_row23_col2\" class=\"data row23 col2\" >2223502</td>\n",
       "    </tr>\n",
       "    <tr>\n",
       "      <th id=\"T_5effc_level0_row24\" class=\"row_heading level0 row24\" rowspan=\"6\">United Kingdom</th>\n",
       "      <th id=\"T_5effc_level1_row24\" class=\"row_heading level1 row24\" >2011.000000</th>\n",
       "      <td id=\"T_5effc_row24_col0\" class=\"data row24 col0\" >519664</td>\n",
       "      <td id=\"T_5effc_row24_col1\" class=\"data row24 col1\" >303817</td>\n",
       "      <td id=\"T_5effc_row24_col2\" class=\"data row24 col2\" >823481</td>\n",
       "    </tr>\n",
       "    <tr>\n",
       "      <th id=\"T_5effc_level1_row25\" class=\"row_heading level1 row25\" >2012.000000</th>\n",
       "      <td id=\"T_5effc_row25_col0\" class=\"data row25 col0\" >525968</td>\n",
       "      <td id=\"T_5effc_row25_col1\" class=\"data row25 col1\" >308917</td>\n",
       "      <td id=\"T_5effc_row25_col2\" class=\"data row25 col2\" >834885</td>\n",
       "    </tr>\n",
       "    <tr>\n",
       "      <th id=\"T_5effc_level1_row26\" class=\"row_heading level1 row26\" >2013.000000</th>\n",
       "      <td id=\"T_5effc_row26_col0\" class=\"data row26 col0\" >1079965</td>\n",
       "      <td id=\"T_5effc_row26_col1\" class=\"data row26 col1\" >788831</td>\n",
       "      <td id=\"T_5effc_row26_col2\" class=\"data row26 col2\" >1868796</td>\n",
       "    </tr>\n",
       "    <tr>\n",
       "      <th id=\"T_5effc_level1_row27\" class=\"row_heading level1 row27\" >2014.000000</th>\n",
       "      <td id=\"T_5effc_row27_col0\" class=\"data row27 col0\" >1131345</td>\n",
       "      <td id=\"T_5effc_row27_col1\" class=\"data row27 col1\" >882699</td>\n",
       "      <td id=\"T_5effc_row27_col2\" class=\"data row27 col2\" >2014044</td>\n",
       "    </tr>\n",
       "    <tr>\n",
       "      <th id=\"T_5effc_level1_row28\" class=\"row_heading level1 row28\" >2015.000000</th>\n",
       "      <td id=\"T_5effc_row28_col0\" class=\"data row28 col0\" >1466754</td>\n",
       "      <td id=\"T_5effc_row28_col1\" class=\"data row28 col1\" >1017427</td>\n",
       "      <td id=\"T_5effc_row28_col2\" class=\"data row28 col2\" >2484181</td>\n",
       "    </tr>\n",
       "    <tr>\n",
       "      <th id=\"T_5effc_level1_row29\" class=\"row_heading level1 row29\" >2016.000000</th>\n",
       "      <td id=\"T_5effc_row29_col0\" class=\"data row29 col0\" >1508647</td>\n",
       "      <td id=\"T_5effc_row29_col1\" class=\"data row29 col1\" >1112162</td>\n",
       "      <td id=\"T_5effc_row29_col2\" class=\"data row29 col2\" >2620809</td>\n",
       "    </tr>\n",
       "    <tr>\n",
       "      <th id=\"T_5effc_level0_row30\" class=\"row_heading level0 row30\" rowspan=\"6\">United States</th>\n",
       "      <th id=\"T_5effc_level1_row30\" class=\"row_heading level1 row30\" >2011.000000</th>\n",
       "      <td id=\"T_5effc_row30_col0\" class=\"data row30 col0\" >2025805</td>\n",
       "      <td id=\"T_5effc_row30_col1\" class=\"data row30 col1\" >1015663</td>\n",
       "      <td id=\"T_5effc_row30_col2\" class=\"data row30 col2\" >3041468</td>\n",
       "    </tr>\n",
       "    <tr>\n",
       "      <th id=\"T_5effc_level1_row31\" class=\"row_heading level1 row31\" >2012.000000</th>\n",
       "      <td id=\"T_5effc_row31_col0\" class=\"data row31 col0\" >2094830</td>\n",
       "      <td id=\"T_5effc_row31_col1\" class=\"data row31 col1\" >1055889</td>\n",
       "      <td id=\"T_5effc_row31_col2\" class=\"data row31 col2\" >3150719</td>\n",
       "    </tr>\n",
       "    <tr>\n",
       "      <th id=\"T_5effc_level1_row32\" class=\"row_heading level1 row32\" >2013.000000</th>\n",
       "      <td id=\"T_5effc_row32_col0\" class=\"data row32 col0\" >2891290</td>\n",
       "      <td id=\"T_5effc_row32_col1\" class=\"data row32 col1\" >2044370</td>\n",
       "      <td id=\"T_5effc_row32_col2\" class=\"data row32 col2\" >4935660</td>\n",
       "    </tr>\n",
       "    <tr>\n",
       "      <th id=\"T_5effc_level1_row33\" class=\"row_heading level1 row33\" >2014.000000</th>\n",
       "      <td id=\"T_5effc_row33_col0\" class=\"data row33 col0\" >2709817</td>\n",
       "      <td id=\"T_5effc_row33_col1\" class=\"data row33 col1\" >2040891</td>\n",
       "      <td id=\"T_5effc_row33_col2\" class=\"data row33 col2\" >4750708</td>\n",
       "    </tr>\n",
       "    <tr>\n",
       "      <th id=\"T_5effc_level1_row34\" class=\"row_heading level1 row34\" >2015.000000</th>\n",
       "      <td id=\"T_5effc_row34_col0\" class=\"data row34 col0\" >3771887</td>\n",
       "      <td id=\"T_5effc_row34_col1\" class=\"data row34 col1\" >2514611</td>\n",
       "      <td id=\"T_5effc_row34_col2\" class=\"data row34 col2\" >6286498</td>\n",
       "    </tr>\n",
       "    <tr>\n",
       "      <th id=\"T_5effc_level1_row35\" class=\"row_heading level1 row35\" >2016.000000</th>\n",
       "      <td id=\"T_5effc_row35_col0\" class=\"data row35 col0\" >3408274</td>\n",
       "      <td id=\"T_5effc_row35_col1\" class=\"data row35 col1\" >2402220</td>\n",
       "      <td id=\"T_5effc_row35_col2\" class=\"data row35 col2\" >5810494</td>\n",
       "    </tr>\n",
       "  </tbody>\n",
       "</table>\n"
      ],
      "text/plain": [
       "<pandas.io.formats.style.Styler at 0x28f4d16a640>"
      ]
     },
     "execution_count": 17,
     "metadata": {},
     "output_type": "execute_result"
    }
   ],
   "source": [
    "### Pivot table, summary by year and country\n",
    "pivot_tab6 = bike_sales.pivot_table(index=['Country', 'Year'],\n",
    "                        values=['Cost','Revenue','Profit'],  \n",
    "                        aggfunc=['sum'])  \n",
    "\n",
    "cm = sns.light_palette(\"blue\", as_cmap=True)\n",
    "\n",
    "pivot_tab6.style.background_gradient(cmap=cm).set_precision(0)\n"
   ]
  },
  {
   "cell_type": "code",
   "execution_count": 18,
   "id": "113290b1",
   "metadata": {},
   "outputs": [
    {
     "data": {
      "text/html": [
       "<style type=\"text/css\">\n",
       "#T_bbf59_row0_col2, #T_bbf59_row1_col2, #T_bbf59_row6_col2, #T_bbf59_row7_col2, #T_bbf59_row12_col1, #T_bbf59_row12_col2, #T_bbf59_row13_col1, #T_bbf59_row13_col2, #T_bbf59_row18_col1, #T_bbf59_row18_col2, #T_bbf59_row19_col1, #T_bbf59_row19_col2, #T_bbf59_row24_col2, #T_bbf59_row25_col2, #T_bbf59_row30_col1, #T_bbf59_row30_col2, #T_bbf59_row31_col1, #T_bbf59_row31_col2 {\n",
       "  background-color: yellow;\n",
       "}\n",
       "</style>\n",
       "<table id=\"T_bbf59\">\n",
       "  <thead>\n",
       "    <tr>\n",
       "      <th class=\"blank\" >&nbsp;</th>\n",
       "      <th class=\"blank level0\" >&nbsp;</th>\n",
       "      <th id=\"T_bbf59_level0_col0\" class=\"col_heading level0 col0\" colspan=\"3\">mean</th>\n",
       "    </tr>\n",
       "    <tr>\n",
       "      <th class=\"blank\" >&nbsp;</th>\n",
       "      <th class=\"blank level1\" >&nbsp;</th>\n",
       "      <th id=\"T_bbf59_level1_col0\" class=\"col_heading level1 col0\" >Order_Quantity</th>\n",
       "      <th id=\"T_bbf59_level1_col1\" class=\"col_heading level1 col1\" >Unit_Cost</th>\n",
       "      <th id=\"T_bbf59_level1_col2\" class=\"col_heading level1 col2\" >Unit_Price</th>\n",
       "    </tr>\n",
       "    <tr>\n",
       "      <th class=\"index_name level0\" >Country</th>\n",
       "      <th class=\"index_name level1\" >Year</th>\n",
       "      <th class=\"blank col0\" >&nbsp;</th>\n",
       "      <th class=\"blank col1\" >&nbsp;</th>\n",
       "      <th class=\"blank col2\" >&nbsp;</th>\n",
       "    </tr>\n",
       "  </thead>\n",
       "  <tbody>\n",
       "    <tr>\n",
       "      <th id=\"T_bbf59_level0_row0\" class=\"row_heading level0 row0\" rowspan=\"6\">Australia</th>\n",
       "      <th id=\"T_bbf59_level1_row0\" class=\"row_heading level1 row0\" >2011.000000</th>\n",
       "      <td id=\"T_bbf59_row0_col0\" class=\"data row0 col0\" >1.987194</td>\n",
       "      <td id=\"T_bbf59_row0_col1\" class=\"data row0 col1\" >1071.839348</td>\n",
       "      <td id=\"T_bbf59_row0_col2\" class=\"data row0 col2\" >1771.835856</td>\n",
       "    </tr>\n",
       "    <tr>\n",
       "      <th id=\"T_bbf59_level1_row1\" class=\"row_heading level1 row1\" >2012.000000</th>\n",
       "      <td id=\"T_bbf59_row1_col0\" class=\"data row1 col0\" >2.000000</td>\n",
       "      <td id=\"T_bbf59_row1_col1\" class=\"data row1 col1\" >1071.839348</td>\n",
       "      <td id=\"T_bbf59_row1_col2\" class=\"data row1 col2\" >1771.835856</td>\n",
       "    </tr>\n",
       "    <tr>\n",
       "      <th id=\"T_bbf59_level1_row2\" class=\"row_heading level1 row2\" >2013.000000</th>\n",
       "      <td id=\"T_bbf59_row2_col0\" class=\"data row2 col0\" >10.988379</td>\n",
       "      <td id=\"T_bbf59_row2_col1\" class=\"data row2 col1\" >413.492409</td>\n",
       "      <td id=\"T_bbf59_row2_col2\" class=\"data row2 col2\" >698.955764</td>\n",
       "    </tr>\n",
       "    <tr>\n",
       "      <th id=\"T_bbf59_level1_row3\" class=\"row_heading level1 row3\" >2014.000000</th>\n",
       "      <td id=\"T_bbf59_row3_col0\" class=\"data row3 col0\" >12.585902</td>\n",
       "      <td id=\"T_bbf59_row3_col1\" class=\"data row3 col1\" >213.095255</td>\n",
       "      <td id=\"T_bbf59_row3_col2\" class=\"data row3 col2\" >359.332352</td>\n",
       "    </tr>\n",
       "    <tr>\n",
       "      <th id=\"T_bbf59_level1_row4\" class=\"row_heading level1 row4\" >2015.000000</th>\n",
       "      <td id=\"T_bbf59_row4_col0\" class=\"data row4 col0\" >10.861668</td>\n",
       "      <td id=\"T_bbf59_row4_col1\" class=\"data row4 col1\" >413.492409</td>\n",
       "      <td id=\"T_bbf59_row4_col2\" class=\"data row4 col2\" >698.955764</td>\n",
       "    </tr>\n",
       "    <tr>\n",
       "      <th id=\"T_bbf59_level1_row5\" class=\"row_heading level1 row5\" >2016.000000</th>\n",
       "      <td id=\"T_bbf59_row5_col0\" class=\"data row5 col0\" >12.282473</td>\n",
       "      <td id=\"T_bbf59_row5_col1\" class=\"data row5 col1\" >213.095255</td>\n",
       "      <td id=\"T_bbf59_row5_col2\" class=\"data row5 col2\" >359.332352</td>\n",
       "    </tr>\n",
       "    <tr>\n",
       "      <th id=\"T_bbf59_level0_row6\" class=\"row_heading level0 row6\" rowspan=\"6\">Canada</th>\n",
       "      <th id=\"T_bbf59_level1_row6\" class=\"row_heading level1 row6\" >2011.000000</th>\n",
       "      <td id=\"T_bbf59_row6_col0\" class=\"data row6 col0\" >1.898230</td>\n",
       "      <td id=\"T_bbf59_row6_col1\" class=\"data row6 col1\" >1140.623894</td>\n",
       "      <td id=\"T_bbf59_row6_col2\" class=\"data row6 col2\" >1866.982301</td>\n",
       "    </tr>\n",
       "    <tr>\n",
       "      <th id=\"T_bbf59_level1_row7\" class=\"row_heading level1 row7\" >2012.000000</th>\n",
       "      <td id=\"T_bbf59_row7_col0\" class=\"data row7 col0\" >2.000000</td>\n",
       "      <td id=\"T_bbf59_row7_col1\" class=\"data row7 col1\" >1140.623894</td>\n",
       "      <td id=\"T_bbf59_row7_col2\" class=\"data row7 col2\" >1866.982301</td>\n",
       "    </tr>\n",
       "    <tr>\n",
       "      <th id=\"T_bbf59_level1_row8\" class=\"row_heading level1 row8\" >2013.000000</th>\n",
       "      <td id=\"T_bbf59_row8_col0\" class=\"data row8 col0\" >14.039533</td>\n",
       "      <td id=\"T_bbf59_row8_col1\" class=\"data row8 col1\" >121.814647</td>\n",
       "      <td id=\"T_bbf59_row8_col2\" class=\"data row8 col2\" >211.751134</td>\n",
       "    </tr>\n",
       "    <tr>\n",
       "      <th id=\"T_bbf59_level1_row9\" class=\"row_heading level1 row9\" >2014.000000</th>\n",
       "      <td id=\"T_bbf59_row9_col0\" class=\"data row9 col0\" >14.177389</td>\n",
       "      <td id=\"T_bbf59_row9_col1\" class=\"data row9 col1\" >83.023034</td>\n",
       "      <td id=\"T_bbf59_row9_col2\" class=\"data row9 col2\" >144.505163</td>\n",
       "    </tr>\n",
       "    <tr>\n",
       "      <th id=\"T_bbf59_level1_row10\" class=\"row_heading level1 row10\" >2015.000000</th>\n",
       "      <td id=\"T_bbf59_row10_col0\" class=\"data row10 col0\" >13.707712</td>\n",
       "      <td id=\"T_bbf59_row10_col1\" class=\"data row10 col1\" >121.814647</td>\n",
       "      <td id=\"T_bbf59_row10_col2\" class=\"data row10 col2\" >211.751134</td>\n",
       "    </tr>\n",
       "    <tr>\n",
       "      <th id=\"T_bbf59_level1_row11\" class=\"row_heading level1 row11\" >2016.000000</th>\n",
       "      <td id=\"T_bbf59_row11_col0\" class=\"data row11 col0\" >13.821022</td>\n",
       "      <td id=\"T_bbf59_row11_col1\" class=\"data row11 col1\" >83.023034</td>\n",
       "      <td id=\"T_bbf59_row11_col2\" class=\"data row11 col2\" >144.505163</td>\n",
       "    </tr>\n",
       "    <tr>\n",
       "      <th id=\"T_bbf59_level0_row12\" class=\"row_heading level0 row12\" rowspan=\"6\">France</th>\n",
       "      <th id=\"T_bbf59_level1_row12\" class=\"row_heading level1 row12\" >2011.000000</th>\n",
       "      <td id=\"T_bbf59_row12_col0\" class=\"data row12 col0\" >1.965665</td>\n",
       "      <td id=\"T_bbf59_row12_col1\" class=\"data row12 col1\" >1464.167382</td>\n",
       "      <td id=\"T_bbf59_row12_col2\" class=\"data row12 col2\" >2420.223176</td>\n",
       "    </tr>\n",
       "    <tr>\n",
       "      <th id=\"T_bbf59_level1_row13\" class=\"row_heading level1 row13\" >2012.000000</th>\n",
       "      <td id=\"T_bbf59_row13_col0\" class=\"data row13 col0\" >2.000000</td>\n",
       "      <td id=\"T_bbf59_row13_col1\" class=\"data row13 col1\" >1464.167382</td>\n",
       "      <td id=\"T_bbf59_row13_col2\" class=\"data row13 col2\" >2420.223176</td>\n",
       "    </tr>\n",
       "    <tr>\n",
       "      <th id=\"T_bbf59_level1_row14\" class=\"row_heading level1 row14\" >2013.000000</th>\n",
       "      <td id=\"T_bbf59_row14_col0\" class=\"data row14 col0\" >11.828023</td>\n",
       "      <td id=\"T_bbf59_row14_col1\" class=\"data row14 col1\" >298.122217</td>\n",
       "      <td id=\"T_bbf59_row14_col2\" class=\"data row14 col2\" >502.549542</td>\n",
       "    </tr>\n",
       "    <tr>\n",
       "      <th id=\"T_bbf59_level1_row15\" class=\"row_heading level1 row15\" >2014.000000</th>\n",
       "      <td id=\"T_bbf59_row15_col0\" class=\"data row15 col0\" >12.658151</td>\n",
       "      <td id=\"T_bbf59_row15_col1\" class=\"data row15 col1\" >195.805378</td>\n",
       "      <td id=\"T_bbf59_row15_col2\" class=\"data row15 col2\" >333.739832</td>\n",
       "    </tr>\n",
       "    <tr>\n",
       "      <th id=\"T_bbf59_level1_row16\" class=\"row_heading level1 row16\" >2015.000000</th>\n",
       "      <td id=\"T_bbf59_row16_col0\" class=\"data row16 col0\" >11.609341</td>\n",
       "      <td id=\"T_bbf59_row16_col1\" class=\"data row16 col1\" >298.122217</td>\n",
       "      <td id=\"T_bbf59_row16_col2\" class=\"data row16 col2\" >502.549542</td>\n",
       "    </tr>\n",
       "    <tr>\n",
       "      <th id=\"T_bbf59_level1_row17\" class=\"row_heading level1 row17\" >2016.000000</th>\n",
       "      <td id=\"T_bbf59_row17_col0\" class=\"data row17 col0\" >12.342185</td>\n",
       "      <td id=\"T_bbf59_row17_col1\" class=\"data row17 col1\" >195.805378</td>\n",
       "      <td id=\"T_bbf59_row17_col2\" class=\"data row17 col2\" >333.739832</td>\n",
       "    </tr>\n",
       "    <tr>\n",
       "      <th id=\"T_bbf59_level0_row18\" class=\"row_heading level0 row18\" rowspan=\"6\">Germany</th>\n",
       "      <th id=\"T_bbf59_level1_row18\" class=\"row_heading level1 row18\" >2011.000000</th>\n",
       "      <td id=\"T_bbf59_row18_col0\" class=\"data row18 col0\" >1.987124</td>\n",
       "      <td id=\"T_bbf59_row18_col1\" class=\"data row18 col1\" >1210.103004</td>\n",
       "      <td id=\"T_bbf59_row18_col2\" class=\"data row18 col2\" >1990.935622</td>\n",
       "    </tr>\n",
       "    <tr>\n",
       "      <th id=\"T_bbf59_level1_row19\" class=\"row_heading level1 row19\" >2012.000000</th>\n",
       "      <td id=\"T_bbf59_row19_col0\" class=\"data row19 col0\" >2.000000</td>\n",
       "      <td id=\"T_bbf59_row19_col1\" class=\"data row19 col1\" >1210.103004</td>\n",
       "      <td id=\"T_bbf59_row19_col2\" class=\"data row19 col2\" >1990.935622</td>\n",
       "    </tr>\n",
       "    <tr>\n",
       "      <th id=\"T_bbf59_level1_row20\" class=\"row_heading level1 row20\" >2013.000000</th>\n",
       "      <td id=\"T_bbf59_row20_col0\" class=\"data row20 col0\" >11.334073</td>\n",
       "      <td id=\"T_bbf59_row20_col1\" class=\"data row20 col1\" >306.556344</td>\n",
       "      <td id=\"T_bbf59_row20_col2\" class=\"data row20 col2\" >515.956078</td>\n",
       "    </tr>\n",
       "    <tr>\n",
       "      <th id=\"T_bbf59_level1_row21\" class=\"row_heading level1 row21\" >2014.000000</th>\n",
       "      <td id=\"T_bbf59_row21_col0\" class=\"data row21 col0\" >12.196277</td>\n",
       "      <td id=\"T_bbf59_row21_col1\" class=\"data row21 col1\" >227.519922</td>\n",
       "      <td id=\"T_bbf59_row21_col2\" class=\"data row21 col2\" >389.236773</td>\n",
       "    </tr>\n",
       "    <tr>\n",
       "      <th id=\"T_bbf59_level1_row22\" class=\"row_heading level1 row22\" >2015.000000</th>\n",
       "      <td id=\"T_bbf59_row22_col0\" class=\"data row22 col0\" >11.162822</td>\n",
       "      <td id=\"T_bbf59_row22_col1\" class=\"data row22 col1\" >306.556344</td>\n",
       "      <td id=\"T_bbf59_row22_col2\" class=\"data row22 col2\" >515.956078</td>\n",
       "    </tr>\n",
       "    <tr>\n",
       "      <th id=\"T_bbf59_level1_row23\" class=\"row_heading level1 row23\" >2016.000000</th>\n",
       "      <td id=\"T_bbf59_row23_col0\" class=\"data row23 col0\" >11.998040</td>\n",
       "      <td id=\"T_bbf59_row23_col1\" class=\"data row23 col1\" >227.519922</td>\n",
       "      <td id=\"T_bbf59_row23_col2\" class=\"data row23 col2\" >389.236773</td>\n",
       "    </tr>\n",
       "    <tr>\n",
       "      <th id=\"T_bbf59_level0_row24\" class=\"row_heading level0 row24\" rowspan=\"6\">United Kingdom</th>\n",
       "      <th id=\"T_bbf59_level1_row24\" class=\"row_heading level1 row24\" >2011.000000</th>\n",
       "      <td id=\"T_bbf59_row24_col0\" class=\"data row24 col0\" >2.030189</td>\n",
       "      <td id=\"T_bbf59_row24_col1\" class=\"data row24 col1\" >992.392453</td>\n",
       "      <td id=\"T_bbf59_row24_col2\" class=\"data row24 col2\" >1640.898113</td>\n",
       "    </tr>\n",
       "    <tr>\n",
       "      <th id=\"T_bbf59_level1_row25\" class=\"row_heading level1 row25\" >2012.000000</th>\n",
       "      <td id=\"T_bbf59_row25_col0\" class=\"data row25 col0\" >2.000000</td>\n",
       "      <td id=\"T_bbf59_row25_col1\" class=\"data row25 col1\" >992.392453</td>\n",
       "      <td id=\"T_bbf59_row25_col2\" class=\"data row25 col2\" >1640.898113</td>\n",
       "    </tr>\n",
       "    <tr>\n",
       "      <th id=\"T_bbf59_level1_row26\" class=\"row_heading level1 row26\" >2013.000000</th>\n",
       "      <td id=\"T_bbf59_row26_col0\" class=\"data row26 col0\" >11.597100</td>\n",
       "      <td id=\"T_bbf59_row26_col1\" class=\"data row26 col1\" >271.183412</td>\n",
       "      <td id=\"T_bbf59_row26_col2\" class=\"data row26 col2\" >458.001349</td>\n",
       "    </tr>\n",
       "    <tr>\n",
       "      <th id=\"T_bbf59_level1_row27\" class=\"row_heading level1 row27\" >2014.000000</th>\n",
       "      <td id=\"T_bbf59_row27_col0\" class=\"data row27 col0\" >12.415759</td>\n",
       "      <td id=\"T_bbf59_row27_col1\" class=\"data row27 col1\" >214.334172</td>\n",
       "      <td id=\"T_bbf59_row27_col2\" class=\"data row27 col2\" >365.892149</td>\n",
       "    </tr>\n",
       "    <tr>\n",
       "      <th id=\"T_bbf59_level1_row28\" class=\"row_heading level1 row28\" >2015.000000</th>\n",
       "      <td id=\"T_bbf59_row28_col0\" class=\"data row28 col0\" >11.388739</td>\n",
       "      <td id=\"T_bbf59_row28_col1\" class=\"data row28 col1\" >271.183412</td>\n",
       "      <td id=\"T_bbf59_row28_col2\" class=\"data row28 col2\" >458.001349</td>\n",
       "    </tr>\n",
       "    <tr>\n",
       "      <th id=\"T_bbf59_level1_row29\" class=\"row_heading level1 row29\" >2016.000000</th>\n",
       "      <td id=\"T_bbf59_row29_col0\" class=\"data row29 col0\" >12.164851</td>\n",
       "      <td id=\"T_bbf59_row29_col1\" class=\"data row29 col1\" >214.334172</td>\n",
       "      <td id=\"T_bbf59_row29_col2\" class=\"data row29 col2\" >365.892149</td>\n",
       "    </tr>\n",
       "    <tr>\n",
       "      <th id=\"T_bbf59_level0_row30\" class=\"row_heading level0 row30\" rowspan=\"6\">United States</th>\n",
       "      <th id=\"T_bbf59_level1_row30\" class=\"row_heading level1 row30\" >2011.000000</th>\n",
       "      <td id=\"T_bbf59_row30_col0\" class=\"data row30 col0\" >1.933798</td>\n",
       "      <td id=\"T_bbf59_row30_col1\" class=\"data row30 col1\" >1216.509872</td>\n",
       "      <td id=\"T_bbf59_row30_col2\" class=\"data row30 col2\" >2018.875726</td>\n",
       "    </tr>\n",
       "    <tr>\n",
       "      <th id=\"T_bbf59_level1_row31\" class=\"row_heading level1 row31\" >2012.000000</th>\n",
       "      <td id=\"T_bbf59_row31_col0\" class=\"data row31 col0\" >2.000000</td>\n",
       "      <td id=\"T_bbf59_row31_col1\" class=\"data row31 col1\" >1216.509872</td>\n",
       "      <td id=\"T_bbf59_row31_col2\" class=\"data row31 col2\" >2018.875726</td>\n",
       "    </tr>\n",
       "    <tr>\n",
       "      <th id=\"T_bbf59_level1_row32\" class=\"row_heading level1 row32\" >2013.000000</th>\n",
       "      <td id=\"T_bbf59_row32_col0\" class=\"data row32 col0\" >12.430502</td>\n",
       "      <td id=\"T_bbf59_row32_col1\" class=\"data row32 col1\" >233.752556</td>\n",
       "      <td id=\"T_bbf59_row32_col2\" class=\"data row32 col2\" >402.131477</td>\n",
       "    </tr>\n",
       "    <tr>\n",
       "      <th id=\"T_bbf59_level1_row33\" class=\"row_heading level1 row33\" >2014.000000</th>\n",
       "      <td id=\"T_bbf59_row33_col0\" class=\"data row33 col0\" >13.090314</td>\n",
       "      <td id=\"T_bbf59_row33_col1\" class=\"data row33 col1\" >161.773629</td>\n",
       "      <td id=\"T_bbf59_row33_col2\" class=\"data row33 col2\" >279.722315</td>\n",
       "    </tr>\n",
       "    <tr>\n",
       "      <th id=\"T_bbf59_level1_row34\" class=\"row_heading level1 row34\" >2015.000000</th>\n",
       "      <td id=\"T_bbf59_row34_col0\" class=\"data row34 col0\" >12.187875</td>\n",
       "      <td id=\"T_bbf59_row34_col1\" class=\"data row34 col1\" >233.752556</td>\n",
       "      <td id=\"T_bbf59_row34_col2\" class=\"data row34 col2\" >402.131477</td>\n",
       "    </tr>\n",
       "    <tr>\n",
       "      <th id=\"T_bbf59_level1_row35\" class=\"row_heading level1 row35\" >2016.000000</th>\n",
       "      <td id=\"T_bbf59_row35_col0\" class=\"data row35 col0\" >12.774704</td>\n",
       "      <td id=\"T_bbf59_row35_col1\" class=\"data row35 col1\" >161.773629</td>\n",
       "      <td id=\"T_bbf59_row35_col2\" class=\"data row35 col2\" >279.722315</td>\n",
       "    </tr>\n",
       "    <tr>\n",
       "      <th id=\"T_bbf59_level0_row36\" class=\"row_heading level0 row36\" >Grand Total</th>\n",
       "      <th id=\"T_bbf59_level1_row36\" class=\"row_heading level1 row36\" ></th>\n",
       "      <td id=\"T_bbf59_row36_col0\" class=\"data row36 col0\" >11.901660</td>\n",
       "      <td id=\"T_bbf59_row36_col1\" class=\"data row36 col1\" >267.296366</td>\n",
       "      <td id=\"T_bbf59_row36_col2\" class=\"data row36 col2\" >452.938427</td>\n",
       "    </tr>\n",
       "  </tbody>\n",
       "</table>\n"
      ],
      "text/plain": [
       "<pandas.io.formats.style.Styler at 0x28f4d208f40>"
      ]
     },
     "execution_count": 18,
     "metadata": {},
     "output_type": "execute_result"
    }
   ],
   "source": [
    "## Pivot table, summary by year and country on unit cost and price\n",
    "#highliting the highest prices and costs.\n",
    "pivot_tab7 = bike_sales.pivot_table(index=['Country', 'Year'],\n",
    "                        values=['Unit_Cost','Unit_Price','Order_Quantity'],  \n",
    "                        aggfunc=['mean'],        \n",
    "                        margins=True,\n",
    "                        margins_name='Grand Total')   \n",
    "                        \n",
    "    \n",
    "pivot_tab7.style.highlight_quantile(q_left=0.85, axis=None, color='yellow')\n"
   ]
  },
  {
   "cell_type": "code",
   "execution_count": 19,
   "id": "e5d5077d",
   "metadata": {},
   "outputs": [
    {
     "name": "stderr",
     "output_type": "stream",
     "text": [
      "C:\\Users\\igieo\\AppData\\Local\\Temp\\ipykernel_3744\\952012663.py:10: FutureWarning: this method is deprecated in favour of `Styler.format(precision=..)`\n",
      "  pivot_tab8.style.background_gradient(cmap=cm).set_precision(0).highlight_min(axis=0, color='yellow').highlight_max(axis=0, color='green')\n"
     ]
    },
    {
     "data": {
      "text/html": [
       "<style type=\"text/css\">\n",
       "#T_94f82_row0_col0 {\n",
       "  background-color: #a6a6f7;\n",
       "  color: #000000;\n",
       "}\n",
       "#T_94f82_row0_col1 {\n",
       "  background-color: #9696f7;\n",
       "  color: #f1f1f1;\n",
       "}\n",
       "#T_94f82_row1_col0 {\n",
       "  background-color: #a3a3f7;\n",
       "  color: #f1f1f1;\n",
       "}\n",
       "#T_94f82_row1_col1 {\n",
       "  background-color: #9191f8;\n",
       "  color: #f1f1f1;\n",
       "}\n",
       "#T_94f82_row2_col0, #T_94f82_row2_col1 {\n",
       "  background-color: #5050fb;\n",
       "  color: #f1f1f1;\n",
       "}\n",
       "#T_94f82_row3_col0 {\n",
       "  background-color: #2929fd;\n",
       "  color: #f1f1f1;\n",
       "}\n",
       "#T_94f82_row3_col1 {\n",
       "  background-color: #3131fd;\n",
       "  color: #f1f1f1;\n",
       "}\n",
       "#T_94f82_row4_col0 {\n",
       "  background-color: #2828fd;\n",
       "  color: #f1f1f1;\n",
       "}\n",
       "#T_94f82_row4_col1 {\n",
       "  background-color: #1f1ffd;\n",
       "  color: #f1f1f1;\n",
       "}\n",
       "#T_94f82_row5_col0, #T_94f82_row5_col1 {\n",
       "  background-color: #0000ff;\n",
       "  color: #f1f1f1;\n",
       "  background-color: green;\n",
       "}\n",
       "#T_94f82_row6_col0, #T_94f82_row6_col1, #T_94f82_row8_col0, #T_94f82_row8_col1, #T_94f82_row10_col0, #T_94f82_row10_col1 {\n",
       "  background-color: #f0f0f3;\n",
       "  color: #000000;\n",
       "}\n",
       "#T_94f82_row7_col0, #T_94f82_row7_col1 {\n",
       "  background-color: #f0f0f3;\n",
       "  color: #000000;\n",
       "  background-color: yellow;\n",
       "}\n",
       "#T_94f82_row9_col0, #T_94f82_row9_col1, #T_94f82_row11_col0, #T_94f82_row11_col1 {\n",
       "  background-color: #efeff3;\n",
       "  color: #000000;\n",
       "}\n",
       "#T_94f82_row12_col0 {\n",
       "  background-color: #b1b1f6;\n",
       "  color: #000000;\n",
       "}\n",
       "#T_94f82_row12_col1 {\n",
       "  background-color: #a2a2f7;\n",
       "  color: #f1f1f1;\n",
       "}\n",
       "#T_94f82_row13_col0 {\n",
       "  background-color: #b0b0f6;\n",
       "  color: #000000;\n",
       "}\n",
       "#T_94f82_row13_col1 {\n",
       "  background-color: #a1a1f7;\n",
       "  color: #f1f1f1;\n",
       "}\n",
       "#T_94f82_row14_col0 {\n",
       "  background-color: #6d6df9;\n",
       "  color: #f1f1f1;\n",
       "}\n",
       "#T_94f82_row14_col1 {\n",
       "  background-color: #6868fa;\n",
       "  color: #f1f1f1;\n",
       "}\n",
       "#T_94f82_row15_col0 {\n",
       "  background-color: #8585f8;\n",
       "  color: #f1f1f1;\n",
       "}\n",
       "#T_94f82_row15_col1 {\n",
       "  background-color: #8989f8;\n",
       "  color: #f1f1f1;\n",
       "}\n",
       "#T_94f82_row16_col0 {\n",
       "  background-color: #4848fb;\n",
       "  color: #f1f1f1;\n",
       "}\n",
       "#T_94f82_row16_col1 {\n",
       "  background-color: #3b3bfc;\n",
       "  color: #f1f1f1;\n",
       "}\n",
       "#T_94f82_row17_col0 {\n",
       "  background-color: #6f6ff9;\n",
       "  color: #f1f1f1;\n",
       "}\n",
       "#T_94f82_row17_col1 {\n",
       "  background-color: #6e6ef9;\n",
       "  color: #f1f1f1;\n",
       "}\n",
       "#T_94f82_row18_col0 {\n",
       "  background-color: #d3d3f4;\n",
       "  color: #000000;\n",
       "}\n",
       "#T_94f82_row18_col1, #T_94f82_row23_col1 {\n",
       "  background-color: #ccccf5;\n",
       "  color: #000000;\n",
       "}\n",
       "#T_94f82_row19_col0 {\n",
       "  background-color: #d4d4f4;\n",
       "  color: #000000;\n",
       "}\n",
       "#T_94f82_row19_col1 {\n",
       "  background-color: #cdcdf5;\n",
       "  color: #000000;\n",
       "}\n",
       "#T_94f82_row20_col0 {\n",
       "  background-color: #babaf6;\n",
       "  color: #000000;\n",
       "}\n",
       "#T_94f82_row20_col1 {\n",
       "  background-color: #b9b9f6;\n",
       "  color: #000000;\n",
       "}\n",
       "#T_94f82_row21_col0 {\n",
       "  background-color: #d0d0f4;\n",
       "  color: #000000;\n",
       "}\n",
       "#T_94f82_row21_col1 {\n",
       "  background-color: #d2d2f4;\n",
       "  color: #000000;\n",
       "}\n",
       "#T_94f82_row22_col0 {\n",
       "  background-color: #acacf6;\n",
       "  color: #000000;\n",
       "}\n",
       "#T_94f82_row22_col1 {\n",
       "  background-color: #a8a8f6;\n",
       "  color: #000000;\n",
       "}\n",
       "#T_94f82_row23_col0 {\n",
       "  background-color: #cbcbf5;\n",
       "  color: #000000;\n",
       "}\n",
       "</style>\n",
       "<table id=\"T_94f82\">\n",
       "  <thead>\n",
       "    <tr>\n",
       "      <th class=\"blank\" >&nbsp;</th>\n",
       "      <th class=\"blank level0\" >&nbsp;</th>\n",
       "      <th id=\"T_94f82_level0_col0\" class=\"col_heading level0 col0\" colspan=\"2\">sum</th>\n",
       "    </tr>\n",
       "    <tr>\n",
       "      <th class=\"blank\" >&nbsp;</th>\n",
       "      <th class=\"blank level1\" >&nbsp;</th>\n",
       "      <th id=\"T_94f82_level1_col0\" class=\"col_heading level1 col0\" >Profit</th>\n",
       "      <th id=\"T_94f82_level1_col1\" class=\"col_heading level1 col1\" >Revenue</th>\n",
       "    </tr>\n",
       "    <tr>\n",
       "      <th class=\"index_name level0\" >Age_Group</th>\n",
       "      <th class=\"index_name level1\" >Year</th>\n",
       "      <th class=\"blank col0\" >&nbsp;</th>\n",
       "      <th class=\"blank col1\" >&nbsp;</th>\n",
       "    </tr>\n",
       "  </thead>\n",
       "  <tbody>\n",
       "    <tr>\n",
       "      <th id=\"T_94f82_level0_row0\" class=\"row_heading level0 row0\" rowspan=\"6\">Adults (35-64)</th>\n",
       "      <th id=\"T_94f82_level1_row0\" class=\"row_heading level1 row0\" >2011.000000</th>\n",
       "      <td id=\"T_94f82_row0_col0\" class=\"data row0 col0\" >1278031</td>\n",
       "      <td id=\"T_94f82_row0_col1\" class=\"data row0 col1\" >3932489</td>\n",
       "    </tr>\n",
       "    <tr>\n",
       "      <th id=\"T_94f82_level1_row1\" class=\"row_heading level1 row1\" >2012.000000</th>\n",
       "      <td id=\"T_94f82_row1_col0\" class=\"data row1 col0\" >1336260</td>\n",
       "      <td id=\"T_94f82_row1_col1\" class=\"data row1 col1\" >4110904</td>\n",
       "    </tr>\n",
       "    <tr>\n",
       "      <th id=\"T_94f82_level1_row2\" class=\"row_heading level1 row2\" >2013.000000</th>\n",
       "      <td id=\"T_94f82_row2_col0\" class=\"data row2 col0\" >2737478</td>\n",
       "      <td id=\"T_94f82_row2_col1\" class=\"data row2 col1\" >6892732</td>\n",
       "    </tr>\n",
       "    <tr>\n",
       "      <th id=\"T_94f82_level1_row3\" class=\"row_heading level1 row3\" >2014.000000</th>\n",
       "      <td id=\"T_94f82_row3_col0\" class=\"data row3 col0\" >3416871</td>\n",
       "      <td id=\"T_94f82_row3_col1\" class=\"data row3 col1\" >8256595</td>\n",
       "    </tr>\n",
       "    <tr>\n",
       "      <th id=\"T_94f82_level1_row4\" class=\"row_heading level1 row4\" >2015.000000</th>\n",
       "      <td id=\"T_94f82_row4_col0\" class=\"data row4 col0\" >3436847</td>\n",
       "      <td id=\"T_94f82_row4_col1\" class=\"data row4 col1\" >9024978</td>\n",
       "    </tr>\n",
       "    <tr>\n",
       "      <th id=\"T_94f82_level1_row5\" class=\"row_heading level1 row5\" >2016.000000</th>\n",
       "      <td id=\"T_94f82_row5_col0\" class=\"data row5 col0\" >4116095</td>\n",
       "      <td id=\"T_94f82_row5_col1\" class=\"data row5 col1\" >10366455</td>\n",
       "    </tr>\n",
       "    <tr>\n",
       "      <th id=\"T_94f82_level0_row6\" class=\"row_heading level0 row6\" rowspan=\"6\">Seniors (64+)</th>\n",
       "      <th id=\"T_94f82_level1_row6\" class=\"row_heading level1 row6\" >2011.000000</th>\n",
       "      <td id=\"T_94f82_row6_col0\" class=\"data row6 col0\" >9169</td>\n",
       "      <td id=\"T_94f82_row6_col1\" class=\"data row6 col1\" >25363</td>\n",
       "    </tr>\n",
       "    <tr>\n",
       "      <th id=\"T_94f82_level1_row7\" class=\"row_heading level1 row7\" >2012.000000</th>\n",
       "      <td id=\"T_94f82_row7_col0\" class=\"data row7 col0\" >7506</td>\n",
       "      <td id=\"T_94f82_row7_col1\" class=\"data row7 col1\" >23230</td>\n",
       "    </tr>\n",
       "    <tr>\n",
       "      <th id=\"T_94f82_level1_row8\" class=\"row_heading level1 row8\" >2013.000000</th>\n",
       "      <td id=\"T_94f82_row8_col0\" class=\"data row8 col0\" >17764</td>\n",
       "      <td id=\"T_94f82_row8_col1\" class=\"data row8 col1\" >39798</td>\n",
       "    </tr>\n",
       "    <tr>\n",
       "      <th id=\"T_94f82_level1_row9\" class=\"row_heading level1 row9\" >2014.000000</th>\n",
       "      <td id=\"T_94f82_row9_col0\" class=\"data row9 col0\" >40309</td>\n",
       "      <td id=\"T_94f82_row9_col1\" class=\"data row9 col1\" >81036</td>\n",
       "    </tr>\n",
       "    <tr>\n",
       "      <th id=\"T_94f82_level1_row10\" class=\"row_heading level1 row10\" >2015.000000</th>\n",
       "      <td id=\"T_94f82_row10_col0\" class=\"data row10 col0\" >19994</td>\n",
       "      <td id=\"T_94f82_row10_col1\" class=\"data row10 col1\" >47332</td>\n",
       "    </tr>\n",
       "    <tr>\n",
       "      <th id=\"T_94f82_level1_row11\" class=\"row_heading level1 row11\" >2016.000000</th>\n",
       "      <td id=\"T_94f82_row11_col0\" class=\"data row11 col0\" >43423</td>\n",
       "      <td id=\"T_94f82_row11_col1\" class=\"data row11 col1\" >91283</td>\n",
       "    </tr>\n",
       "    <tr>\n",
       "      <th id=\"T_94f82_level0_row12\" class=\"row_heading level0 row12\" rowspan=\"6\">Young Adults (25-34)</th>\n",
       "      <th id=\"T_94f82_level1_row12\" class=\"row_heading level1 row12\" >2011.000000</th>\n",
       "      <td id=\"T_94f82_row12_col0\" class=\"data row12 col0\" >1085579</td>\n",
       "      <td id=\"T_94f82_row12_col1\" class=\"data row12 col1\" >3399983</td>\n",
       "    </tr>\n",
       "    <tr>\n",
       "      <th id=\"T_94f82_level1_row13\" class=\"row_heading level1 row13\" >2012.000000</th>\n",
       "      <td id=\"T_94f82_row13_col0\" class=\"data row13 col0\" >1108066</td>\n",
       "      <td id=\"T_94f82_row13_col1\" class=\"data row13 col1\" >3454784</td>\n",
       "    </tr>\n",
       "    <tr>\n",
       "      <th id=\"T_94f82_level1_row14\" class=\"row_heading level1 row14\" >2013.000000</th>\n",
       "      <td id=\"T_94f82_row14_col0\" class=\"data row14 col0\" >2252986</td>\n",
       "      <td id=\"T_94f82_row14_col1\" class=\"data row14 col1\" >5891342</td>\n",
       "    </tr>\n",
       "    <tr>\n",
       "      <th id=\"T_94f82_level1_row15\" class=\"row_heading level1 row15\" >2014.000000</th>\n",
       "      <td id=\"T_94f82_row15_col0\" class=\"data row15 col0\" >1839782</td>\n",
       "      <td id=\"T_94f82_row15_col1\" class=\"data row15 col1\" >4481449</td>\n",
       "    </tr>\n",
       "    <tr>\n",
       "      <th id=\"T_94f82_level1_row16\" class=\"row_heading level1 row16\" >2015.000000</th>\n",
       "      <td id=\"T_94f82_row16_col0\" class=\"data row16 col0\" >2880608</td>\n",
       "      <td id=\"T_94f82_row16_col1\" class=\"data row16 col1\" >7789617</td>\n",
       "    </tr>\n",
       "    <tr>\n",
       "      <th id=\"T_94f82_level1_row17\" class=\"row_heading level1 row17\" >2016.000000</th>\n",
       "      <td id=\"T_94f82_row17_col0\" class=\"data row17 col0\" >2219740</td>\n",
       "      <td id=\"T_94f82_row17_col1\" class=\"data row17 col1\" >5638439</td>\n",
       "    </tr>\n",
       "    <tr>\n",
       "      <th id=\"T_94f82_level0_row18\" class=\"row_heading level0 row18\" rowspan=\"6\">Youth (<25)</th>\n",
       "      <th id=\"T_94f82_level1_row18\" class=\"row_heading level1 row18\" >2011.000000</th>\n",
       "      <td id=\"T_94f82_row18_col0\" class=\"data row18 col0\" >508522</td>\n",
       "      <td id=\"T_94f82_row18_col1\" class=\"data row18 col1\" >1607053</td>\n",
       "    </tr>\n",
       "    <tr>\n",
       "      <th id=\"T_94f82_level1_row19\" class=\"row_heading level1 row19\" >2012.000000</th>\n",
       "      <td id=\"T_94f82_row19_col0\" class=\"data row19 col0\" >500161</td>\n",
       "      <td id=\"T_94f82_row19_col1\" class=\"data row19 col1\" >1587065</td>\n",
       "    </tr>\n",
       "    <tr>\n",
       "      <th id=\"T_94f82_level1_row20\" class=\"row_heading level1 row20\" >2013.000000</th>\n",
       "      <td id=\"T_94f82_row20_col0\" class=\"data row20 col0\" >950980</td>\n",
       "      <td id=\"T_94f82_row20_col1\" class=\"data row20 col1\" >2416165</td>\n",
       "    </tr>\n",
       "    <tr>\n",
       "      <th id=\"T_94f82_level1_row21\" class=\"row_heading level1 row21\" >2014.000000</th>\n",
       "      <td id=\"T_94f82_row21_col0\" class=\"data row21 col0\" >567125</td>\n",
       "      <td id=\"T_94f82_row21_col1\" class=\"data row21 col1\" >1333644</td>\n",
       "    </tr>\n",
       "    <tr>\n",
       "      <th id=\"T_94f82_level1_row22\" class=\"row_heading level1 row22\" >2015.000000</th>\n",
       "      <td id=\"T_94f82_row22_col0\" class=\"data row22 col0\" >1191114</td>\n",
       "      <td id=\"T_94f82_row22_col1\" class=\"data row22 col1\" >3162064</td>\n",
       "    </tr>\n",
       "    <tr>\n",
       "      <th id=\"T_94f82_level1_row23\" class=\"row_heading level1 row23\" >2016.000000</th>\n",
       "      <td id=\"T_94f82_row23_col0\" class=\"data row23 col0\" >656690</td>\n",
       "      <td id=\"T_94f82_row23_col1\" class=\"data row23 col1\" >1617208</td>\n",
       "    </tr>\n",
       "  </tbody>\n",
       "</table>\n"
      ],
      "text/plain": [
       "<pandas.io.formats.style.Styler at 0x28f4d177f10>"
      ]
     },
     "execution_count": 19,
     "metadata": {},
     "output_type": "execute_result"
    }
   ],
   "source": [
    "## Pivot table, summary by year and Age groups on profit and revenue\n",
    "#highliting the highest,lowest revenues and profit.\n",
    "\n",
    "pivot_tab8 = bike_sales.pivot_table(index=['Age_Group','Year' ],\n",
    "                        values=['Revenue', 'Profit'],\n",
    "                                  aggfunc=['sum'])   \n",
    "                        \n",
    "cm = sns.light_palette(\"blue\", as_cmap=True)\n",
    "\n",
    "pivot_tab8.style.background_gradient(cmap=cm).set_precision(0).highlight_min(axis=0, color='yellow').highlight_max(axis=0, color='green')\n"
   ]
  },
  {
   "cell_type": "code",
   "execution_count": 23,
   "id": "10943886",
   "metadata": {},
   "outputs": [
    {
     "data": {
      "text/html": [
       "<style type=\"text/css\">\n",
       "#T_18ea6 th {\n",
       "  color: blue;\n",
       "}\n",
       "#T_18ea6_row0_col0, #T_18ea6_row0_col1, #T_18ea6_row1_col0, #T_18ea6_row1_col1, #T_18ea6_row2_col0, #T_18ea6_row2_col1, #T_18ea6_row3_col0, #T_18ea6_row3_col1, #T_18ea6_row4_col0, #T_18ea6_row4_col1, #T_18ea6_row5_col0, #T_18ea6_row5_col1, #T_18ea6_row6_col0, #T_18ea6_row6_col1, #T_18ea6_row7_col0, #T_18ea6_row7_col1, #T_18ea6_row8_col0, #T_18ea6_row8_col1, #T_18ea6_row9_col0, #T_18ea6_row9_col1, #T_18ea6_row10_col0, #T_18ea6_row10_col1, #T_18ea6_row11_col0, #T_18ea6_row11_col1, #T_18ea6_row12_col0, #T_18ea6_row12_col1, #T_18ea6_row13_col0, #T_18ea6_row13_col1, #T_18ea6_row14_col0, #T_18ea6_row14_col1 {\n",
       "  color: #ff0000;\n",
       "}\n",
       "</style>\n",
       "<table id=\"T_18ea6\">\n",
       "  <thead>\n",
       "    <tr>\n",
       "      <th class=\"blank\" >&nbsp;</th>\n",
       "      <th class=\"blank level0\" >&nbsp;</th>\n",
       "      <th id=\"T_18ea6_level0_col0\" class=\"col_heading level0 col0\" colspan=\"2\">sum</th>\n",
       "    </tr>\n",
       "    <tr>\n",
       "      <th class=\"blank\" >&nbsp;</th>\n",
       "      <th class=\"blank level1\" >&nbsp;</th>\n",
       "      <th id=\"T_18ea6_level1_col0\" class=\"col_heading level1 col0\" >Profit</th>\n",
       "      <th id=\"T_18ea6_level1_col1\" class=\"col_heading level1 col1\" >Revenue</th>\n",
       "    </tr>\n",
       "    <tr>\n",
       "      <th class=\"index_name level0\" >Product_Category</th>\n",
       "      <th class=\"index_name level1\" >Year</th>\n",
       "      <th class=\"blank col0\" >&nbsp;</th>\n",
       "      <th class=\"blank col1\" >&nbsp;</th>\n",
       "    </tr>\n",
       "  </thead>\n",
       "  <tbody>\n",
       "    <tr>\n",
       "      <th id=\"T_18ea6_level0_row0\" class=\"row_heading level0 row0\" rowspan=\"4\">Accessories</th>\n",
       "      <th id=\"T_18ea6_level1_row0\" class=\"row_heading level1 row0\" >2013.000000</th>\n",
       "      <td id=\"T_18ea6_row0_col0\" class=\"data row0 col0\" >1985231</td>\n",
       "      <td id=\"T_18ea6_row0_col1\" class=\"data row0 col1\" >3384215</td>\n",
       "    </tr>\n",
       "    <tr>\n",
       "      <th id=\"T_18ea6_level1_row1\" class=\"row_heading level1 row1\" >2014.000000</th>\n",
       "      <td id=\"T_18ea6_row1_col0\" class=\"data row1 col0\" >2515513</td>\n",
       "      <td id=\"T_18ea6_row1_col1\" class=\"data row1 col1\" >4293592</td>\n",
       "    </tr>\n",
       "    <tr>\n",
       "      <th id=\"T_18ea6_level1_row2\" class=\"row_heading level1 row2\" >2015.000000</th>\n",
       "      <td id=\"T_18ea6_row2_col0\" class=\"data row2 col0\" >1927540</td>\n",
       "      <td id=\"T_18ea6_row2_col1\" class=\"data row2 col1\" >3285954</td>\n",
       "    </tr>\n",
       "    <tr>\n",
       "      <th id=\"T_18ea6_level1_row3\" class=\"row_heading level1 row3\" >2016.000000</th>\n",
       "      <td id=\"T_18ea6_row3_col0\" class=\"data row3 col0\" >2434093</td>\n",
       "      <td id=\"T_18ea6_row3_col1\" class=\"data row3 col1\" >4154231</td>\n",
       "    </tr>\n",
       "    <tr>\n",
       "      <th id=\"T_18ea6_level0_row4\" class=\"row_heading level0 row4\" rowspan=\"6\">Bikes</th>\n",
       "      <th id=\"T_18ea6_level1_row4\" class=\"row_heading level1 row4\" >2011.000000</th>\n",
       "      <td id=\"T_18ea6_row4_col0\" class=\"data row4 col0\" >2881301</td>\n",
       "      <td id=\"T_18ea6_row4_col1\" class=\"data row4 col1\" >8964888</td>\n",
       "    </tr>\n",
       "    <tr>\n",
       "      <th id=\"T_18ea6_level1_row5\" class=\"row_heading level1 row5\" >2012.000000</th>\n",
       "      <td id=\"T_18ea6_row5_col0\" class=\"data row5 col0\" >2951993</td>\n",
       "      <td id=\"T_18ea6_row5_col1\" class=\"data row5 col1\" >9175983</td>\n",
       "    </tr>\n",
       "    <tr>\n",
       "      <th id=\"T_18ea6_level1_row6\" class=\"row_heading level1 row6\" >2013.000000</th>\n",
       "      <td id=\"T_18ea6_row6_col0\" class=\"data row6 col0\" >3290410</td>\n",
       "      <td id=\"T_18ea6_row6_col1\" class=\"data row6 col1\" >9858787</td>\n",
       "    </tr>\n",
       "    <tr>\n",
       "      <th id=\"T_18ea6_level1_row7\" class=\"row_heading level1 row7\" >2014.000000</th>\n",
       "      <td id=\"T_18ea6_row7_col0\" class=\"data row7 col0\" >2591500</td>\n",
       "      <td id=\"T_18ea6_row7_col1\" class=\"data row7 col1\" >7611243</td>\n",
       "    </tr>\n",
       "    <tr>\n",
       "      <th id=\"T_18ea6_level1_row8\" class=\"row_heading level1 row8\" >2015.000000</th>\n",
       "      <td id=\"T_18ea6_row8_col0\" class=\"data row8 col0\" >4938927</td>\n",
       "      <td id=\"T_18ea6_row8_col1\" class=\"data row8 col1\" >14799083</td>\n",
       "    </tr>\n",
       "    <tr>\n",
       "      <th id=\"T_18ea6_level1_row9\" class=\"row_heading level1 row9\" >2016.000000</th>\n",
       "      <td id=\"T_18ea6_row9_col0\" class=\"data row9 col0\" >3865145</td>\n",
       "      <td id=\"T_18ea6_row9_col1\" class=\"data row9 col1\" >11372150</td>\n",
       "    </tr>\n",
       "    <tr>\n",
       "      <th id=\"T_18ea6_level0_row10\" class=\"row_heading level0 row10\" rowspan=\"4\">Clothing</th>\n",
       "      <th id=\"T_18ea6_level1_row10\" class=\"row_heading level1 row10\" >2013.000000</th>\n",
       "      <td id=\"T_18ea6_row10_col0\" class=\"data row10 col0\" >683567</td>\n",
       "      <td id=\"T_18ea6_row10_col1\" class=\"data row10 col1\" >1997035</td>\n",
       "    </tr>\n",
       "    <tr>\n",
       "      <th id=\"T_18ea6_level1_row11\" class=\"row_heading level1 row11\" >2014.000000</th>\n",
       "      <td id=\"T_18ea6_row11_col0\" class=\"data row11 col0\" >757074</td>\n",
       "      <td id=\"T_18ea6_row11_col1\" class=\"data row11 col1\" >2247889</td>\n",
       "    </tr>\n",
       "    <tr>\n",
       "      <th id=\"T_18ea6_level1_row12\" class=\"row_heading level1 row12\" >2015.000000</th>\n",
       "      <td id=\"T_18ea6_row12_col0\" class=\"data row12 col0\" >662096</td>\n",
       "      <td id=\"T_18ea6_row12_col1\" class=\"data row12 col1\" >1938954</td>\n",
       "    </tr>\n",
       "    <tr>\n",
       "      <th id=\"T_18ea6_level1_row13\" class=\"row_heading level1 row13\" >2016.000000</th>\n",
       "      <td id=\"T_18ea6_row13_col0\" class=\"data row13 col0\" >736710</td>\n",
       "      <td id=\"T_18ea6_row13_col1\" class=\"data row13 col1\" >2187004</td>\n",
       "    </tr>\n",
       "    <tr>\n",
       "      <th id=\"T_18ea6_level0_row14\" class=\"row_heading level0 row14\" >Grand Total</th>\n",
       "      <th id=\"T_18ea6_level1_row14\" class=\"row_heading level1 row14\" ></th>\n",
       "      <td id=\"T_18ea6_row14_col0\" class=\"data row14 col0\" >32221100</td>\n",
       "      <td id=\"T_18ea6_row14_col1\" class=\"data row14 col1\" >85271008</td>\n",
       "    </tr>\n",
       "  </tbody>\n",
       "</table>\n"
      ],
      "text/plain": [
       "<pandas.io.formats.style.Styler at 0x28f4d178ca0>"
      ]
     },
     "execution_count": 23,
     "metadata": {},
     "output_type": "execute_result"
    }
   ],
   "source": [
    "## Pivot table, summary by year and products on profit and revenue\n",
    "pivot_tab9 = bike_sales.pivot_table(index=['Product_Category','Year' ],\n",
    "                        values=['Revenue', 'Profit'],\n",
    "                                  aggfunc=['sum'],\n",
    "                        margins=True,\n",
    "                        margins_name='Grand Total')   \n",
    "                        \n",
    "pivot_tab9.style.format('{:.0f}', na_rep=\"\", thousands=\" \")\\\n",
    "         .text_gradient(cmap=\"bwr\", vmin=-2.5, vmax=2.5)\\\n",
    "            .set_table_styles([{\"selector\": \"th\", \"props\": \"color: blue;\"}])"
   ]
  },
  {
   "cell_type": "markdown",
   "id": "14e5457c",
   "metadata": {},
   "source": [
    "#### After a series of pivot summaries of the data to study and understand the data, now here are a sereis of stats on the data"
   ]
  },
  {
   "cell_type": "code",
   "execution_count": 63,
   "id": "e38cd2e2",
   "metadata": {},
   "outputs": [
    {
     "data": {
      "text/plain": [
       "2014    29398\n",
       "2016    29398\n",
       "2013    24443\n",
       "2015    24443\n",
       "2012     2677\n",
       "2011     2677\n",
       "Name: Year, dtype: int64"
      ]
     },
     "execution_count": 63,
     "metadata": {},
     "output_type": "execute_result"
    }
   ],
   "source": [
    "#Sales records per year\n",
    "bike_sales['Year'].value_counts()"
   ]
  },
  {
   "cell_type": "code",
   "execution_count": 44,
   "id": "5ae344cc",
   "metadata": {},
   "outputs": [
    {
     "data": {
      "text/plain": [
       "count    113036.000000\n",
       "mean        267.296366\n",
       "std         549.835483\n",
       "min           1.000000\n",
       "25%           2.000000\n",
       "50%           9.000000\n",
       "75%          42.000000\n",
       "max        2171.000000\n",
       "Name: Unit_Cost, dtype: float64"
      ]
     },
     "execution_count": 44,
     "metadata": {},
     "output_type": "execute_result"
    }
   ],
   "source": [
    "#Statisitics cost per unit\n",
    "bike_sales['Unit_Cost'].describe()"
   ]
  },
  {
   "cell_type": "code",
   "execution_count": 30,
   "id": "e77d6888",
   "metadata": {},
   "outputs": [
    {
     "data": {
      "text/plain": [
       "count    113036.000000\n",
       "mean        452.938427\n",
       "std         922.071219\n",
       "min           2.000000\n",
       "25%           5.000000\n",
       "50%          24.000000\n",
       "75%          70.000000\n",
       "max        3578.000000\n",
       "Name: Unit_Price, dtype: float64"
      ]
     },
     "execution_count": 30,
     "metadata": {},
     "output_type": "execute_result"
    }
   ],
   "source": [
    "#Statisitics price per unit\n",
    "bike_sales['Unit_Price'].describe()"
   ]
  },
  {
   "cell_type": "code",
   "execution_count": 31,
   "id": "01ab4fac",
   "metadata": {},
   "outputs": [
    {
     "data": {
      "text/plain": [
       "<matplotlib.lines.Line2D at 0x1ea6c74daf0>"
      ]
     },
     "execution_count": 31,
     "metadata": {},
     "output_type": "execute_result"
    },
    {
     "data": {
      "image/png": "[encoded data removed]",
      "text/plain": [
       "<Figure size 1008x432 with 1 Axes>"
      ]
     },
     "metadata": {
      "needs_background": "light"
     },
     "output_type": "display_data"
    }
   ],
   "source": [
    "#Distrubution of the unit cost\n",
    "\n",
    "ax = bike_sales['Unit_Cost'].plot(kind='density', figsize=(14,6))\n",
    "ax.axvline(bike_sales['Unit_Cost'].mean(), color='red')\n",
    "ax.axvline(bike_sales['Unit_Cost'].median(), color='orange')"
   ]
  },
  {
   "cell_type": "code",
   "execution_count": 32,
   "id": "f2161bea",
   "metadata": {},
   "outputs": [
    {
     "data": {
      "text/plain": [
       "<matplotlib.lines.Line2D at 0x1ea6c776160>"
      ]
     },
     "execution_count": 32,
     "metadata": {},
     "output_type": "execute_result"
    },
    {
     "data": {
      "image/png": "[encoded data removed]",
      "text/plain": [
       "<Figure size 1008x432 with 1 Axes>"
      ]
     },
     "metadata": {
      "needs_background": "light"
     },
     "output_type": "display_data"
    }
   ],
   "source": [
    "#Distrubution of the unit price\n",
    "ax = bike_sales['Unit_Price'].plot(kind='density', figsize=(14,6))\n",
    "ax.axvline(bike_sales['Unit_Price'].mean(), color='red')\n",
    "ax.axvline(bike_sales['Unit_Price'].median(), color='orange')"
   ]
  },
  {
   "cell_type": "code",
   "execution_count": 34,
   "id": "ee26e267",
   "metadata": {},
   "outputs": [
    {
     "data": {
      "text/plain": [
       "Text(0.5, 0, '$')"
      ]
     },
     "execution_count": 34,
     "metadata": {},
     "output_type": "execute_result"
    },
    {
     "data": {
      "image/png": "[encoded data removed]",
      "text/plain": [
       "<Figure size 1008x432 with 1 Axes>"
      ]
     },
     "metadata": {
      "needs_background": "light"
     },
     "output_type": "display_data"
    }
   ],
   "source": [
    "#Distrubution of the unit price with an histogram\n",
    "ax = bike_sales['Unit_Price'].plot(kind='hist', figsize=(14,6))\n",
    "ax.set_ylabel('Sales Volume')\n",
    "ax.set_xlabel('$')"
   ]
  },
  {
   "cell_type": "code",
   "execution_count": 38,
   "id": "4f5ee233",
   "metadata": {},
   "outputs": [
    {
     "data": {
      "text/plain": [
       "count             113036\n",
       "unique                 4\n",
       "top       Adults (35-64)\n",
       "freq               55824\n",
       "Name: Age_Group, dtype: object"
      ]
     },
     "execution_count": 38,
     "metadata": {},
     "output_type": "execute_result"
    }
   ],
   "source": [
    "#Categorical analysis Age groups,average age\n",
    "bike_sales['Age_Group'].describe()"
   ]
  },
  {
   "cell_type": "code",
   "execution_count": 46,
   "id": "8a7f0360",
   "metadata": {},
   "outputs": [
    {
     "data": {
      "text/plain": [
       "count    113036.000000\n",
       "mean         35.919212\n",
       "std          11.021936\n",
       "min          17.000000\n",
       "25%          28.000000\n",
       "50%          35.000000\n",
       "75%          43.000000\n",
       "max          87.000000\n",
       "Name: Customer_Age, dtype: float64"
      ]
     },
     "execution_count": 46,
     "metadata": {},
     "output_type": "execute_result"
    }
   ],
   "source": [
    "#statistics of the  customer age\n",
    "bike_sales['Customer_Age'].describe()"
   ]
  },
  {
   "cell_type": "code",
   "execution_count": 98,
   "id": "fc7ca550",
   "metadata": {},
   "outputs": [
    {
     "data": {
      "text/plain": [
       "<AxesSubplot:>"
      ]
     },
     "execution_count": 98,
     "metadata": {},
     "output_type": "execute_result"
    },
    {
     "data": {
      "image/png": "[encoded data removed]",
      "text/plain": [
       "<Figure size 1008x432 with 1 Axes>"
      ]
     },
     "metadata": {
      "needs_background": "light"
     },
     "output_type": "display_data"
    }
   ],
   "source": [
    "#Distrubution of the ages of the  customers with a boxplot\n",
    "bike_sales['Customer_Age'].plot(kind='box', vert=False, figsize=(14,6))"
   ]
  },
  {
   "cell_type": "code",
   "execution_count": 99,
   "id": "61e68a60",
   "metadata": {},
   "outputs": [
    {
     "data": {
      "text/plain": [
       "<AxesSubplot:ylabel='Density'>"
      ]
     },
     "execution_count": 99,
     "metadata": {},
     "output_type": "execute_result"
    },
    {
     "data": {
      "image/png": "[encoded data removed]",
      "text/plain": [
       "<Figure size 1008x432 with 1 Axes>"
      ]
     },
     "metadata": {
      "needs_background": "light"
     },
     "output_type": "display_data"
    }
   ],
   "source": [
    "#Distrubution of the ages of the  customers with density dist \n",
    "bike_sales['Customer_Age'].plot(kind='kde', figsize=(14,6))"
   ]
  },
  {
   "cell_type": "code",
   "execution_count": 46,
   "id": "5a75fc44",
   "metadata": {},
   "outputs": [
    {
     "data": {
      "text/plain": [
       "Text(0, 0.5, 'Sales Volume')"
      ]
     },
     "execution_count": 46,
     "metadata": {},
     "output_type": "execute_result"
    },
    {
     "data": {
      "image/png": "[encoded data removed]",
      "text/plain": [
       "<Figure size 864x432 with 1 Axes>"
      ]
     },
     "metadata": {
      "needs_background": "light"
     },
     "output_type": "display_data"
    }
   ],
   "source": [
    "#Barcharts on age groups with sales activities\n",
    "ax = bike_sales['Age_Group'].value_counts().plot(kind='bar', figsize=(12,6))\n",
    "ax.set_ylabel('Sales Volume')"
   ]
  },
  {
   "cell_type": "code",
   "execution_count": 45,
   "id": "5ff981c2",
   "metadata": {
    "scrolled": true
   },
   "outputs": [
    {
     "data": {
      "text/plain": [
       "Adults (35-64)          55824\n",
       "Young Adults (25-34)    38654\n",
       "Youth (<25)             17828\n",
       "Seniors (64+)             730\n",
       "Name: Age_Group, dtype: int64"
      ]
     },
     "execution_count": 45,
     "metadata": {},
     "output_type": "execute_result"
    }
   ],
   "source": [
    "#count of the sales by age group\n",
    "bike_sales['Age_Group'].value_counts()"
   ]
  },
  {
   "cell_type": "markdown",
   "id": "eeae2ac4",
   "metadata": {},
   "source": [
    "#### This part analysis the relationships in the data"
   ]
  },
  {
   "cell_type": "code",
   "execution_count": 50,
   "id": "e9db978e",
   "metadata": {},
   "outputs": [
    {
     "data": {
      "text/html": [
       "<div>\n",
       "<style scoped>\n",
       "    .dataframe tbody tr th:only-of-type {\n",
       "        vertical-align: middle;\n",
       "    }\n",
       "\n",
       "    .dataframe tbody tr th {\n",
       "        vertical-align: top;\n",
       "    }\n",
       "\n",
       "    .dataframe thead th {\n",
       "        text-align: right;\n",
       "    }\n",
       "</style>\n",
       "<table border=\"1\" class=\"dataframe\">\n",
       "  <thead>\n",
       "    <tr style=\"text-align: right;\">\n",
       "      <th></th>\n",
       "      <th>Day</th>\n",
       "      <th>Year</th>\n",
       "      <th>Customer_Age</th>\n",
       "      <th>Order_Quantity</th>\n",
       "      <th>Unit_Cost</th>\n",
       "      <th>Unit_Price</th>\n",
       "      <th>Profit</th>\n",
       "      <th>Cost</th>\n",
       "      <th>Revenue</th>\n",
       "    </tr>\n",
       "  </thead>\n",
       "  <tbody>\n",
       "    <tr>\n",
       "      <th>Day</th>\n",
       "      <td>1.000000</td>\n",
       "      <td>-0.007635</td>\n",
       "      <td>-0.014296</td>\n",
       "      <td>-0.002412</td>\n",
       "      <td>0.003133</td>\n",
       "      <td>0.003207</td>\n",
       "      <td>0.004623</td>\n",
       "      <td>0.003329</td>\n",
       "      <td>0.003853</td>\n",
       "    </tr>\n",
       "    <tr>\n",
       "      <th>Year</th>\n",
       "      <td>-0.007635</td>\n",
       "      <td>1.000000</td>\n",
       "      <td>0.040994</td>\n",
       "      <td>0.123169</td>\n",
       "      <td>-0.217575</td>\n",
       "      <td>-0.213673</td>\n",
       "      <td>-0.181525</td>\n",
       "      <td>-0.215604</td>\n",
       "      <td>-0.208673</td>\n",
       "    </tr>\n",
       "    <tr>\n",
       "      <th>Customer_Age</th>\n",
       "      <td>-0.014296</td>\n",
       "      <td>0.040994</td>\n",
       "      <td>1.000000</td>\n",
       "      <td>0.026887</td>\n",
       "      <td>-0.021374</td>\n",
       "      <td>-0.020262</td>\n",
       "      <td>0.004319</td>\n",
       "      <td>-0.016013</td>\n",
       "      <td>-0.009326</td>\n",
       "    </tr>\n",
       "    <tr>\n",
       "      <th>Order_Quantity</th>\n",
       "      <td>-0.002412</td>\n",
       "      <td>0.123169</td>\n",
       "      <td>0.026887</td>\n",
       "      <td>1.000000</td>\n",
       "      <td>-0.515835</td>\n",
       "      <td>-0.515925</td>\n",
       "      <td>-0.238863</td>\n",
       "      <td>-0.340382</td>\n",
       "      <td>-0.312895</td>\n",
       "    </tr>\n",
       "    <tr>\n",
       "      <th>Unit_Cost</th>\n",
       "      <td>0.003133</td>\n",
       "      <td>-0.217575</td>\n",
       "      <td>-0.021374</td>\n",
       "      <td>-0.515835</td>\n",
       "      <td>1.000000</td>\n",
       "      <td>0.997894</td>\n",
       "      <td>0.741020</td>\n",
       "      <td>0.829869</td>\n",
       "      <td>0.817865</td>\n",
       "    </tr>\n",
       "    <tr>\n",
       "      <th>Unit_Price</th>\n",
       "      <td>0.003207</td>\n",
       "      <td>-0.213673</td>\n",
       "      <td>-0.020262</td>\n",
       "      <td>-0.515925</td>\n",
       "      <td>0.997894</td>\n",
       "      <td>1.000000</td>\n",
       "      <td>0.749870</td>\n",
       "      <td>0.826301</td>\n",
       "      <td>0.818522</td>\n",
       "    </tr>\n",
       "    <tr>\n",
       "      <th>Profit</th>\n",
       "      <td>0.004623</td>\n",
       "      <td>-0.181525</td>\n",
       "      <td>0.004319</td>\n",
       "      <td>-0.238863</td>\n",
       "      <td>0.741020</td>\n",
       "      <td>0.749870</td>\n",
       "      <td>1.000000</td>\n",
       "      <td>0.902233</td>\n",
       "      <td>0.956572</td>\n",
       "    </tr>\n",
       "    <tr>\n",
       "      <th>Cost</th>\n",
       "      <td>0.003329</td>\n",
       "      <td>-0.215604</td>\n",
       "      <td>-0.016013</td>\n",
       "      <td>-0.340382</td>\n",
       "      <td>0.829869</td>\n",
       "      <td>0.826301</td>\n",
       "      <td>0.902233</td>\n",
       "      <td>1.000000</td>\n",
       "      <td>0.988758</td>\n",
       "    </tr>\n",
       "    <tr>\n",
       "      <th>Revenue</th>\n",
       "      <td>0.003853</td>\n",
       "      <td>-0.208673</td>\n",
       "      <td>-0.009326</td>\n",
       "      <td>-0.312895</td>\n",
       "      <td>0.817865</td>\n",
       "      <td>0.818522</td>\n",
       "      <td>0.956572</td>\n",
       "      <td>0.988758</td>\n",
       "      <td>1.000000</td>\n",
       "    </tr>\n",
       "  </tbody>\n",
       "</table>\n",
       "</div>"
      ],
      "text/plain": [
       "                     Day      Year  Customer_Age  Order_Quantity  Unit_Cost  \\\n",
       "Day             1.000000 -0.007635     -0.014296       -0.002412   0.003133   \n",
       "Year           -0.007635  1.000000      0.040994        0.123169  -0.217575   \n",
       "Customer_Age   -0.014296  0.040994      1.000000        0.026887  -0.021374   \n",
       "Order_Quantity -0.002412  0.123169      0.026887        1.000000  -0.515835   \n",
       "Unit_Cost       0.003133 -0.217575     -0.021374       -0.515835   1.000000   \n",
       "Unit_Price      0.003207 -0.213673     -0.020262       -0.515925   0.997894   \n",
       "Profit          0.004623 -0.181525      0.004319       -0.238863   0.741020   \n",
       "Cost            0.003329 -0.215604     -0.016013       -0.340382   0.829869   \n",
       "Revenue         0.003853 -0.208673     -0.009326       -0.312895   0.817865   \n",
       "\n",
       "                Unit_Price    Profit      Cost   Revenue  \n",
       "Day               0.003207  0.004623  0.003329  0.003853  \n",
       "Year             -0.213673 -0.181525 -0.215604 -0.208673  \n",
       "Customer_Age     -0.020262  0.004319 -0.016013 -0.009326  \n",
       "Order_Quantity   -0.515925 -0.238863 -0.340382 -0.312895  \n",
       "Unit_Cost         0.997894  0.741020  0.829869  0.817865  \n",
       "Unit_Price        1.000000  0.749870  0.826301  0.818522  \n",
       "Profit            0.749870  1.000000  0.902233  0.956572  \n",
       "Cost              0.826301  0.902233  1.000000  0.988758  \n",
       "Revenue           0.818522  0.956572  0.988758  1.000000  "
      ]
     },
     "execution_count": 50,
     "metadata": {},
     "output_type": "execute_result"
    }
   ],
   "source": [
    "#Relationships,correlation table\n",
    "corr = bike_sales.corr()\n",
    "\n",
    "corr"
   ]
  },
  {
   "cell_type": "code",
   "execution_count": 52,
   "id": "f1322d4d",
   "metadata": {},
   "outputs": [
    {
     "data": {
      "image/png": "[encoded data removed]",
      "text/plain": [
       "<Figure size 720x720 with 1 Axes>"
      ]
     },
     "metadata": {
      "needs_background": "light"
     },
     "output_type": "display_data"
    }
   ],
   "source": [
    "#using the density table to improve the visibility of the correlation \n",
    "\n",
    "fig = plt.figure(figsize=(10,10))\n",
    "plt.matshow(corr, cmap='RdBu', fignum=fig.number)\n",
    "plt.xticks(range(len(corr.columns)), corr.columns, rotation='vertical');\n",
    "plt.yticks(range(len(corr.columns)), corr.columns);"
   ]
  },
  {
   "cell_type": "markdown",
   "id": "cdfaf430",
   "metadata": {},
   "source": [
    "As one should expect, the correlation is obvious between revenue,cost, and profit."
   ]
  },
  {
   "cell_type": "code",
   "execution_count": 47,
   "id": "b31d7d5d",
   "metadata": {},
   "outputs": [
    {
     "data": {
      "text/plain": [
       "<AxesSubplot:xlabel='Cost', ylabel='Profit'>"
      ]
     },
     "execution_count": 47,
     "metadata": {},
     "output_type": "execute_result"
    },
    {
     "data": {
      "image/png": "[encoded data removed]",
      "text/plain": [
       "<Figure size 432x432 with 1 Axes>"
      ]
     },
     "metadata": {
      "needs_background": "light"
     },
     "output_type": "display_data"
    }
   ],
   "source": [
    "#Cost profit relatioship\n",
    "bike_sales.plot(kind='scatter', x='Cost', y='Profit', figsize=(6,6))"
   ]
  },
  {
   "cell_type": "code",
   "execution_count": 52,
   "id": "35477966",
   "metadata": {},
   "outputs": [
    {
     "data": {
      "text/plain": [
       "<AxesSubplot:xlabel='Unit_Cost', ylabel='Unit_Price'>"
      ]
     },
     "execution_count": 52,
     "metadata": {},
     "output_type": "execute_result"
    },
    {
     "data": {
      "image/png": "[encoded data removed]",
      "text/plain": [
       "<Figure size 432x432 with 1 Axes>"
      ]
     },
     "metadata": {
      "needs_background": "light"
     },
     "output_type": "display_data"
    }
   ],
   "source": [
    "##cost/price relatioship\n",
    "bike_sales.plot(kind='scatter', x='Unit_Cost', y='Unit_Price', figsize=(6,6))"
   ]
  },
  {
   "cell_type": "code",
   "execution_count": 48,
   "id": "8d8e07c3",
   "metadata": {},
   "outputs": [
    {
     "data": {
      "text/plain": [
       "<AxesSubplot:xlabel='Customer_Age', ylabel='Revenue'>"
      ]
     },
     "execution_count": 48,
     "metadata": {},
     "output_type": "execute_result"
    },
    {
     "data": {
      "image/png": "[encoded data removed]",
      "text/plain": [
       "<Figure size 432x432 with 1 Axes>"
      ]
     },
     "metadata": {
      "needs_background": "light"
     },
     "output_type": "display_data"
    }
   ],
   "source": [
    "##Revenue/age relatioship\n",
    "bike_sales.plot(kind='scatter', x='Customer_Age', y='Revenue', figsize=(6,6))"
   ]
  },
  {
   "cell_type": "markdown",
   "id": "5f51c264",
   "metadata": {},
   "source": [
    "#### Using boxplots to compare the different categories and dimensions in the data"
   ]
  },
  {
   "cell_type": "code",
   "execution_count": 59,
   "id": "eb50fd71",
   "metadata": {},
   "outputs": [
    {
     "data": {
      "text/plain": [
       "Text(0, 0.5, 'Revenue')"
      ]
     },
     "execution_count": 59,
     "metadata": {},
     "output_type": "execute_result"
    },
    {
     "data": {
      "image/png": "[encoded data removed]",
      "text/plain": [
       "<Figure size 720x432 with 1 Axes>"
      ]
     },
     "metadata": {
      "needs_background": "light"
     },
     "output_type": "display_data"
    }
   ],
   "source": [
    "##Revenue/age groups box plots\n",
    "ax = bike_sales[['Revenue', 'Age_Group']].boxplot(by='Age_Group', figsize=(10,6))\n",
    "ax.set_ylabel('Revenue')"
   ]
  },
  {
   "cell_type": "code",
   "execution_count": 49,
   "id": "0e4fd8b7",
   "metadata": {},
   "outputs": [
    {
     "data": {
      "text/plain": [
       "<AxesSubplot:title={'center':'Customer_Age'}, xlabel='[Country]'>"
      ]
     },
     "execution_count": 49,
     "metadata": {},
     "output_type": "execute_result"
    },
    {
     "data": {
      "image/png": "[encoded data removed]",
      "text/plain": [
       "<Figure size 720x432 with 1 Axes>"
      ]
     },
     "metadata": {
      "needs_background": "light"
     },
     "output_type": "display_data"
    }
   ],
   "source": [
    "bike_sales[['Customer_Age', 'Country']].boxplot(by='Country', figsize=(10,6))"
   ]
  },
  {
   "cell_type": "code",
   "execution_count": 64,
   "id": "46ed14bb",
   "metadata": {},
   "outputs": [
    {
     "data": {
      "text/plain": [
       "<AxesSubplot:title={'center':'Profit'}, xlabel='[Month]'>"
      ]
     },
     "execution_count": 64,
     "metadata": {},
     "output_type": "execute_result"
    },
    {
     "data": {
      "image/png": "[encoded data removed]",
      "text/plain": [
       "<Figure size 1008x432 with 1 Axes>"
      ]
     },
     "metadata": {
      "needs_background": "light"
     },
     "output_type": "display_data"
    }
   ],
   "source": [
    "profit_2016 = bike_sales.loc[bike_sales['Year'] == 2016, ['Profit', 'Month']]\n",
    "\n",
    "profit_2016.boxplot(by='Month', figsize=(14,6))"
   ]
  },
  {
   "cell_type": "code",
   "execution_count": 61,
   "id": "f1a50d04",
   "metadata": {},
   "outputs": [
    {
     "data": {
      "text/plain": [
       "<AxesSubplot:>"
      ]
     },
     "execution_count": 61,
     "metadata": {},
     "output_type": "execute_result"
    },
    {
     "data": {
      "image/png": "[encoded data removed]",
      "text/plain": [
       "<Figure size 1008x432 with 1 Axes>"
      ]
     },
     "metadata": {
      "needs_background": "light"
     },
     "output_type": "display_data"
    }
   ],
   "source": [
    "bike_sales['Order_Quantity'].plot(kind='box', vert=False, figsize=(14,6))"
   ]
  },
  {
   "cell_type": "markdown",
   "id": "449e29c9",
   "metadata": {},
   "source": [
    "## wrangling the columns\n",
    "\n",
    "#### Calculations and specific insights from the data by age,country, and period of the year"
   ]
  },
  {
   "cell_type": "code",
   "execution_count": 72,
   "id": "e2334eee",
   "metadata": {},
   "outputs": [],
   "source": [
    "#Revenue_per_Age\n",
    "bike_sales['Revenue_per_Age'] = bike_sales['Revenue'] / bike_sales['Customer_Age']\n",
    "bike_sales['Profit_per_Age'] = bike_sales['Profit'] / bike_sales['Customer_Age']\n"
   ]
  },
  {
   "cell_type": "code",
   "execution_count": 71,
   "id": "8fe95cde",
   "metadata": {
    "scrolled": false
   },
   "outputs": [
    {
     "data": {
      "text/plain": [
       "<AxesSubplot:ylabel='Frequency'>"
      ]
     },
     "execution_count": 71,
     "metadata": {},
     "output_type": "execute_result"
    },
    {
     "data": {
      "image/png": "[encoded data removed]",
      "text/plain": [
       "<Figure size 1008x432 with 1 Axes>"
      ]
     },
     "metadata": {
      "needs_background": "light"
     },
     "output_type": "display_data"
    }
   ],
   "source": [
    "bike_sales['Revenue_per_Age'].plot(kind='hist', figsize=(14,6))\n"
   ]
  },
  {
   "cell_type": "code",
   "execution_count": 93,
   "id": "20400866",
   "metadata": {
    "scrolled": true
   },
   "outputs": [
    {
     "data": {
      "text/plain": [
       "<AxesSubplot:ylabel='Year'>"
      ]
     },
     "execution_count": 93,
     "metadata": {},
     "output_type": "execute_result"
    },
    {
     "data": {
      "image/png": "[encoded data removed]",
      "text/plain": [
       "<Figure size 432x432 with 1 Axes>"
      ]
     },
     "metadata": {},
     "output_type": "display_data"
    }
   ],
   "source": [
    "#Total sales over the 6 years period\n",
    "bike_sales['Year'].value_counts().plot(kind='pie', figsize=(6,6))"
   ]
  },
  {
   "cell_type": "code",
   "execution_count": 103,
   "id": "5e42bcac",
   "metadata": {},
   "outputs": [
    {
     "data": {
      "text/plain": [
       "June         11234\n",
       "December     11200\n",
       "May          11128\n",
       "April        10182\n",
       "March         9674\n",
       "January       9284\n",
       "February      9022\n",
       "October       8750\n",
       "November      8734\n",
       "August        8200\n",
       "September     8166\n",
       "July          7462\n",
       "Name: Month, dtype: int64"
      ]
     },
     "execution_count": 103,
     "metadata": {},
     "output_type": "execute_result"
    }
   ],
   "source": [
    "#Sales actiivities by month over the 6 years period\n",
    "bike_sales['Month'].value_counts()"
   ]
  },
  {
   "cell_type": "code",
   "execution_count": 104,
   "id": "c5475b64",
   "metadata": {},
   "outputs": [
    {
     "data": {
      "text/plain": [
       "<AxesSubplot:>"
      ]
     },
     "execution_count": 104,
     "metadata": {},
     "output_type": "execute_result"
    },
    {
     "data": {
      "image/png": "[encoded data removed]",
      "text/plain": [
       "<Figure size 1008x432 with 1 Axes>"
      ]
     },
     "metadata": {
      "needs_background": "light"
     },
     "output_type": "display_data"
    }
   ],
   "source": [
    "bike_sales['Month'].value_counts().plot(kind='bar', figsize=(14,6))"
   ]
  },
  {
   "cell_type": "code",
   "execution_count": 73,
   "id": "a723b0e6",
   "metadata": {},
   "outputs": [
    {
     "data": {
      "text/plain": [
       "0    120.0\n",
       "1    120.0\n",
       "2    120.0\n",
       "3    120.0\n",
       "4    120.0\n",
       "Name: Unit_Price, dtype: float64"
      ]
     },
     "execution_count": 73,
     "metadata": {},
     "output_type": "execute_result"
    }
   ],
   "source": [
    "bike_sales['Unit_Price'].head()"
   ]
  },
  {
   "cell_type": "code",
   "execution_count": 94,
   "id": "0ed3aa22",
   "metadata": {},
   "outputs": [],
   "source": [
    "#Increasing sales prices\n",
    "#sales['Unit_Price'] = sales['Unit_Price'] * 1.03\n",
    "\n",
    "bike_sales['Unit_Price'] *= 1.03"
   ]
  },
  {
   "cell_type": "code",
   "execution_count": 95,
   "id": "ff8bd7b4",
   "metadata": {},
   "outputs": [
    {
     "data": {
      "text/plain": [
       "0    123.6\n",
       "1    123.6\n",
       "2    123.6\n",
       "3    123.6\n",
       "4    123.6\n",
       "Name: Unit_Price, dtype: float64"
      ]
     },
     "execution_count": 95,
     "metadata": {},
     "output_type": "execute_result"
    }
   ],
   "source": [
    "bike_sales['Unit_Price'].head()"
   ]
  },
  {
   "cell_type": "code",
   "execution_count": 109,
   "id": "185e5490",
   "metadata": {},
   "outputs": [
    {
     "data": {
      "text/plain": [
       "<AxesSubplot:>"
      ]
     },
     "execution_count": 109,
     "metadata": {},
     "output_type": "execute_result"
    },
    {
     "data": {
      "image/png": "[encoded data removed]",
      "text/plain": [
       "<Figure size 1008x432 with 1 Axes>"
      ]
     },
     "metadata": {
      "needs_background": "light"
     },
     "output_type": "display_data"
    }
   ],
   "source": [
    "#Total sales over the 6 years period by countries\n",
    "bike_sales['Country'].value_counts().plot(kind='bar', figsize=(14,6))"
   ]
  },
  {
   "cell_type": "markdown",
   "id": "a8bf8f8a",
   "metadata": {},
   "source": [
    "#### This last part gives insights on sales by category over the 6 years period."
   ]
  },
  {
   "cell_type": "code",
   "execution_count": 74,
   "id": "e76d32e2",
   "metadata": {},
   "outputs": [
    {
     "data": {
      "text/plain": [
       "Accessories    70120\n",
       "Bikes          25982\n",
       "Clothing       16934\n",
       "Name: Product_Category, dtype: int64"
      ]
     },
     "execution_count": 74,
     "metadata": {},
     "output_type": "execute_result"
    }
   ],
   "source": [
    "bike_sales['Product_Category'].value_counts()"
   ]
  },
  {
   "cell_type": "code",
   "execution_count": 119,
   "id": "67ee4282",
   "metadata": {},
   "outputs": [
    {
     "data": {
      "text/plain": [
       "<AxesSubplot:ylabel='Product_Category'>"
      ]
     },
     "execution_count": 119,
     "metadata": {},
     "output_type": "execute_result"
    },
    {
     "data": {
      "image/png": "[encoded data removed]",
      "text/plain": [
       "<Figure size 432x432 with 1 Axes>"
      ]
     },
     "metadata": {},
     "output_type": "display_data"
    }
   ],
   "source": [
    "bike_sales['Product_Category'].value_counts().plot(kind='pie', figsize=(6,6))"
   ]
  },
  {
   "cell_type": "code",
   "execution_count": 122,
   "id": "a7f1fadf",
   "metadata": {},
   "outputs": [
    {
     "data": {
      "text/plain": [
       "Road Bikes        13430\n",
       "Mountain Bikes     8854\n",
       "Touring Bikes      3698\n",
       "Name: Sub_Category, dtype: int64"
      ]
     },
     "execution_count": 122,
     "metadata": {},
     "output_type": "execute_result"
    }
   ],
   "source": [
    "bikes = bike_sales.loc[bike_sales['Product_Category'] == 'Bikes', 'Sub_Category'].value_counts()\n",
    "\n",
    "bikes"
   ]
  },
  {
   "cell_type": "code",
   "execution_count": 124,
   "id": "c5d3a08a",
   "metadata": {},
   "outputs": [
    {
     "data": {
      "text/plain": [
       "<AxesSubplot:ylabel='Sub_Category'>"
      ]
     },
     "execution_count": 124,
     "metadata": {},
     "output_type": "execute_result"
    },
    {
     "data": {
      "image/png": "[encoded data removed]",
      "text/plain": [
       "<Figure size 432x432 with 1 Axes>"
      ]
     },
     "metadata": {},
     "output_type": "display_data"
    }
   ],
   "source": [
    "bikes.plot(kind='pie', figsize=(6,6))"
   ]
  },
  {
   "cell_type": "code",
   "execution_count": 125,
   "id": "dcdd7a79",
   "metadata": {},
   "outputs": [
    {
     "data": {
      "text/plain": [
       "M    58312\n",
       "F    54724\n",
       "Name: Customer_Gender, dtype: int64"
      ]
     },
     "execution_count": 125,
     "metadata": {},
     "output_type": "execute_result"
    }
   ],
   "source": [
    " bike_sales['Customer_Gender'].value_counts()"
   ]
  },
  {
   "cell_type": "code",
   "execution_count": 69,
   "id": "46abfdff",
   "metadata": {},
   "outputs": [
    {
     "data": {
      "text/html": [
       "<div>\n",
       "<style scoped>\n",
       "    .dataframe tbody tr th:only-of-type {\n",
       "        vertical-align: middle;\n",
       "    }\n",
       "\n",
       "    .dataframe tbody tr th {\n",
       "        vertical-align: top;\n",
       "    }\n",
       "\n",
       "    .dataframe thead th {\n",
       "        text-align: right;\n",
       "    }\n",
       "</style>\n",
       "<table border=\"1\" class=\"dataframe\">\n",
       "  <thead>\n",
       "    <tr style=\"text-align: right;\">\n",
       "      <th></th>\n",
       "      <th>Date</th>\n",
       "      <th>Day</th>\n",
       "      <th>Month</th>\n",
       "      <th>Year</th>\n",
       "      <th>Customer_Age</th>\n",
       "      <th>Age_Group</th>\n",
       "      <th>Customer_Gender</th>\n",
       "      <th>Country</th>\n",
       "      <th>State</th>\n",
       "      <th>Product_Category</th>\n",
       "      <th>Sub_Category</th>\n",
       "      <th>Product</th>\n",
       "      <th>Order_Quantity</th>\n",
       "      <th>Unit_Cost</th>\n",
       "      <th>Unit_Price</th>\n",
       "      <th>Profit</th>\n",
       "      <th>Cost</th>\n",
       "      <th>Revenue</th>\n",
       "      <th>Revenue_per_Age</th>\n",
       "      <th>Profit_per_Age</th>\n",
       "    </tr>\n",
       "  </thead>\n",
       "  <tbody>\n",
       "    <tr>\n",
       "      <th>112073</th>\n",
       "      <td>2015-07-24</td>\n",
       "      <td>24.0</td>\n",
       "      <td>July</td>\n",
       "      <td>2015</td>\n",
       "      <td>52.0</td>\n",
       "      <td>Adults (35-64)</td>\n",
       "      <td>M</td>\n",
       "      <td>Australia</td>\n",
       "      <td>Queensland</td>\n",
       "      <td>Clothing</td>\n",
       "      <td>Vests</td>\n",
       "      <td>Touring-1000 Yellow, 50</td>\n",
       "      <td>29.0</td>\n",
       "      <td>1482.0</td>\n",
       "      <td>2384.0</td>\n",
       "      <td>15096.0</td>\n",
       "      <td>42978.0</td>\n",
       "      <td>58074.0</td>\n",
       "      <td>1116.807692</td>\n",
       "      <td>290.307692</td>\n",
       "    </tr>\n",
       "  </tbody>\n",
       "</table>\n",
       "</div>"
      ],
      "text/plain": [
       "             Date   Day Month  Year  Customer_Age       Age_Group  \\\n",
       "112073 2015-07-24  24.0  July  2015          52.0  Adults (35-64)   \n",
       "\n",
       "       Customer_Gender    Country       State Product_Category Sub_Category  \\\n",
       "112073               M  Australia  Queensland         Clothing        Vests   \n",
       "\n",
       "                        Product  Order_Quantity  Unit_Cost  Unit_Price  \\\n",
       "112073  Touring-1000 Yellow, 50            29.0     1482.0      2384.0   \n",
       "\n",
       "         Profit     Cost  Revenue  Revenue_per_Age  Profit_per_Age  \n",
       "112073  15096.0  42978.0  58074.0      1116.807692      290.307692  "
      ]
     },
     "execution_count": 69,
     "metadata": {},
     "output_type": "execute_result"
    }
   ],
   "source": [
    "cond = bike_sales['Revenue'] == bike_sales['Revenue'].max()\n",
    "\n",
    "bike_sales.loc[cond]"
   ]
  },
  {
   "cell_type": "code",
   "execution_count": 67,
   "id": "c467a4da",
   "metadata": {},
   "outputs": [
    {
     "data": {
      "text/plain": [
       "3.7218934911242605"
      ]
     },
     "execution_count": 67,
     "metadata": {},
     "output_type": "execute_result"
    }
   ],
   "source": [
    "cond = bike_sales['Revenue'] > 10_000\n",
    "\n",
    "bike_sales.loc[cond, 'Order_Quantity'].mean()"
   ]
  },
  {
   "cell_type": "code",
   "execution_count": 66,
   "id": "8d35f3d6",
   "metadata": {},
   "outputs": [
    {
     "data": {
      "text/plain": [
       "11.913907519469818"
      ]
     },
     "execution_count": 66,
     "metadata": {},
     "output_type": "execute_result"
    }
   ],
   "source": [
    "cond = bike_sales['Revenue'] < 10_000\n",
    "\n",
    "bike_sales.loc[cond, 'Order_Quantity'].mean()"
   ]
  },
  {
   "cell_type": "code",
   "execution_count": 65,
   "id": "46c954a3",
   "metadata": {},
   "outputs": [
    {
     "data": {
      "text/plain": [
       "12164"
      ]
     },
     "execution_count": 65,
     "metadata": {},
     "output_type": "execute_result"
    }
   ],
   "source": [
    "cond = (bike_sales['Year'] == 2016) & (bike_sales['Month'].isin(['May', 'June', 'July']))\n",
    "\n",
    "bike_sales.loc[cond].shape[0]"
   ]
  }
 ],
 "metadata": {
  "kernelspec": {
   "display_name": "Python 3 (ipykernel)",
   "language": "python",
   "name": "python3"
  },
  "language_info": {
   "codemirror_mode": {
    "name": "ipython",
    "version": 3
   },
   "file_extension": ".py",
   "mimetype": "text/x-python",
   "name": "python",
   "nbconvert_exporter": "python",
   "pygments_lexer": "ipython3",
   "version": "3.9.12"
  }
 },
 "nbformat": 4,
 "nbformat_minor": 5
}
