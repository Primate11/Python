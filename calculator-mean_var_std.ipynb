{
 "cells": [
  {
   "cell_type": "code",
   "execution_count": 172,
   "id": "eefb395a",
   "metadata": {},
   "outputs": [],
   "source": [
    "#mean variance calculator\n",
    "import numpy as np\n",
    "import math\n",
    "\n",
    "\n",
    "def calculate(dgits):#Please enter 9 figures as a list [], separated by commas.exqmple:[2,62,8,4,1,5,7,4]\n",
    "    \"\"\"input: list containing 9 digits separeted by commas.\n",
    "              The function convert the list into a 3 x 3 Numpy array, \n",
    "              and then return a dictionary containing the mean, variance, \n",
    "              standard deviation, max, min, and sum along both axes and for the flattened matrix.\n",
    "    \"\"\" \n",
    "    try:    \n",
    "        dgits = np.array(dgits)\n",
    "        mat = dgits.reshape(3,3)\n",
    "        \n",
    "\n",
    "        flat = mat.flatten(order='A')\n",
    "        result = {\n",
    "    \n",
    "                'mean': [mat.mean(axis=0).tolist(), mat.mean(axis=1).tolist(), flat.mean().tolist()],\n",
    "                'variance': [mat.var(axis=0).tolist(), mat.var(axis=1).tolist(), flat.var().tolist()],\n",
    "                'standard deviation': [np.std(mat).tolist(), np.std(mat, axis=0).tolist(),np.std(mat, axis=1).tolist()],\n",
    "                'max': [mat.max(0).tolist(), mat.max(1).tolist(),flat.max().tolist()],\n",
    "                'min': [mat.min(0).tolist(), mat.min(1).tolist(),flat.min().tolist()],\n",
    "                'sum': [mat.sum(0).tolist(), mat.sum(1).tolist(), flat.sum().tolist()]                             \n",
    "\n",
    "                 }\n",
    "            \n",
    "        \n",
    "        return result\n",
    "\n",
    "    except ValueError as e:\n",
    "        \n",
    "        return type(e), \"List must contain nine numbers. \"\n",
    "\n"
   ]
  },
  {
   "cell_type": "code",
   "execution_count": 174,
   "id": "a93258a8",
   "metadata": {},
   "outputs": [
    {
     "data": {
      "text/plain": [
       "{'mean': [[3.0, 4.0, 5.0], [1.0, 4.0, 7.0], 4.0],\n",
       " 'variance': [[6.0, 6.0, 6.0],\n",
       "  [0.6666666666666666, 0.6666666666666666, 0.6666666666666666],\n",
       "  6.666666666666667],\n",
       " 'standard deviation': [2.581988897471611,\n",
       "  [2.449489742783178, 2.449489742783178, 2.449489742783178],\n",
       "  [0.816496580927726, 0.816496580927726, 0.816496580927726]],\n",
       " 'max': [[6, 7, 8], [2, 5, 8], 8],\n",
       " 'min': [[0, 1, 2], [0, 3, 6], 0],\n",
       " 'sum': [[9, 12, 15], [3, 12, 21], 36]}"
      ]
     },
     "execution_count": 174,
     "metadata": {},
     "output_type": "execute_result"
    }
   ],
   "source": [
    "calculate([0,1,2,3,4,5,6,7,8])"
   ]
  }
 ],
 "metadata": {
  "kernelspec": {
   "display_name": "Python 3 (ipykernel)",
   "language": "python",
   "name": "python3"
  },
  "language_info": {
   "codemirror_mode": {
    "name": "ipython",
    "version": 3
   },
   "file_extension": ".py",
   "mimetype": "text/x-python",
   "name": "python",
   "nbconvert_exporter": "python",
   "pygments_lexer": "ipython3",
   "version": "3.9.12"
  }
 },
 "nbformat": 4,
 "nbformat_minor": 5
}
