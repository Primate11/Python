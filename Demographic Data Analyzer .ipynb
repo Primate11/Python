{
 "cells": [
  {
   "cell_type": "markdown",
   "id": "c3d9019e",
   "metadata": {},
   "source": [
    "# Querry data with Pandas:"
   ]
  },
  {
   "cell_type": "markdown",
   "id": "3b3ad665",
   "metadata": {},
   "source": [
    "How many people of each race are represented in this dataset? \n",
    "What is the average age of men?\n",
    "What is the percentage of people who have a Bachelor's degree?\n",
    "What percentage of people with advanced education (Bachelors, Masters, or Doctorate) make more than 50K?\n",
    "What percentage of people without advanced education make more than 50K?\n",
    "What is the minimum number of hours a person works per week?\n",
    "What percentage of the people who work the minimum number of hours per week have a salary of more than 50K?\n",
    "What country has the highest percentage of people that earn >50K and what is that percentage?\n",
    "Identify the most popular occupation for those who earn >50K in India.\n",
    "Use the starter code in the file demographic_data_analyzer. Update the code so all variables set to \"None\" are set to the appropriate calculation or code."
   ]
  },
  {
   "cell_type": "code",
   "execution_count": 179,
   "id": "c6a21c52",
   "metadata": {},
   "outputs": [],
   "source": [
    "import pandas as pd\n",
    "import numpy as np\n",
    "\n",
    "df = pd.read_csv(r'C:\\Users\\igieo\\Desktop\\adult.data.csv')\n"
   ]
  },
  {
   "cell_type": "code",
   "execution_count": 375,
   "id": "ce14e4e0",
   "metadata": {},
   "outputs": [
    {
     "data": {
      "text/html": [
       "<div>\n",
       "<style scoped>\n",
       "    .dataframe tbody tr th:only-of-type {\n",
       "        vertical-align: middle;\n",
       "    }\n",
       "\n",
       "    .dataframe tbody tr th {\n",
       "        vertical-align: top;\n",
       "    }\n",
       "\n",
       "    .dataframe thead th {\n",
       "        text-align: right;\n",
       "    }\n",
       "</style>\n",
       "<table border=\"1\" class=\"dataframe\">\n",
       "  <thead>\n",
       "    <tr style=\"text-align: right;\">\n",
       "      <th></th>\n",
       "      <th>age</th>\n",
       "      <th>workclass</th>\n",
       "      <th>fnlwgt</th>\n",
       "      <th>education</th>\n",
       "      <th>education-num</th>\n",
       "      <th>marital-status</th>\n",
       "      <th>occupation</th>\n",
       "      <th>relationship</th>\n",
       "      <th>race</th>\n",
       "      <th>sex</th>\n",
       "      <th>capital-gain</th>\n",
       "      <th>capital-loss</th>\n",
       "      <th>hours-per-week</th>\n",
       "      <th>native-country</th>\n",
       "      <th>salary</th>\n",
       "    </tr>\n",
       "  </thead>\n",
       "  <tbody>\n",
       "    <tr>\n",
       "      <th>25591</th>\n",
       "      <td>52</td>\n",
       "      <td>Private</td>\n",
       "      <td>153751</td>\n",
       "      <td>9th</td>\n",
       "      <td>5</td>\n",
       "      <td>Separated</td>\n",
       "      <td>Other-service</td>\n",
       "      <td>Not-in-family</td>\n",
       "      <td>Black</td>\n",
       "      <td>Female</td>\n",
       "      <td>0</td>\n",
       "      <td>0</td>\n",
       "      <td>30</td>\n",
       "      <td>United-States</td>\n",
       "      <td>&lt;=50K</td>\n",
       "    </tr>\n",
       "    <tr>\n",
       "      <th>10759</th>\n",
       "      <td>37</td>\n",
       "      <td>Private</td>\n",
       "      <td>321943</td>\n",
       "      <td>Prof-school</td>\n",
       "      <td>15</td>\n",
       "      <td>Married-civ-spouse</td>\n",
       "      <td>Prof-specialty</td>\n",
       "      <td>Husband</td>\n",
       "      <td>White</td>\n",
       "      <td>Male</td>\n",
       "      <td>0</td>\n",
       "      <td>0</td>\n",
       "      <td>40</td>\n",
       "      <td>United-States</td>\n",
       "      <td>&gt;50K</td>\n",
       "    </tr>\n",
       "    <tr>\n",
       "      <th>32292</th>\n",
       "      <td>41</td>\n",
       "      <td>Private</td>\n",
       "      <td>318046</td>\n",
       "      <td>Some-college</td>\n",
       "      <td>10</td>\n",
       "      <td>Married-civ-spouse</td>\n",
       "      <td>Transport-moving</td>\n",
       "      <td>Husband</td>\n",
       "      <td>White</td>\n",
       "      <td>Male</td>\n",
       "      <td>0</td>\n",
       "      <td>0</td>\n",
       "      <td>48</td>\n",
       "      <td>United-States</td>\n",
       "      <td>&gt;50K</td>\n",
       "    </tr>\n",
       "    <tr>\n",
       "      <th>10152</th>\n",
       "      <td>29</td>\n",
       "      <td>Private</td>\n",
       "      <td>29865</td>\n",
       "      <td>HS-grad</td>\n",
       "      <td>9</td>\n",
       "      <td>Divorced</td>\n",
       "      <td>Sales</td>\n",
       "      <td>Not-in-family</td>\n",
       "      <td>Amer-Indian-Eskimo</td>\n",
       "      <td>Female</td>\n",
       "      <td>0</td>\n",
       "      <td>0</td>\n",
       "      <td>50</td>\n",
       "      <td>United-States</td>\n",
       "      <td>&lt;=50K</td>\n",
       "    </tr>\n",
       "    <tr>\n",
       "      <th>16631</th>\n",
       "      <td>27</td>\n",
       "      <td>Private</td>\n",
       "      <td>112754</td>\n",
       "      <td>Bachelors</td>\n",
       "      <td>13</td>\n",
       "      <td>Married-civ-spouse</td>\n",
       "      <td>Exec-managerial</td>\n",
       "      <td>Husband</td>\n",
       "      <td>White</td>\n",
       "      <td>Male</td>\n",
       "      <td>0</td>\n",
       "      <td>1485</td>\n",
       "      <td>60</td>\n",
       "      <td>United-States</td>\n",
       "      <td>&gt;50K</td>\n",
       "    </tr>\n",
       "    <tr>\n",
       "      <th>13031</th>\n",
       "      <td>35</td>\n",
       "      <td>Private</td>\n",
       "      <td>298635</td>\n",
       "      <td>Bachelors</td>\n",
       "      <td>13</td>\n",
       "      <td>Never-married</td>\n",
       "      <td>Sales</td>\n",
       "      <td>Not-in-family</td>\n",
       "      <td>Asian-Pac-Islander</td>\n",
       "      <td>Male</td>\n",
       "      <td>0</td>\n",
       "      <td>0</td>\n",
       "      <td>50</td>\n",
       "      <td>United-States</td>\n",
       "      <td>&lt;=50K</td>\n",
       "    </tr>\n",
       "  </tbody>\n",
       "</table>\n",
       "</div>"
      ],
      "text/plain": [
       "       age workclass  fnlwgt     education  education-num      marital-status  \\\n",
       "25591   52   Private  153751           9th              5           Separated   \n",
       "10759   37   Private  321943   Prof-school             15  Married-civ-spouse   \n",
       "32292   41   Private  318046  Some-college             10  Married-civ-spouse   \n",
       "10152   29   Private   29865       HS-grad              9            Divorced   \n",
       "16631   27   Private  112754     Bachelors             13  Married-civ-spouse   \n",
       "13031   35   Private  298635     Bachelors             13       Never-married   \n",
       "\n",
       "             occupation   relationship                race     sex  \\\n",
       "25591     Other-service  Not-in-family               Black  Female   \n",
       "10759    Prof-specialty        Husband               White    Male   \n",
       "32292  Transport-moving        Husband               White    Male   \n",
       "10152             Sales  Not-in-family  Amer-Indian-Eskimo  Female   \n",
       "16631   Exec-managerial        Husband               White    Male   \n",
       "13031             Sales  Not-in-family  Asian-Pac-Islander    Male   \n",
       "\n",
       "       capital-gain  capital-loss  hours-per-week native-country salary  \n",
       "25591             0             0              30  United-States  <=50K  \n",
       "10759             0             0              40  United-States   >50K  \n",
       "32292             0             0              48  United-States   >50K  \n",
       "10152             0             0              50  United-States  <=50K  \n",
       "16631             0          1485              60  United-States   >50K  \n",
       "13031             0             0              50  United-States  <=50K  "
      ]
     },
     "execution_count": 375,
     "metadata": {},
     "output_type": "execute_result"
    }
   ],
   "source": [
    "df.sample(6)"
   ]
  },
  {
   "cell_type": "code",
   "execution_count": 387,
   "id": "8c2b1edc",
   "metadata": {},
   "outputs": [
    {
     "data": {
      "text/plain": [
       "White                 27816\n",
       "Black                  3124\n",
       "Asian-Pac-Islander     1039\n",
       "Amer-Indian-Eskimo      311\n",
       "Other                   271\n",
       "Name: race, dtype: int64"
      ]
     },
     "execution_count": 387,
     "metadata": {},
     "output_type": "execute_result"
    }
   ],
   "source": [
    "# How many of each race are represented in this dataset? This should be a Pandas series with race names as the index labels.\n",
    "race_count = df['race'].value_counts()\n",
    "race_count"
   ]
  },
  {
   "cell_type": "code",
   "execution_count": 421,
   "id": "7039e457",
   "metadata": {},
   "outputs": [
    {
     "data": {
      "text/plain": [
       "39.43"
      ]
     },
     "execution_count": 421,
     "metadata": {},
     "output_type": "execute_result"
    }
   ],
   "source": [
    "# What is the average age of men?\n",
    "average_age_men = df[df.sex == 'Male'].age.mean()\n",
    "round(average_age_men, 2)"
   ]
  },
  {
   "cell_type": "code",
   "execution_count": 397,
   "id": "d2801808",
   "metadata": {},
   "outputs": [
    {
     "data": {
      "text/plain": [
       "16.45"
      ]
     },
     "execution_count": 397,
     "metadata": {},
     "output_type": "execute_result"
    }
   ],
   "source": [
    "# What is the percentage of people who have a Bachelor's degree?\n",
    "percentage_bachelors = (df.education.value_counts().Bachelors)/(df.education.value_counts().sum())*100\n",
    "percentage_bachelors.round(2)"
   ]
  },
  {
   "cell_type": "code",
   "execution_count": 396,
   "id": "3926deb7",
   "metadata": {},
   "outputs": [
    {
     "data": {
      "text/plain": [
       "23.01"
      ]
     },
     "execution_count": 396,
     "metadata": {},
     "output_type": "execute_result"
    }
   ],
   "source": [
    "# What percentage of people with advanced education (`Bachelors`, `Masters`, or `Doctorate`) make more than 50K?\n",
    "# What percentage of people without advanced education make more than 50K?\n",
    "\n",
    "# with and without `Bachelors`, `Masters`, or `Doctorate`\n",
    "higher_education = df.loc[df['education'].isin(['Bachelors','Masters','Doctorate'])].education.value_counts().sum()/df.education.value_counts().sum()* 100\n",
    "higher_education.round(2)\n"
   ]
  },
  {
   "cell_type": "code",
   "execution_count": 398,
   "id": "7e0742db",
   "metadata": {},
   "outputs": [
    {
     "data": {
      "text/plain": [
       "76.99"
      ]
     },
     "execution_count": 398,
     "metadata": {},
     "output_type": "execute_result"
    }
   ],
   "source": [
    "# without `Bachelors`, `Masters`, or `Doctorate`\n",
    "lower_education = 100 - higher_education\n",
    "lower_education.round(2)\n",
    "\n"
   ]
  },
  {
   "cell_type": "code",
   "execution_count": 399,
   "id": "ad6fd240",
   "metadata": {},
   "outputs": [
    {
     "data": {
      "text/plain": [
       "17.37"
      ]
     },
     "execution_count": 399,
     "metadata": {},
     "output_type": "execute_result"
    }
   ],
   "source": [
    "# percentage with salary >50K\n",
    "higher_education_rich = ((df.loc[df['education'].isin(['Bachelors','Masters','Doctorate'])].salary.value_counts()).loc['>50K'])/(df.loc[df['education'].isin(['Bachelors','Masters','Doctorate'])].education.value_counts().sum())*100\n",
    "ttle = df.education.value_counts().sum() - df.loc[df['education'].isin(['Bachelors','Masters','Doctorate'])].education.value_counts().sum()\n",
    "ttler = df.salary.value_counts().loc['>50K'] - (df.loc[df['education'].isin(['Bachelors','Masters','Doctorate'])].salary.value_counts()).loc['>50K']\n",
    "lower_education_rich = ttler/ttle*100\n",
    "lower_education_rich.round(2)"
   ]
  },
  {
   "cell_type": "code",
   "execution_count": 384,
   "id": "41c85ec6",
   "metadata": {},
   "outputs": [
    {
     "data": {
      "text/plain": [
       "1"
      ]
     },
     "execution_count": 384,
     "metadata": {},
     "output_type": "execute_result"
    }
   ],
   "source": [
    "# What is the minimum number of hours a person works per week (hours-per-week feature)?\n",
    "min_work_hours = df['hours-per-week'].min()\n",
    "\n",
    "min_work_hours "
   ]
  },
  {
   "cell_type": "code",
   "execution_count": 382,
   "id": "11164f39",
   "metadata": {},
   "outputs": [
    {
     "data": {
      "text/plain": [
       "10.0"
      ]
     },
     "execution_count": 382,
     "metadata": {},
     "output_type": "execute_result"
    }
   ],
   "source": [
    "# What percentage of the people who work the minimum number of hours per week have a salary of >50K?\n",
    "num_min_workers = (df['hours-per-week'] == min_work_hours).sum()\n",
    "\n",
    "rich_percentage = (df.loc[(df['salary']=='>50K') & (df['hours-per-week']==min_work_hours)])['hours-per-week'].sum()/num_min_workers*100\n",
    "rich_percentage"
   ]
  },
  {
   "cell_type": "code",
   "execution_count": 425,
   "id": "4495c394",
   "metadata": {},
   "outputs": [
    {
     "data": {
      "text/plain": [
       "'Iran'"
      ]
     },
     "execution_count": 425,
     "metadata": {},
     "output_type": "execute_result"
    }
   ],
   "source": [
    "# What country has the highest percentage of people that earn >50K?\n",
    "dn1 = df['native-country'][df.salary == '>50K'].value_counts()\n",
    "dn2 = df['native-country'].value_counts()\n",
    "df2 = pd.concat([dn1, dn2], axis=1)\n",
    "df2.columns = ['countryr', 'countryt']\n",
    "df2['perc_country'] = df2.countryr/df2.countryt\n",
    "\n",
    "highest_earning_country = df2['perc_country'].idxmax()\n",
    "highest_earning_country"
   ]
  },
  {
   "cell_type": "code",
   "execution_count": 426,
   "id": "79c424db",
   "metadata": {},
   "outputs": [
    {
     "data": {
      "text/plain": [
       "41.9"
      ]
     },
     "execution_count": 426,
     "metadata": {},
     "output_type": "execute_result"
    }
   ],
   "source": [
    "    \n",
    "#highest_earning_country_percentage \n",
    "round(df2['perc_country'].max()*100,1)\n"
   ]
  },
  {
   "cell_type": "code",
   "execution_count": 378,
   "id": "4194bf84",
   "metadata": {},
   "outputs": [
    {
     "data": {
      "text/plain": [
       "'Prof-specialty'"
      ]
     },
     "execution_count": 378,
     "metadata": {},
     "output_type": "execute_result"
    }
   ],
   "source": [
    "#Identify the most popular occupation for those who earn >50K in India.top_IN_occupation = \n",
    "df['occupation'][df.salary == '>50K'][df['native-country'] == 'India' ].value_counts().index[0]"
   ]
  }
 ],
 "metadata": {
  "kernelspec": {
   "display_name": "Python 3 (ipykernel)",
   "language": "python",
   "name": "python3"
  },
  "language_info": {
   "codemirror_mode": {
    "name": "ipython",
    "version": 3
   },
   "file_extension": ".py",
   "mimetype": "text/x-python",
   "name": "python",
   "nbconvert_exporter": "python",
   "pygments_lexer": "ipython3",
   "version": "3.9.12"
  }
 },
 "nbformat": 4,
 "nbformat_minor": 5
}
